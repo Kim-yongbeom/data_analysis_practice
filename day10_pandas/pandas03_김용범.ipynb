{
 "cells": [
  {
   "cell_type": "code",
   "execution_count": 1,
   "id": "2271b5ad",
   "metadata": {},
   "outputs": [],
   "source": [
    "import pandas as pd"
   ]
  },
  {
   "cell_type": "code",
   "execution_count": 2,
   "id": "0298346e",
   "metadata": {},
   "outputs": [
    {
     "data": {
      "text/html": [
       "<div>\n",
       "<style scoped>\n",
       "    .dataframe tbody tr th:only-of-type {\n",
       "        vertical-align: middle;\n",
       "    }\n",
       "\n",
       "    .dataframe tbody tr th {\n",
       "        vertical-align: top;\n",
       "    }\n",
       "\n",
       "    .dataframe thead th {\n",
       "        text-align: right;\n",
       "    }\n",
       "</style>\n",
       "<table border=\"1\" class=\"dataframe\">\n",
       "  <thead>\n",
       "    <tr style=\"text-align: right;\">\n",
       "      <th></th>\n",
       "      <th>성명</th>\n",
       "      <th>나이</th>\n",
       "      <th>성별</th>\n",
       "      <th>키</th>\n",
       "      <th>체중</th>\n",
       "    </tr>\n",
       "  </thead>\n",
       "  <tbody>\n",
       "    <tr>\n",
       "      <th>0</th>\n",
       "      <td>이겨레</td>\n",
       "      <td>25</td>\n",
       "      <td>남</td>\n",
       "      <td>185</td>\n",
       "      <td>89</td>\n",
       "    </tr>\n",
       "    <tr>\n",
       "      <th>1</th>\n",
       "      <td>조약돌</td>\n",
       "      <td>19</td>\n",
       "      <td>여</td>\n",
       "      <td>163</td>\n",
       "      <td>53</td>\n",
       "    </tr>\n",
       "  </tbody>\n",
       "</table>\n",
       "</div>"
      ],
      "text/plain": [
       "    성명  나이 성별    키  체중\n",
       "0  이겨레  25  남  185  89\n",
       "1  조약돌  19  여  163  53"
      ]
     },
     "execution_count": 2,
     "metadata": {},
     "output_type": "execute_result"
    }
   ],
   "source": [
    "df = pd.DataFrame([['이겨레',25,'남',185,89],\n",
    "                   ['조약돌',19,'여',163,53]],\n",
    "                   columns=['성명','나이','성별','키','체중']\n",
    "                  )\n",
    "df"
   ]
  },
  {
   "cell_type": "code",
   "execution_count": 3,
   "id": "a36d9a9d",
   "metadata": {},
   "outputs": [
    {
     "data": {
      "text/plain": [
       "0    이겨레\n",
       "1    조약돌\n",
       "Name: 성명, dtype: object"
      ]
     },
     "execution_count": 3,
     "metadata": {},
     "output_type": "execute_result"
    }
   ],
   "source": [
    "a = df['성명']\n",
    "a"
   ]
  },
  {
   "cell_type": "code",
   "execution_count": 4,
   "id": "042c6ff0",
   "metadata": {},
   "outputs": [
    {
     "data": {
      "text/plain": [
       "0    25\n",
       "1    19\n",
       "Name: 나이, dtype: int64"
      ]
     },
     "execution_count": 4,
     "metadata": {},
     "output_type": "execute_result"
    }
   ],
   "source": [
    "df.나이"
   ]
  },
  {
   "cell_type": "code",
   "execution_count": 5,
   "id": "0cf07a1a",
   "metadata": {},
   "outputs": [
    {
     "data": {
      "text/plain": [
       "0    남\n",
       "1    여\n",
       "Name: 성별, dtype: object"
      ]
     },
     "execution_count": 5,
     "metadata": {},
     "output_type": "execute_result"
    }
   ],
   "source": [
    "df.성별"
   ]
  },
  {
   "cell_type": "code",
   "execution_count": 6,
   "id": "334e3a75",
   "metadata": {},
   "outputs": [
    {
     "data": {
      "text/html": [
       "<div>\n",
       "<style scoped>\n",
       "    .dataframe tbody tr th:only-of-type {\n",
       "        vertical-align: middle;\n",
       "    }\n",
       "\n",
       "    .dataframe tbody tr th {\n",
       "        vertical-align: top;\n",
       "    }\n",
       "\n",
       "    .dataframe thead th {\n",
       "        text-align: right;\n",
       "    }\n",
       "</style>\n",
       "<table border=\"1\" class=\"dataframe\">\n",
       "  <thead>\n",
       "    <tr style=\"text-align: right;\">\n",
       "      <th></th>\n",
       "      <th>성명</th>\n",
       "      <th>나이</th>\n",
       "      <th>성별</th>\n",
       "      <th>키</th>\n",
       "      <th>체중</th>\n",
       "    </tr>\n",
       "  </thead>\n",
       "  <tbody>\n",
       "    <tr>\n",
       "      <th>0</th>\n",
       "      <td>이겨레</td>\n",
       "      <td>25</td>\n",
       "      <td>남</td>\n",
       "      <td>185</td>\n",
       "      <td>89</td>\n",
       "    </tr>\n",
       "    <tr>\n",
       "      <th>1</th>\n",
       "      <td>조약돌</td>\n",
       "      <td>19</td>\n",
       "      <td>여</td>\n",
       "      <td>163</td>\n",
       "      <td>53</td>\n",
       "    </tr>\n",
       "  </tbody>\n",
       "</table>\n",
       "</div>"
      ],
      "text/plain": [
       "    성명  나이 성별    키  체중\n",
       "0  이겨레  25  남  185  89\n",
       "1  조약돌  19  여  163  53"
      ]
     },
     "execution_count": 6,
     "metadata": {},
     "output_type": "execute_result"
    }
   ],
   "source": [
    "df = pd.DataFrame([['이겨레',25,'남',185,89],\n",
    "                   ['조약돌',19,'여',163,53]],\n",
    "                   columns=['성명','나이','성별','키','체중']\n",
    "                  )\n",
    "df"
   ]
  },
  {
   "cell_type": "code",
   "execution_count": 7,
   "id": "03027b5d",
   "metadata": {},
   "outputs": [
    {
     "data": {
      "text/html": [
       "<div>\n",
       "<style scoped>\n",
       "    .dataframe tbody tr th:only-of-type {\n",
       "        vertical-align: middle;\n",
       "    }\n",
       "\n",
       "    .dataframe tbody tr th {\n",
       "        vertical-align: top;\n",
       "    }\n",
       "\n",
       "    .dataframe thead th {\n",
       "        text-align: right;\n",
       "    }\n",
       "</style>\n",
       "<table border=\"1\" class=\"dataframe\">\n",
       "  <thead>\n",
       "    <tr style=\"text-align: right;\">\n",
       "      <th></th>\n",
       "      <th>성명</th>\n",
       "      <th>키</th>\n",
       "      <th>체중</th>\n",
       "    </tr>\n",
       "  </thead>\n",
       "  <tbody>\n",
       "    <tr>\n",
       "      <th>0</th>\n",
       "      <td>이겨레</td>\n",
       "      <td>185</td>\n",
       "      <td>89</td>\n",
       "    </tr>\n",
       "    <tr>\n",
       "      <th>1</th>\n",
       "      <td>조약돌</td>\n",
       "      <td>163</td>\n",
       "      <td>53</td>\n",
       "    </tr>\n",
       "  </tbody>\n",
       "</table>\n",
       "</div>"
      ],
      "text/plain": [
       "    성명    키  체중\n",
       "0  이겨레  185  89\n",
       "1  조약돌  163  53"
      ]
     },
     "execution_count": 7,
     "metadata": {},
     "output_type": "execute_result"
    }
   ],
   "source": [
    "df[['성명','키','체중']]"
   ]
  },
  {
   "cell_type": "code",
   "execution_count": 8,
   "id": "c204bab5",
   "metadata": {},
   "outputs": [
    {
     "data": {
      "text/html": [
       "<div>\n",
       "<style scoped>\n",
       "    .dataframe tbody tr th:only-of-type {\n",
       "        vertical-align: middle;\n",
       "    }\n",
       "\n",
       "    .dataframe tbody tr th {\n",
       "        vertical-align: top;\n",
       "    }\n",
       "\n",
       "    .dataframe thead th {\n",
       "        text-align: right;\n",
       "    }\n",
       "</style>\n",
       "<table border=\"1\" class=\"dataframe\">\n",
       "  <thead>\n",
       "    <tr style=\"text-align: right;\">\n",
       "      <th></th>\n",
       "      <th>나이</th>\n",
       "    </tr>\n",
       "  </thead>\n",
       "  <tbody>\n",
       "    <tr>\n",
       "      <th>0</th>\n",
       "      <td>25</td>\n",
       "    </tr>\n",
       "    <tr>\n",
       "      <th>1</th>\n",
       "      <td>19</td>\n",
       "    </tr>\n",
       "  </tbody>\n",
       "</table>\n",
       "</div>"
      ],
      "text/plain": [
       "   나이\n",
       "0  25\n",
       "1  19"
      ]
     },
     "execution_count": 8,
     "metadata": {},
     "output_type": "execute_result"
    }
   ],
   "source": [
    "df[['나이']]"
   ]
  },
  {
   "cell_type": "code",
   "execution_count": 9,
   "id": "47fefd6c",
   "metadata": {},
   "outputs": [
    {
     "data": {
      "text/html": [
       "<div>\n",
       "<style scoped>\n",
       "    .dataframe tbody tr th:only-of-type {\n",
       "        vertical-align: middle;\n",
       "    }\n",
       "\n",
       "    .dataframe tbody tr th {\n",
       "        vertical-align: top;\n",
       "    }\n",
       "\n",
       "    .dataframe thead th {\n",
       "        text-align: right;\n",
       "    }\n",
       "</style>\n",
       "<table border=\"1\" class=\"dataframe\">\n",
       "  <thead>\n",
       "    <tr style=\"text-align: right;\">\n",
       "      <th></th>\n",
       "      <th>성명</th>\n",
       "      <th>나이</th>\n",
       "      <th>성별</th>\n",
       "      <th>키</th>\n",
       "      <th>체중</th>\n",
       "    </tr>\n",
       "  </thead>\n",
       "  <tbody>\n",
       "    <tr>\n",
       "      <th>0</th>\n",
       "      <td>이겨레</td>\n",
       "      <td>25</td>\n",
       "      <td>남</td>\n",
       "      <td>185</td>\n",
       "      <td>89</td>\n",
       "    </tr>\n",
       "    <tr>\n",
       "      <th>1</th>\n",
       "      <td>조약돌</td>\n",
       "      <td>19</td>\n",
       "      <td>여</td>\n",
       "      <td>163</td>\n",
       "      <td>53</td>\n",
       "    </tr>\n",
       "  </tbody>\n",
       "</table>\n",
       "</div>"
      ],
      "text/plain": [
       "    성명  나이 성별    키  체중\n",
       "0  이겨레  25  남  185  89\n",
       "1  조약돌  19  여  163  53"
      ]
     },
     "execution_count": 9,
     "metadata": {},
     "output_type": "execute_result"
    }
   ],
   "source": [
    "df"
   ]
  },
  {
   "cell_type": "markdown",
   "id": "483ea676",
   "metadata": {},
   "source": [
    "### 열 추가"
   ]
  },
  {
   "cell_type": "code",
   "execution_count": 10,
   "id": "456e6028",
   "metadata": {},
   "outputs": [],
   "source": [
    "df['BMI']=0"
   ]
  },
  {
   "cell_type": "code",
   "execution_count": 11,
   "id": "2f643cac",
   "metadata": {},
   "outputs": [
    {
     "data": {
      "text/html": [
       "<div>\n",
       "<style scoped>\n",
       "    .dataframe tbody tr th:only-of-type {\n",
       "        vertical-align: middle;\n",
       "    }\n",
       "\n",
       "    .dataframe tbody tr th {\n",
       "        vertical-align: top;\n",
       "    }\n",
       "\n",
       "    .dataframe thead th {\n",
       "        text-align: right;\n",
       "    }\n",
       "</style>\n",
       "<table border=\"1\" class=\"dataframe\">\n",
       "  <thead>\n",
       "    <tr style=\"text-align: right;\">\n",
       "      <th></th>\n",
       "      <th>성명</th>\n",
       "      <th>나이</th>\n",
       "      <th>성별</th>\n",
       "      <th>키</th>\n",
       "      <th>체중</th>\n",
       "      <th>BMI</th>\n",
       "    </tr>\n",
       "  </thead>\n",
       "  <tbody>\n",
       "    <tr>\n",
       "      <th>0</th>\n",
       "      <td>이겨레</td>\n",
       "      <td>25</td>\n",
       "      <td>남</td>\n",
       "      <td>185</td>\n",
       "      <td>89</td>\n",
       "      <td>0</td>\n",
       "    </tr>\n",
       "    <tr>\n",
       "      <th>1</th>\n",
       "      <td>조약돌</td>\n",
       "      <td>19</td>\n",
       "      <td>여</td>\n",
       "      <td>163</td>\n",
       "      <td>53</td>\n",
       "      <td>0</td>\n",
       "    </tr>\n",
       "  </tbody>\n",
       "</table>\n",
       "</div>"
      ],
      "text/plain": [
       "    성명  나이 성별    키  체중  BMI\n",
       "0  이겨레  25  남  185  89    0\n",
       "1  조약돌  19  여  163  53    0"
      ]
     },
     "execution_count": 11,
     "metadata": {},
     "output_type": "execute_result"
    }
   ],
   "source": [
    "df"
   ]
  },
  {
   "cell_type": "markdown",
   "id": "fa367cf2",
   "metadata": {},
   "source": [
    "### 행 추가"
   ]
  },
  {
   "cell_type": "code",
   "execution_count": 12,
   "id": "0ead6bd6",
   "metadata": {},
   "outputs": [
    {
     "data": {
      "text/html": [
       "<div>\n",
       "<style scoped>\n",
       "    .dataframe tbody tr th:only-of-type {\n",
       "        vertical-align: middle;\n",
       "    }\n",
       "\n",
       "    .dataframe tbody tr th {\n",
       "        vertical-align: top;\n",
       "    }\n",
       "\n",
       "    .dataframe thead th {\n",
       "        text-align: right;\n",
       "    }\n",
       "</style>\n",
       "<table border=\"1\" class=\"dataframe\">\n",
       "  <thead>\n",
       "    <tr style=\"text-align: right;\">\n",
       "      <th></th>\n",
       "      <th>성명</th>\n",
       "      <th>나이</th>\n",
       "      <th>성별</th>\n",
       "      <th>키</th>\n",
       "      <th>체중</th>\n",
       "      <th>BMI</th>\n",
       "    </tr>\n",
       "  </thead>\n",
       "  <tbody>\n",
       "    <tr>\n",
       "      <th>0</th>\n",
       "      <td>이겨레</td>\n",
       "      <td>25</td>\n",
       "      <td>남</td>\n",
       "      <td>185</td>\n",
       "      <td>89</td>\n",
       "      <td>0</td>\n",
       "    </tr>\n",
       "    <tr>\n",
       "      <th>1</th>\n",
       "      <td>조약돌</td>\n",
       "      <td>19</td>\n",
       "      <td>여</td>\n",
       "      <td>163</td>\n",
       "      <td>53</td>\n",
       "      <td>0</td>\n",
       "    </tr>\n",
       "    <tr>\n",
       "      <th>2</th>\n",
       "      <td>0</td>\n",
       "      <td>0</td>\n",
       "      <td>0</td>\n",
       "      <td>0</td>\n",
       "      <td>0</td>\n",
       "      <td>0</td>\n",
       "    </tr>\n",
       "  </tbody>\n",
       "</table>\n",
       "</div>"
      ],
      "text/plain": [
       "    성명  나이 성별    키  체중  BMI\n",
       "0  이겨레  25  남  185  89    0\n",
       "1  조약돌  19  여  163  53    0\n",
       "2    0   0  0    0   0    0"
      ]
     },
     "execution_count": 12,
     "metadata": {},
     "output_type": "execute_result"
    }
   ],
   "source": [
    "df.loc[2] = 0\n",
    "df"
   ]
  },
  {
   "cell_type": "code",
   "execution_count": 14,
   "id": "a315c621",
   "metadata": {},
   "outputs": [
    {
     "data": {
      "text/html": [
       "<div>\n",
       "<style scoped>\n",
       "    .dataframe tbody tr th:only-of-type {\n",
       "        vertical-align: middle;\n",
       "    }\n",
       "\n",
       "    .dataframe tbody tr th {\n",
       "        vertical-align: top;\n",
       "    }\n",
       "\n",
       "    .dataframe thead th {\n",
       "        text-align: right;\n",
       "    }\n",
       "</style>\n",
       "<table border=\"1\" class=\"dataframe\">\n",
       "  <thead>\n",
       "    <tr style=\"text-align: right;\">\n",
       "      <th></th>\n",
       "      <th>성명</th>\n",
       "      <th>나이</th>\n",
       "      <th>성별</th>\n",
       "      <th>키</th>\n",
       "      <th>체중</th>\n",
       "      <th>BMI</th>\n",
       "    </tr>\n",
       "  </thead>\n",
       "  <tbody>\n",
       "    <tr>\n",
       "      <th>0</th>\n",
       "      <td>이겨레</td>\n",
       "      <td>25</td>\n",
       "      <td>남</td>\n",
       "      <td>185</td>\n",
       "      <td>89</td>\n",
       "      <td>0</td>\n",
       "    </tr>\n",
       "    <tr>\n",
       "      <th>1</th>\n",
       "      <td>조약돌</td>\n",
       "      <td>19</td>\n",
       "      <td>여</td>\n",
       "      <td>163</td>\n",
       "      <td>53</td>\n",
       "      <td>0</td>\n",
       "    </tr>\n",
       "    <tr>\n",
       "      <th>2</th>\n",
       "      <td>0</td>\n",
       "      <td>0</td>\n",
       "      <td>0</td>\n",
       "      <td>0</td>\n",
       "      <td>0</td>\n",
       "      <td>0</td>\n",
       "    </tr>\n",
       "    <tr>\n",
       "      <th>3</th>\n",
       "      <td>강산애</td>\n",
       "      <td>27</td>\n",
       "      <td>남</td>\n",
       "      <td>177</td>\n",
       "      <td>63</td>\n",
       "      <td>40</td>\n",
       "    </tr>\n",
       "  </tbody>\n",
       "</table>\n",
       "</div>"
      ],
      "text/plain": [
       "    성명  나이 성별    키  체중  BMI\n",
       "0  이겨레  25  남  185  89    0\n",
       "1  조약돌  19  여  163  53    0\n",
       "2    0   0  0    0   0    0\n",
       "3  강산애  27  남  177  63   40"
      ]
     },
     "execution_count": 14,
     "metadata": {},
     "output_type": "execute_result"
    }
   ],
   "source": [
    "df.loc[3] = ['강산애',27,'남',177,63,40]\n",
    "df"
   ]
  },
  {
   "cell_type": "markdown",
   "id": "33b72da0",
   "metadata": {},
   "source": [
    "### 열 -> 행으로 바꿔주기"
   ]
  },
  {
   "cell_type": "code",
   "execution_count": 38,
   "id": "e0e0e2fd",
   "metadata": {},
   "outputs": [
    {
     "name": "stdout",
     "output_type": "stream",
     "text": [
      "185\n"
     ]
    }
   ],
   "source": [
    "# set_index('바꿔줄 열', inplace=True)\n",
    "df = pd.DataFrame([['이겨레',25,'남',185,89],\n",
    "                   ['조약돌',19,'여',163,53]],\n",
    "                   columns=['성명','나이','성별','키','체중']\n",
    "                  )\n",
    "df.set_index('성명',inplace=True)\n",
    "print(df.iloc[0,2])"
   ]
  },
  {
   "cell_type": "code",
   "execution_count": 34,
   "id": "0494cd65",
   "metadata": {},
   "outputs": [
    {
     "name": "stdout",
     "output_type": "stream",
     "text": [
      "키     185\n",
      "체중     89\n",
      "Name: 이겨레, dtype: object\n"
     ]
    }
   ],
   "source": [
    "df = pd.DataFrame([['이겨레',25,'남',185,89],\n",
    "                   ['조약돌',19,'여',163,53]],\n",
    "                   columns=['성명','나이','성별','키','체중']\n",
    "                  )\n",
    "df.set_index('성명',inplace=True)\n",
    "print(df.loc['이겨레',['키','체중']])"
   ]
  },
  {
   "cell_type": "code",
   "execution_count": 51,
   "id": "a0283982",
   "metadata": {},
   "outputs": [
    {
     "name": "stdout",
     "output_type": "stream",
     "text": [
      "       키  체중\n",
      "성명          \n",
      "이겨레  185  89\n",
      "조약돌  163  53\n",
      "\n",
      "\n",
      "       키  체중\n",
      "성명          \n",
      "이겨레  185  89\n",
      "조약돌  163  53\n",
      "\n",
      "\n",
      "나이\n"
     ]
    }
   ],
   "source": [
    "df = pd.DataFrame([['이겨레',25,'남',185,89],\n",
    "                   ['조약돌',19,'여',163,53]],\n",
    "                   columns=['성명','나이','성별','키','체중']\n",
    "                  )\n",
    "df.set_index('성명',inplace=True)\n",
    "print(df.loc[['이겨레','조약돌'],['키','체중']]) # [행],[열]\n",
    "print('\\n')\n",
    "print(df.iloc[[0,1],[2,3]]) # [행],[열]\n",
    "print('\\n')\n",
    "print(df.columns[0]) # 성명을 행으로 뺏으므로 열 0번은 나이 이다."
   ]
  },
  {
   "cell_type": "code",
   "execution_count": 62,
   "id": "8c843457",
   "metadata": {},
   "outputs": [
    {
     "data": {
      "text/html": [
       "<div>\n",
       "<style scoped>\n",
       "    .dataframe tbody tr th:only-of-type {\n",
       "        vertical-align: middle;\n",
       "    }\n",
       "\n",
       "    .dataframe tbody tr th {\n",
       "        vertical-align: top;\n",
       "    }\n",
       "\n",
       "    .dataframe thead th {\n",
       "        text-align: right;\n",
       "    }\n",
       "</style>\n",
       "<table border=\"1\" class=\"dataframe\">\n",
       "  <thead>\n",
       "    <tr style=\"text-align: right;\">\n",
       "      <th></th>\n",
       "      <th>나이</th>\n",
       "      <th>성별</th>\n",
       "      <th>키</th>\n",
       "      <th>체중</th>\n",
       "      <th>BMI</th>\n",
       "    </tr>\n",
       "    <tr>\n",
       "      <th>성명</th>\n",
       "      <th></th>\n",
       "      <th></th>\n",
       "      <th></th>\n",
       "      <th></th>\n",
       "      <th></th>\n",
       "    </tr>\n",
       "  </thead>\n",
       "  <tbody>\n",
       "    <tr>\n",
       "      <th>이겨레</th>\n",
       "      <td>25</td>\n",
       "      <td>남</td>\n",
       "      <td>185</td>\n",
       "      <td>89</td>\n",
       "      <td>26.00</td>\n",
       "    </tr>\n",
       "    <tr>\n",
       "      <th>조약돌</th>\n",
       "      <td>19</td>\n",
       "      <td>여</td>\n",
       "      <td>163</td>\n",
       "      <td>53</td>\n",
       "      <td>19.95</td>\n",
       "    </tr>\n",
       "  </tbody>\n",
       "</table>\n",
       "</div>"
      ],
      "text/plain": [
       "     나이 성별    키  체중    BMI\n",
       "성명                        \n",
       "이겨레  25  남  185  89  26.00\n",
       "조약돌  19  여  163  53  19.95"
      ]
     },
     "execution_count": 62,
     "metadata": {},
     "output_type": "execute_result"
    }
   ],
   "source": [
    "df = pd.DataFrame([['이겨레', 25, '남', 185, 89], ['조약돌', 19, '여', 163, 53]],\n",
    "                  columns=['성명', '나이', '성별', '키', '체중'])\n",
    "df.set_index('성명', inplace=True)\n",
    "df['BMI'] = 0\n",
    "df.loc['이겨레', 'BMI'] = 26.00\n",
    "df.iloc[1, 4] = 19.95\n",
    "df"
   ]
  },
  {
   "cell_type": "code",
   "execution_count": 65,
   "id": "fdfd3bd0",
   "metadata": {},
   "outputs": [
    {
     "data": {
      "text/html": [
       "<div>\n",
       "<style scoped>\n",
       "    .dataframe tbody tr th:only-of-type {\n",
       "        vertical-align: middle;\n",
       "    }\n",
       "\n",
       "    .dataframe tbody tr th {\n",
       "        vertical-align: top;\n",
       "    }\n",
       "\n",
       "    .dataframe thead th {\n",
       "        text-align: right;\n",
       "    }\n",
       "</style>\n",
       "<table border=\"1\" class=\"dataframe\">\n",
       "  <thead>\n",
       "    <tr style=\"text-align: right;\">\n",
       "      <th></th>\n",
       "      <th>나이</th>\n",
       "      <th>성별</th>\n",
       "      <th>키</th>\n",
       "      <th>체중</th>\n",
       "    </tr>\n",
       "    <tr>\n",
       "      <th>성명</th>\n",
       "      <th></th>\n",
       "      <th></th>\n",
       "      <th></th>\n",
       "      <th></th>\n",
       "    </tr>\n",
       "  </thead>\n",
       "  <tbody>\n",
       "    <tr>\n",
       "      <th>이겨레</th>\n",
       "      <td>25.0</td>\n",
       "      <td>남</td>\n",
       "      <td>185.0</td>\n",
       "      <td>89.0</td>\n",
       "    </tr>\n",
       "    <tr>\n",
       "      <th>조약돌</th>\n",
       "      <td>19.0</td>\n",
       "      <td>여</td>\n",
       "      <td>163.0</td>\n",
       "      <td>53.0</td>\n",
       "    </tr>\n",
       "    <tr>\n",
       "      <th>강산애</th>\n",
       "      <td>27.0</td>\n",
       "      <td>남</td>\n",
       "      <td>177.0</td>\n",
       "      <td>63.0</td>\n",
       "    </tr>\n",
       "  </tbody>\n",
       "</table>\n",
       "</div>"
      ],
      "text/plain": [
       "       나이 성별      키    체중\n",
       "성명                       \n",
       "이겨레  25.0  남  185.0  89.0\n",
       "조약돌  19.0  여  163.0  53.0\n",
       "강산애  27.0  남  177.0  63.0"
      ]
     },
     "execution_count": 65,
     "metadata": {},
     "output_type": "execute_result"
    }
   ],
   "source": [
    "df = pd.DataFrame([['이겨레', 25, '남', 185, 89], ['조약돌', 19, '여', 163, 53]],\n",
    "                  columns=['성명', '나이', '성별', '키', '체중'])\n",
    "df.set_index('성명', inplace=True)\n",
    "df.loc['강산애','나이':'체중'] = 27,'남',177,63 # [행],[열 전부]\n",
    "df"
   ]
  },
  {
   "cell_type": "code",
   "execution_count": null,
   "id": "4e58bd88",
   "metadata": {},
   "outputs": [],
   "source": []
  }
 ],
 "metadata": {
  "kernelspec": {
   "display_name": "Python 3",
   "language": "python",
   "name": "python3"
  },
  "language_info": {
   "codemirror_mode": {
    "name": "ipython",
    "version": 3
   },
   "file_extension": ".py",
   "mimetype": "text/x-python",
   "name": "python",
   "nbconvert_exporter": "python",
   "pygments_lexer": "ipython3",
   "version": "3.8.8"
  },
  "toc": {
   "base_numbering": 1,
   "nav_menu": {},
   "number_sections": true,
   "sideBar": true,
   "skip_h1_title": false,
   "title_cell": "Table of Contents",
   "title_sidebar": "Contents",
   "toc_cell": false,
   "toc_position": {},
   "toc_section_display": true,
   "toc_window_display": false
  }
 },
 "nbformat": 4,
 "nbformat_minor": 5
}

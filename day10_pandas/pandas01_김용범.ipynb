{
 "cells": [
  {
   "cell_type": "code",
   "execution_count": 1,
   "id": "e380fa0c",
   "metadata": {},
   "outputs": [
    {
     "name": "stdout",
     "output_type": "stream",
     "text": [
      "Requirement already satisfied: pandas in /Users/gim-yongbeom/opt/anaconda3/lib/python3.8/site-packages (1.2.4)\n",
      "Requirement already satisfied: python-dateutil>=2.7.3 in /Users/gim-yongbeom/opt/anaconda3/lib/python3.8/site-packages (from pandas) (2.8.1)\n",
      "Requirement already satisfied: pytz>=2017.3 in /Users/gim-yongbeom/opt/anaconda3/lib/python3.8/site-packages (from pandas) (2021.1)\n",
      "Requirement already satisfied: numpy>=1.16.5 in /Users/gim-yongbeom/opt/anaconda3/lib/python3.8/site-packages (from pandas) (1.20.1)\n",
      "Requirement already satisfied: six>=1.5 in /Users/gim-yongbeom/opt/anaconda3/lib/python3.8/site-packages (from python-dateutil>=2.7.3->pandas) (1.15.0)\n",
      "Note: you may need to restart the kernel to use updated packages.\n"
     ]
    }
   ],
   "source": [
    "pip install pandas"
   ]
  },
  {
   "cell_type": "code",
   "execution_count": 2,
   "id": "496e5840",
   "metadata": {},
   "outputs": [
    {
     "data": {
      "text/plain": [
       "0    7\n",
       "1    4\n",
       "2    5\n",
       "3    8\n",
       "dtype: int64"
      ]
     },
     "execution_count": 2,
     "metadata": {},
     "output_type": "execute_result"
    }
   ],
   "source": [
    "import pandas as pd\n",
    "pd.Series([7,4,5,8])"
   ]
  },
  {
   "cell_type": "code",
   "execution_count": 5,
   "id": "02b45b8d",
   "metadata": {},
   "outputs": [
    {
     "name": "stdout",
     "output_type": "stream",
     "text": [
      "서울    7\n",
      "대구    3\n",
      "부산    5\n",
      "광주    8\n",
      "dtype: int64\n"
     ]
    }
   ],
   "source": [
    "x = pd.Series([7,3,5,8], index=['서울','대구','부산','광주'])\n",
    "print(x)"
   ]
  },
  {
   "cell_type": "code",
   "execution_count": 6,
   "id": "bde23451",
   "metadata": {},
   "outputs": [
    {
     "data": {
      "text/plain": [
       "7"
      ]
     },
     "execution_count": 6,
     "metadata": {},
     "output_type": "execute_result"
    }
   ],
   "source": [
    "x['서울']"
   ]
  },
  {
   "cell_type": "code",
   "execution_count": 8,
   "id": "61f2cfd6",
   "metadata": {},
   "outputs": [
    {
     "data": {
      "text/plain": [
       "서울    7\n",
       "부산    5\n",
       "dtype: int64"
      ]
     },
     "execution_count": 8,
     "metadata": {},
     "output_type": "execute_result"
    }
   ],
   "source": [
    "x[['서울','부산']]"
   ]
  },
  {
   "cell_type": "code",
   "execution_count": 9,
   "id": "9e5b8475",
   "metadata": {},
   "outputs": [
    {
     "data": {
      "text/plain": [
       "서울    7\n",
       "부산    5\n",
       "대구    3\n",
       "dtype: int64"
      ]
     },
     "execution_count": 9,
     "metadata": {},
     "output_type": "execute_result"
    }
   ],
   "source": [
    "x[['서울','부산','대구']]"
   ]
  },
  {
   "cell_type": "code",
   "execution_count": 10,
   "id": "b577db50",
   "metadata": {},
   "outputs": [
    {
     "data": {
      "text/plain": [
       "Index(['서울', '대구', '부산', '광주'], dtype='object')"
      ]
     },
     "execution_count": 10,
     "metadata": {},
     "output_type": "execute_result"
    }
   ],
   "source": [
    "x.index"
   ]
  },
  {
   "cell_type": "code",
   "execution_count": 11,
   "id": "49ecd6ca",
   "metadata": {},
   "outputs": [
    {
     "data": {
      "text/plain": [
       "array([7, 3, 5, 8])"
      ]
     },
     "execution_count": 11,
     "metadata": {},
     "output_type": "execute_result"
    }
   ],
   "source": [
    "x.values"
   ]
  },
  {
   "cell_type": "code",
   "execution_count": 13,
   "id": "58b6d43c",
   "metadata": {},
   "outputs": [
    {
     "name": "stdout",
     "output_type": "stream",
     "text": [
      "['광주', '대구', '부산', '서울']\n",
      "[3, 5, 7, 8]\n"
     ]
    }
   ],
   "source": [
    "print(sorted(x.index))\n",
    "print(sorted(x.values))"
   ]
  },
  {
   "cell_type": "code",
   "execution_count": 14,
   "id": "015f2410",
   "metadata": {},
   "outputs": [
    {
     "data": {
      "text/plain": [
       "서울    7\n",
       "대구    3\n",
       "부산    5\n",
       "광주    8\n",
       "dtype: int64"
      ]
     },
     "execution_count": 14,
     "metadata": {},
     "output_type": "execute_result"
    }
   ],
   "source": [
    "x.reindex(sorted(x.index)) # \n",
    "x"
   ]
  },
  {
   "cell_type": "code",
   "execution_count": 16,
   "id": "53a9b311",
   "metadata": {},
   "outputs": [
    {
     "data": {
      "text/plain": [
       "광주     NaN\n",
       "대구    10.0\n",
       "대전     NaN\n",
       "부산     9.0\n",
       "서울     8.0\n",
       "dtype: float64"
      ]
     },
     "execution_count": 16,
     "metadata": {},
     "output_type": "execute_result"
    }
   ],
   "source": [
    "x = pd.Series([3,8,5,4], index=['서울','대구','부산','광주'])\n",
    "y = pd.Series([2,4,5,1], index=['대구','부산','서울','대전'])\n",
    "x+y"
   ]
  },
  {
   "cell_type": "code",
   "execution_count": 18,
   "id": "3cda60a9",
   "metadata": {},
   "outputs": [
    {
     "data": {
      "text/plain": [
       "A     7.0\n",
       "B    13.0\n",
       "E    14.0\n",
       "F     NaN\n",
       "G     NaN\n",
       "X     NaN\n",
       "Z     NaN\n",
       "dtype: float64"
      ]
     },
     "execution_count": 18,
     "metadata": {},
     "output_type": "execute_result"
    }
   ],
   "source": [
    "x = pd.Series([3,8,5,4,5], index=['A','B','G','F','E'])\n",
    "y = pd.Series([2,4,5,1,9], index=['Z','A','B','X','E'])\n",
    "x+y"
   ]
  },
  {
   "cell_type": "code",
   "execution_count": 19,
   "id": "560144d8",
   "metadata": {},
   "outputs": [
    {
     "name": "stdout",
     "output_type": "stream",
     "text": [
      "[1 3 2 4]\n"
     ]
    }
   ],
   "source": [
    "medal=[1,3,2,4,2,3] # 중복값 제거\n",
    "x = pd.Series(medal)\n",
    "print(pd.unique(x))"
   ]
  },
  {
   "cell_type": "code",
   "execution_count": 20,
   "id": "d1316fc7",
   "metadata": {},
   "outputs": [
    {
     "name": "stdout",
     "output_type": "stream",
     "text": [
      "['민준' '현우' '서연' '동현']\n"
     ]
    }
   ],
   "source": [
    "medal=['민준','현우','서연','동현','서연','현우']\n",
    "x = pd.Series(medal)\n",
    "print(pd.unique(x))"
   ]
  },
  {
   "cell_type": "code",
   "execution_count": 23,
   "id": "39a128f6",
   "metadata": {},
   "outputs": [],
   "source": [
    "age = {'민준':23,'현우':43,'서연':12,'동현':45,'현우':33}\n",
    "x = pd.Series(age)"
   ]
  },
  {
   "cell_type": "code",
   "execution_count": 32,
   "id": "c0c2c840",
   "metadata": {},
   "outputs": [],
   "source": [
    "names = ['민준','현우','서연','동현','서연','현우','수빈']\n",
    "x = pd.Series(names)"
   ]
  },
  {
   "cell_type": "code",
   "execution_count": 34,
   "id": "c54ce4f8",
   "metadata": {},
   "outputs": [
    {
     "name": "stdout",
     "output_type": "stream",
     "text": [
      "['동현' '서연' '현우']\n"
     ]
    }
   ],
   "source": [
    "a = x[3:6]\n",
    "print(a.values)"
   ]
  },
  {
   "cell_type": "code",
   "execution_count": 43,
   "id": "a37c9b87",
   "metadata": {
    "scrolled": false
   },
   "outputs": [
    {
     "data": {
      "text/html": [
       "<div>\n",
       "<style scoped>\n",
       "    .dataframe tbody tr th:only-of-type {\n",
       "        vertical-align: middle;\n",
       "    }\n",
       "\n",
       "    .dataframe tbody tr th {\n",
       "        vertical-align: top;\n",
       "    }\n",
       "\n",
       "    .dataframe thead th {\n",
       "        text-align: right;\n",
       "    }\n",
       "</style>\n",
       "<table border=\"1\" class=\"dataframe\">\n",
       "  <thead>\n",
       "    <tr style=\"text-align: right;\">\n",
       "      <th></th>\n",
       "      <th>name</th>\n",
       "      <th>age</th>\n",
       "      <th>height</th>\n",
       "    </tr>\n",
       "  </thead>\n",
       "  <tbody>\n",
       "    <tr>\n",
       "      <th>0</th>\n",
       "      <td>민준</td>\n",
       "      <td>23</td>\n",
       "      <td>175.3</td>\n",
       "    </tr>\n",
       "    <tr>\n",
       "      <th>1</th>\n",
       "      <td>현우</td>\n",
       "      <td>43</td>\n",
       "      <td>180.3</td>\n",
       "    </tr>\n",
       "    <tr>\n",
       "      <th>2</th>\n",
       "      <td>서연</td>\n",
       "      <td>12</td>\n",
       "      <td>165.8</td>\n",
       "    </tr>\n",
       "    <tr>\n",
       "      <th>3</th>\n",
       "      <td>동현</td>\n",
       "      <td>45</td>\n",
       "      <td>172.7</td>\n",
       "    </tr>\n",
       "  </tbody>\n",
       "</table>\n",
       "</div>"
      ],
      "text/plain": [
       "  name  age  height\n",
       "0   민준   23   175.3\n",
       "1   현우   43   180.3\n",
       "2   서연   12   165.8\n",
       "3   동현   45   172.7"
      ]
     },
     "execution_count": 43,
     "metadata": {},
     "output_type": "execute_result"
    }
   ],
   "source": [
    "data = {'age':[23,43,12,45],\n",
    "        'name':['민준','현우','서연','동현'],\n",
    "        'height':[175.3,180.3,165.8,172.7]\n",
    "       }\n",
    "x = pd.DataFrame(data,columns = ['name','age','height'])\n",
    "x"
   ]
  },
  {
   "cell_type": "code",
   "execution_count": 44,
   "id": "22b85bc5",
   "metadata": {},
   "outputs": [
    {
     "data": {
      "text/html": [
       "<style  type=\"text/css\" >\n",
       "</style><table id=\"T_2ed38_\" ><thead>    <tr>        <th class=\"col_heading level0 col0\" >name</th>        <th class=\"col_heading level0 col1\" >age</th>        <th class=\"col_heading level0 col2\" >height</th>    </tr></thead><tbody>\n",
       "                <tr>\n",
       "                                <td id=\"T_2ed38_row0_col0\" class=\"data row0 col0\" >민준</td>\n",
       "                        <td id=\"T_2ed38_row0_col1\" class=\"data row0 col1\" >23</td>\n",
       "                        <td id=\"T_2ed38_row0_col2\" class=\"data row0 col2\" >175.300000</td>\n",
       "            </tr>\n",
       "            <tr>\n",
       "                                <td id=\"T_2ed38_row1_col0\" class=\"data row1 col0\" >현우</td>\n",
       "                        <td id=\"T_2ed38_row1_col1\" class=\"data row1 col1\" >43</td>\n",
       "                        <td id=\"T_2ed38_row1_col2\" class=\"data row1 col2\" >180.300000</td>\n",
       "            </tr>\n",
       "            <tr>\n",
       "                                <td id=\"T_2ed38_row2_col0\" class=\"data row2 col0\" >서연</td>\n",
       "                        <td id=\"T_2ed38_row2_col1\" class=\"data row2 col1\" >12</td>\n",
       "                        <td id=\"T_2ed38_row2_col2\" class=\"data row2 col2\" >165.800000</td>\n",
       "            </tr>\n",
       "            <tr>\n",
       "                                <td id=\"T_2ed38_row3_col0\" class=\"data row3 col0\" >동현</td>\n",
       "                        <td id=\"T_2ed38_row3_col1\" class=\"data row3 col1\" >45</td>\n",
       "                        <td id=\"T_2ed38_row3_col2\" class=\"data row3 col2\" >172.700000</td>\n",
       "            </tr>\n",
       "    </tbody></table>"
      ],
      "text/plain": [
       "<pandas.io.formats.style.Styler at 0x7f834307f4f0>"
      ]
     },
     "execution_count": 44,
     "metadata": {},
     "output_type": "execute_result"
    }
   ],
   "source": [
    "data = {'age':[23,43,12,45],\n",
    "        'name':['민준','현우','서연','동현'],\n",
    "        'height':[175.3,180.3,165.8,172.7]\n",
    "       }\n",
    "x = pd.DataFrame(data,columns = ['name','age','height'])\n",
    "x.style.hide_index() # 인덱스 제거"
   ]
  },
  {
   "cell_type": "code",
   "execution_count": 46,
   "id": "dc02d135",
   "metadata": {},
   "outputs": [
    {
     "data": {
      "text/html": [
       "<div>\n",
       "<style scoped>\n",
       "    .dataframe tbody tr th:only-of-type {\n",
       "        vertical-align: middle;\n",
       "    }\n",
       "\n",
       "    .dataframe tbody tr th {\n",
       "        vertical-align: top;\n",
       "    }\n",
       "\n",
       "    .dataframe thead th {\n",
       "        text-align: right;\n",
       "    }\n",
       "</style>\n",
       "<table border=\"1\" class=\"dataframe\">\n",
       "  <thead>\n",
       "    <tr style=\"text-align: right;\">\n",
       "      <th></th>\n",
       "      <th>name</th>\n",
       "      <th>age</th>\n",
       "    </tr>\n",
       "  </thead>\n",
       "  <tbody>\n",
       "    <tr>\n",
       "      <th>0</th>\n",
       "      <td>민준</td>\n",
       "      <td>23</td>\n",
       "    </tr>\n",
       "    <tr>\n",
       "      <th>1</th>\n",
       "      <td>현우</td>\n",
       "      <td>43</td>\n",
       "    </tr>\n",
       "    <tr>\n",
       "      <th>2</th>\n",
       "      <td>서연</td>\n",
       "      <td>12</td>\n",
       "    </tr>\n",
       "    <tr>\n",
       "      <th>3</th>\n",
       "      <td>동현</td>\n",
       "      <td>45</td>\n",
       "    </tr>\n",
       "  </tbody>\n",
       "</table>\n",
       "</div>"
      ],
      "text/plain": [
       "  name  age\n",
       "0   민준   23\n",
       "1   현우   43\n",
       "2   서연   12\n",
       "3   동현   45"
      ]
     },
     "execution_count": 46,
     "metadata": {},
     "output_type": "execute_result"
    }
   ],
   "source": [
    "x[['name','age']]"
   ]
  },
  {
   "cell_type": "code",
   "execution_count": 38,
   "id": "99bcea97",
   "metadata": {},
   "outputs": [
    {
     "data": {
      "text/plain": [
       "0    민준\n",
       "1    현우\n",
       "2    서연\n",
       "3    동현\n",
       "Name: name, dtype: object"
      ]
     },
     "execution_count": 38,
     "metadata": {},
     "output_type": "execute_result"
    }
   ],
   "source": [
    "x.name"
   ]
  },
  {
   "cell_type": "code",
   "execution_count": 47,
   "id": "4ed12f50",
   "metadata": {},
   "outputs": [
    {
     "data": {
      "text/html": [
       "<div>\n",
       "<style scoped>\n",
       "    .dataframe tbody tr th:only-of-type {\n",
       "        vertical-align: middle;\n",
       "    }\n",
       "\n",
       "    .dataframe tbody tr th {\n",
       "        vertical-align: top;\n",
       "    }\n",
       "\n",
       "    .dataframe thead th {\n",
       "        text-align: right;\n",
       "    }\n",
       "</style>\n",
       "<table border=\"1\" class=\"dataframe\">\n",
       "  <thead>\n",
       "    <tr style=\"text-align: right;\">\n",
       "      <th></th>\n",
       "      <th>Frist</th>\n",
       "      <th>Second</th>\n",
       "    </tr>\n",
       "  </thead>\n",
       "  <tbody>\n",
       "    <tr>\n",
       "      <th>0</th>\n",
       "      <td>1</td>\n",
       "      <td>2</td>\n",
       "    </tr>\n",
       "    <tr>\n",
       "      <th>1</th>\n",
       "      <td>3</td>\n",
       "      <td>4</td>\n",
       "    </tr>\n",
       "    <tr>\n",
       "      <th>2</th>\n",
       "      <td>5</td>\n",
       "      <td>6</td>\n",
       "    </tr>\n",
       "  </tbody>\n",
       "</table>\n",
       "</div>"
      ],
      "text/plain": [
       "   Frist  Second\n",
       "0      1       2\n",
       "1      3       4\n",
       "2      5       6"
      ]
     },
     "execution_count": 47,
     "metadata": {},
     "output_type": "execute_result"
    }
   ],
   "source": [
    "ary = [[1,2],[3,4],[5,6]]\n",
    "data = pd.DataFrame(ary,columns=['Frist','Second'])\n",
    "data"
   ]
  },
  {
   "cell_type": "code",
   "execution_count": 49,
   "id": "9f71c547",
   "metadata": {},
   "outputs": [
    {
     "data": {
      "text/plain": [
       "name         현우\n",
       "age          43\n",
       "height    180.3\n",
       "Name: 1, dtype: object"
      ]
     },
     "execution_count": 49,
     "metadata": {},
     "output_type": "execute_result"
    }
   ],
   "source": [
    "x.iloc[1] # 1번 행의 값들 출력"
   ]
  },
  {
   "cell_type": "code",
   "execution_count": 50,
   "id": "0a5ef200",
   "metadata": {},
   "outputs": [
    {
     "data": {
      "text/plain": [
       "Frist     3\n",
       "Second    4\n",
       "Name: 1, dtype: int64"
      ]
     },
     "execution_count": 50,
     "metadata": {},
     "output_type": "execute_result"
    }
   ],
   "source": [
    "data.iloc[1]"
   ]
  },
  {
   "cell_type": "code",
   "execution_count": 51,
   "id": "e3e5012e",
   "metadata": {},
   "outputs": [
    {
     "data": {
      "text/plain": [
       "0    2\n",
       "1    4\n",
       "2    6\n",
       "Name: Second, dtype: int64"
      ]
     },
     "execution_count": 51,
     "metadata": {},
     "output_type": "execute_result"
    }
   ],
   "source": [
    "data.iloc[:,-1]"
   ]
  },
  {
   "cell_type": "code",
   "execution_count": 52,
   "id": "fb753842",
   "metadata": {},
   "outputs": [
    {
     "data": {
      "text/html": [
       "<div>\n",
       "<style scoped>\n",
       "    .dataframe tbody tr th:only-of-type {\n",
       "        vertical-align: middle;\n",
       "    }\n",
       "\n",
       "    .dataframe tbody tr th {\n",
       "        vertical-align: top;\n",
       "    }\n",
       "\n",
       "    .dataframe thead th {\n",
       "        text-align: right;\n",
       "    }\n",
       "</style>\n",
       "<table border=\"1\" class=\"dataframe\">\n",
       "  <thead>\n",
       "    <tr style=\"text-align: right;\">\n",
       "      <th></th>\n",
       "      <th>Frist</th>\n",
       "      <th>Second</th>\n",
       "    </tr>\n",
       "  </thead>\n",
       "  <tbody>\n",
       "    <tr>\n",
       "      <th>0</th>\n",
       "      <td>1</td>\n",
       "      <td>2</td>\n",
       "    </tr>\n",
       "    <tr>\n",
       "      <th>1</th>\n",
       "      <td>3</td>\n",
       "      <td>4</td>\n",
       "    </tr>\n",
       "    <tr>\n",
       "      <th>2</th>\n",
       "      <td>5</td>\n",
       "      <td>6</td>\n",
       "    </tr>\n",
       "  </tbody>\n",
       "</table>\n",
       "</div>"
      ],
      "text/plain": [
       "   Frist  Second\n",
       "0      1       2\n",
       "1      3       4\n",
       "2      5       6"
      ]
     },
     "execution_count": 52,
     "metadata": {},
     "output_type": "execute_result"
    }
   ],
   "source": [
    "data.iloc[:]"
   ]
  },
  {
   "cell_type": "code",
   "execution_count": 53,
   "id": "c2e8a3aa",
   "metadata": {},
   "outputs": [
    {
     "data": {
      "text/plain": [
       "4"
      ]
     },
     "execution_count": 53,
     "metadata": {},
     "output_type": "execute_result"
    }
   ],
   "source": [
    "data.iloc[1][1]"
   ]
  },
  {
   "cell_type": "code",
   "execution_count": 54,
   "id": "2a893027",
   "metadata": {},
   "outputs": [
    {
     "data": {
      "text/plain": [
       "0    2\n",
       "Name: Second, dtype: int64"
      ]
     },
     "execution_count": 54,
     "metadata": {},
     "output_type": "execute_result"
    }
   ],
   "source": [
    "data.iloc[:1,1]"
   ]
  },
  {
   "cell_type": "code",
   "execution_count": 55,
   "id": "94dcf96e",
   "metadata": {},
   "outputs": [
    {
     "data": {
      "text/html": [
       "<div>\n",
       "<style scoped>\n",
       "    .dataframe tbody tr th:only-of-type {\n",
       "        vertical-align: middle;\n",
       "    }\n",
       "\n",
       "    .dataframe tbody tr th {\n",
       "        vertical-align: top;\n",
       "    }\n",
       "\n",
       "    .dataframe thead th {\n",
       "        text-align: right;\n",
       "    }\n",
       "</style>\n",
       "<table border=\"1\" class=\"dataframe\">\n",
       "  <thead>\n",
       "    <tr style=\"text-align: right;\">\n",
       "      <th></th>\n",
       "      <th>Frist</th>\n",
       "      <th>Second</th>\n",
       "    </tr>\n",
       "  </thead>\n",
       "  <tbody>\n",
       "    <tr>\n",
       "      <th>0</th>\n",
       "      <td>1</td>\n",
       "      <td>2</td>\n",
       "    </tr>\n",
       "    <tr>\n",
       "      <th>2</th>\n",
       "      <td>5</td>\n",
       "      <td>6</td>\n",
       "    </tr>\n",
       "  </tbody>\n",
       "</table>\n",
       "</div>"
      ],
      "text/plain": [
       "   Frist  Second\n",
       "0      1       2\n",
       "2      5       6"
      ]
     },
     "execution_count": 55,
     "metadata": {},
     "output_type": "execute_result"
    }
   ],
   "source": [
    "data.iloc[0:3:2]"
   ]
  },
  {
   "cell_type": "code",
   "execution_count": 59,
   "id": "8ea9125d",
   "metadata": {},
   "outputs": [],
   "source": [
    "ary = [[1,2],[3,4],[5,6],[7,8],[9,10]]\n",
    "data = pd.DataFrame(ary,columns=['First','Second'])"
   ]
  },
  {
   "cell_type": "code",
   "execution_count": 60,
   "id": "abd73d04",
   "metadata": {},
   "outputs": [
    {
     "data": {
      "text/html": [
       "<div>\n",
       "<style scoped>\n",
       "    .dataframe tbody tr th:only-of-type {\n",
       "        vertical-align: middle;\n",
       "    }\n",
       "\n",
       "    .dataframe tbody tr th {\n",
       "        vertical-align: top;\n",
       "    }\n",
       "\n",
       "    .dataframe thead th {\n",
       "        text-align: right;\n",
       "    }\n",
       "</style>\n",
       "<table border=\"1\" class=\"dataframe\">\n",
       "  <thead>\n",
       "    <tr style=\"text-align: right;\">\n",
       "      <th></th>\n",
       "      <th>First</th>\n",
       "      <th>Second</th>\n",
       "    </tr>\n",
       "  </thead>\n",
       "  <tbody>\n",
       "    <tr>\n",
       "      <th>0</th>\n",
       "      <td>1</td>\n",
       "      <td>2</td>\n",
       "    </tr>\n",
       "    <tr>\n",
       "      <th>1</th>\n",
       "      <td>3</td>\n",
       "      <td>4</td>\n",
       "    </tr>\n",
       "    <tr>\n",
       "      <th>2</th>\n",
       "      <td>5</td>\n",
       "      <td>6</td>\n",
       "    </tr>\n",
       "  </tbody>\n",
       "</table>\n",
       "</div>"
      ],
      "text/plain": [
       "   First  Second\n",
       "0      1       2\n",
       "1      3       4\n",
       "2      5       6"
      ]
     },
     "execution_count": 60,
     "metadata": {},
     "output_type": "execute_result"
    }
   ],
   "source": [
    "data.head(3)"
   ]
  },
  {
   "cell_type": "code",
   "execution_count": 61,
   "id": "6d8df195",
   "metadata": {},
   "outputs": [
    {
     "data": {
      "text/html": [
       "<div>\n",
       "<style scoped>\n",
       "    .dataframe tbody tr th:only-of-type {\n",
       "        vertical-align: middle;\n",
       "    }\n",
       "\n",
       "    .dataframe tbody tr th {\n",
       "        vertical-align: top;\n",
       "    }\n",
       "\n",
       "    .dataframe thead th {\n",
       "        text-align: right;\n",
       "    }\n",
       "</style>\n",
       "<table border=\"1\" class=\"dataframe\">\n",
       "  <thead>\n",
       "    <tr style=\"text-align: right;\">\n",
       "      <th></th>\n",
       "      <th>First</th>\n",
       "      <th>Second</th>\n",
       "    </tr>\n",
       "  </thead>\n",
       "  <tbody>\n",
       "    <tr>\n",
       "      <th>0</th>\n",
       "      <td>1</td>\n",
       "      <td>2</td>\n",
       "    </tr>\n",
       "    <tr>\n",
       "      <th>1</th>\n",
       "      <td>3</td>\n",
       "      <td>4</td>\n",
       "    </tr>\n",
       "    <tr>\n",
       "      <th>2</th>\n",
       "      <td>5</td>\n",
       "      <td>6</td>\n",
       "    </tr>\n",
       "    <tr>\n",
       "      <th>3</th>\n",
       "      <td>7</td>\n",
       "      <td>8</td>\n",
       "    </tr>\n",
       "    <tr>\n",
       "      <th>4</th>\n",
       "      <td>9</td>\n",
       "      <td>10</td>\n",
       "    </tr>\n",
       "  </tbody>\n",
       "</table>\n",
       "</div>"
      ],
      "text/plain": [
       "   First  Second\n",
       "0      1       2\n",
       "1      3       4\n",
       "2      5       6\n",
       "3      7       8\n",
       "4      9      10"
      ]
     },
     "execution_count": 61,
     "metadata": {},
     "output_type": "execute_result"
    }
   ],
   "source": [
    "data.head() # 아무것도 안넣어주면 5개까지 나옴"
   ]
  },
  {
   "cell_type": "code",
   "execution_count": 62,
   "id": "2885a00b",
   "metadata": {},
   "outputs": [
    {
     "data": {
      "text/html": [
       "<div>\n",
       "<style scoped>\n",
       "    .dataframe tbody tr th:only-of-type {\n",
       "        vertical-align: middle;\n",
       "    }\n",
       "\n",
       "    .dataframe tbody tr th {\n",
       "        vertical-align: top;\n",
       "    }\n",
       "\n",
       "    .dataframe thead th {\n",
       "        text-align: right;\n",
       "    }\n",
       "</style>\n",
       "<table border=\"1\" class=\"dataframe\">\n",
       "  <thead>\n",
       "    <tr style=\"text-align: right;\">\n",
       "      <th></th>\n",
       "      <th>First</th>\n",
       "      <th>Second</th>\n",
       "    </tr>\n",
       "  </thead>\n",
       "  <tbody>\n",
       "    <tr>\n",
       "      <th>0</th>\n",
       "      <td>1</td>\n",
       "      <td>2</td>\n",
       "    </tr>\n",
       "    <tr>\n",
       "      <th>1</th>\n",
       "      <td>3</td>\n",
       "      <td>4</td>\n",
       "    </tr>\n",
       "    <tr>\n",
       "      <th>2</th>\n",
       "      <td>5</td>\n",
       "      <td>6</td>\n",
       "    </tr>\n",
       "    <tr>\n",
       "      <th>3</th>\n",
       "      <td>7</td>\n",
       "      <td>8</td>\n",
       "    </tr>\n",
       "    <tr>\n",
       "      <th>4</th>\n",
       "      <td>9</td>\n",
       "      <td>10</td>\n",
       "    </tr>\n",
       "  </tbody>\n",
       "</table>\n",
       "</div>"
      ],
      "text/plain": [
       "   First  Second\n",
       "0      1       2\n",
       "1      3       4\n",
       "2      5       6\n",
       "3      7       8\n",
       "4      9      10"
      ]
     },
     "execution_count": 62,
     "metadata": {},
     "output_type": "execute_result"
    }
   ],
   "source": [
    "data.head(8)"
   ]
  },
  {
   "cell_type": "code",
   "execution_count": 63,
   "id": "52b9c4b6",
   "metadata": {},
   "outputs": [
    {
     "data": {
      "text/html": [
       "<div>\n",
       "<style scoped>\n",
       "    .dataframe tbody tr th:only-of-type {\n",
       "        vertical-align: middle;\n",
       "    }\n",
       "\n",
       "    .dataframe tbody tr th {\n",
       "        vertical-align: top;\n",
       "    }\n",
       "\n",
       "    .dataframe thead th {\n",
       "        text-align: right;\n",
       "    }\n",
       "</style>\n",
       "<table border=\"1\" class=\"dataframe\">\n",
       "  <thead>\n",
       "    <tr style=\"text-align: right;\">\n",
       "      <th></th>\n",
       "      <th>First</th>\n",
       "      <th>Second</th>\n",
       "    </tr>\n",
       "  </thead>\n",
       "  <tbody>\n",
       "    <tr>\n",
       "      <th>2</th>\n",
       "      <td>5</td>\n",
       "      <td>6</td>\n",
       "    </tr>\n",
       "    <tr>\n",
       "      <th>3</th>\n",
       "      <td>7</td>\n",
       "      <td>8</td>\n",
       "    </tr>\n",
       "    <tr>\n",
       "      <th>4</th>\n",
       "      <td>9</td>\n",
       "      <td>10</td>\n",
       "    </tr>\n",
       "  </tbody>\n",
       "</table>\n",
       "</div>"
      ],
      "text/plain": [
       "   First  Second\n",
       "2      5       6\n",
       "3      7       8\n",
       "4      9      10"
      ]
     },
     "execution_count": 63,
     "metadata": {},
     "output_type": "execute_result"
    }
   ],
   "source": [
    "data.tail(3) # 마지막부터"
   ]
  },
  {
   "cell_type": "code",
   "execution_count": 64,
   "id": "5dfcce95",
   "metadata": {},
   "outputs": [
    {
     "data": {
      "text/html": [
       "<div>\n",
       "<style scoped>\n",
       "    .dataframe tbody tr th:only-of-type {\n",
       "        vertical-align: middle;\n",
       "    }\n",
       "\n",
       "    .dataframe tbody tr th {\n",
       "        vertical-align: top;\n",
       "    }\n",
       "\n",
       "    .dataframe thead th {\n",
       "        text-align: right;\n",
       "    }\n",
       "</style>\n",
       "<table border=\"1\" class=\"dataframe\">\n",
       "  <thead>\n",
       "    <tr style=\"text-align: right;\">\n",
       "      <th></th>\n",
       "      <th>First</th>\n",
       "      <th>Second</th>\n",
       "    </tr>\n",
       "  </thead>\n",
       "  <tbody>\n",
       "    <tr>\n",
       "      <th>0</th>\n",
       "      <td>1</td>\n",
       "      <td>2</td>\n",
       "    </tr>\n",
       "    <tr>\n",
       "      <th>1</th>\n",
       "      <td>3</td>\n",
       "      <td>4</td>\n",
       "    </tr>\n",
       "    <tr>\n",
       "      <th>2</th>\n",
       "      <td>5</td>\n",
       "      <td>6</td>\n",
       "    </tr>\n",
       "    <tr>\n",
       "      <th>3</th>\n",
       "      <td>7</td>\n",
       "      <td>8</td>\n",
       "    </tr>\n",
       "    <tr>\n",
       "      <th>4</th>\n",
       "      <td>9</td>\n",
       "      <td>10</td>\n",
       "    </tr>\n",
       "  </tbody>\n",
       "</table>\n",
       "</div>"
      ],
      "text/plain": [
       "   First  Second\n",
       "0      1       2\n",
       "1      3       4\n",
       "2      5       6\n",
       "3      7       8\n",
       "4      9      10"
      ]
     },
     "execution_count": 64,
     "metadata": {},
     "output_type": "execute_result"
    }
   ],
   "source": [
    "data.tail()"
   ]
  },
  {
   "cell_type": "code",
   "execution_count": 65,
   "id": "b6b03ef9",
   "metadata": {},
   "outputs": [
    {
     "data": {
      "text/html": [
       "<div>\n",
       "<style scoped>\n",
       "    .dataframe tbody tr th:only-of-type {\n",
       "        vertical-align: middle;\n",
       "    }\n",
       "\n",
       "    .dataframe tbody tr th {\n",
       "        vertical-align: top;\n",
       "    }\n",
       "\n",
       "    .dataframe thead th {\n",
       "        text-align: right;\n",
       "    }\n",
       "</style>\n",
       "<table border=\"1\" class=\"dataframe\">\n",
       "  <thead>\n",
       "    <tr style=\"text-align: right;\">\n",
       "      <th></th>\n",
       "      <th>First</th>\n",
       "      <th>Second</th>\n",
       "    </tr>\n",
       "  </thead>\n",
       "  <tbody>\n",
       "    <tr>\n",
       "      <th>4</th>\n",
       "      <td>9</td>\n",
       "      <td>10</td>\n",
       "    </tr>\n",
       "  </tbody>\n",
       "</table>\n",
       "</div>"
      ],
      "text/plain": [
       "   First  Second\n",
       "4      9      10"
      ]
     },
     "execution_count": 65,
     "metadata": {},
     "output_type": "execute_result"
    }
   ],
   "source": [
    "data.tail(1)"
   ]
  },
  {
   "cell_type": "code",
   "execution_count": 66,
   "id": "a1538fb0",
   "metadata": {},
   "outputs": [
    {
     "data": {
      "text/html": [
       "<div>\n",
       "<style scoped>\n",
       "    .dataframe tbody tr th:only-of-type {\n",
       "        vertical-align: middle;\n",
       "    }\n",
       "\n",
       "    .dataframe tbody tr th {\n",
       "        vertical-align: top;\n",
       "    }\n",
       "\n",
       "    .dataframe thead th {\n",
       "        text-align: right;\n",
       "    }\n",
       "</style>\n",
       "<table border=\"1\" class=\"dataframe\">\n",
       "  <thead>\n",
       "    <tr style=\"text-align: right;\">\n",
       "      <th></th>\n",
       "      <th>First</th>\n",
       "      <th>Second</th>\n",
       "    </tr>\n",
       "  </thead>\n",
       "  <tbody>\n",
       "  </tbody>\n",
       "</table>\n",
       "</div>"
      ],
      "text/plain": [
       "Empty DataFrame\n",
       "Columns: [First, Second]\n",
       "Index: []"
      ]
     },
     "execution_count": 66,
     "metadata": {},
     "output_type": "execute_result"
    }
   ],
   "source": [
    "data.tail(0)"
   ]
  },
  {
   "cell_type": "code",
   "execution_count": 71,
   "id": "6b035923",
   "metadata": {},
   "outputs": [
    {
     "data": {
      "text/html": [
       "<div>\n",
       "<style scoped>\n",
       "    .dataframe tbody tr th:only-of-type {\n",
       "        vertical-align: middle;\n",
       "    }\n",
       "\n",
       "    .dataframe tbody tr th {\n",
       "        vertical-align: top;\n",
       "    }\n",
       "\n",
       "    .dataframe thead th {\n",
       "        text-align: right;\n",
       "    }\n",
       "</style>\n",
       "<table border=\"1\" class=\"dataframe\">\n",
       "  <thead>\n",
       "    <tr style=\"text-align: right;\">\n",
       "      <th></th>\n",
       "      <th>First</th>\n",
       "      <th>Second</th>\n",
       "    </tr>\n",
       "  </thead>\n",
       "  <tbody>\n",
       "    <tr>\n",
       "      <th>1</th>\n",
       "      <td>3</td>\n",
       "      <td>4</td>\n",
       "    </tr>\n",
       "    <tr>\n",
       "      <th>2</th>\n",
       "      <td>5</td>\n",
       "      <td>6</td>\n",
       "    </tr>\n",
       "    <tr>\n",
       "      <th>4</th>\n",
       "      <td>9</td>\n",
       "      <td>10</td>\n",
       "    </tr>\n",
       "  </tbody>\n",
       "</table>\n",
       "</div>"
      ],
      "text/plain": [
       "   First  Second\n",
       "1      3       4\n",
       "2      5       6\n",
       "4      9      10"
      ]
     },
     "execution_count": 71,
     "metadata": {},
     "output_type": "execute_result"
    }
   ],
   "source": [
    "bools = [False,True,True,False,True]\n",
    "data[bools] # True 인 부분만 출력"
   ]
  },
  {
   "cell_type": "code",
   "execution_count": 72,
   "id": "78047ec8",
   "metadata": {},
   "outputs": [
    {
     "data": {
      "text/plain": [
       "1     4\n",
       "2     6\n",
       "4    10\n",
       "Name: Second, dtype: int64"
      ]
     },
     "execution_count": 72,
     "metadata": {},
     "output_type": "execute_result"
    }
   ],
   "source": [
    "bools = [False,True,True,False,True]\n",
    "data.Second[bools] # True 인 부분만 출력"
   ]
  },
  {
   "cell_type": "code",
   "execution_count": 73,
   "id": "be42a393",
   "metadata": {},
   "outputs": [
    {
     "data": {
      "text/html": [
       "<div>\n",
       "<style scoped>\n",
       "    .dataframe tbody tr th:only-of-type {\n",
       "        vertical-align: middle;\n",
       "    }\n",
       "\n",
       "    .dataframe tbody tr th {\n",
       "        vertical-align: top;\n",
       "    }\n",
       "\n",
       "    .dataframe thead th {\n",
       "        text-align: right;\n",
       "    }\n",
       "</style>\n",
       "<table border=\"1\" class=\"dataframe\">\n",
       "  <thead>\n",
       "    <tr style=\"text-align: right;\">\n",
       "      <th></th>\n",
       "      <th>수온</th>\n",
       "      <th>상온</th>\n",
       "    </tr>\n",
       "  </thead>\n",
       "  <tbody>\n",
       "    <tr>\n",
       "      <th>0</th>\n",
       "      <td>1</td>\n",
       "      <td>2</td>\n",
       "    </tr>\n",
       "    <tr>\n",
       "      <th>1</th>\n",
       "      <td>3</td>\n",
       "      <td>4</td>\n",
       "    </tr>\n",
       "    <tr>\n",
       "      <th>2</th>\n",
       "      <td>5</td>\n",
       "      <td>6</td>\n",
       "    </tr>\n",
       "    <tr>\n",
       "      <th>3</th>\n",
       "      <td>7</td>\n",
       "      <td>8</td>\n",
       "    </tr>\n",
       "    <tr>\n",
       "      <th>4</th>\n",
       "      <td>9</td>\n",
       "      <td>10</td>\n",
       "    </tr>\n",
       "  </tbody>\n",
       "</table>\n",
       "</div>"
      ],
      "text/plain": [
       "   수온  상온\n",
       "0   1   2\n",
       "1   3   4\n",
       "2   5   6\n",
       "3   7   8\n",
       "4   9  10"
      ]
     },
     "execution_count": 73,
     "metadata": {},
     "output_type": "execute_result"
    }
   ],
   "source": [
    "ary = [[1,2],[3,4],[5,6],[7,8],[9,10]]\n",
    "data = pd.DataFrame(ary,columns=['수온','상온'])\n",
    "data"
   ]
  },
  {
   "cell_type": "code",
   "execution_count": 74,
   "id": "38ab364e",
   "metadata": {},
   "outputs": [
    {
     "data": {
      "text/html": [
       "<div>\n",
       "<style scoped>\n",
       "    .dataframe tbody tr th:only-of-type {\n",
       "        vertical-align: middle;\n",
       "    }\n",
       "\n",
       "    .dataframe tbody tr th {\n",
       "        vertical-align: top;\n",
       "    }\n",
       "\n",
       "    .dataframe thead th {\n",
       "        text-align: right;\n",
       "    }\n",
       "</style>\n",
       "<table border=\"1\" class=\"dataframe\">\n",
       "  <thead>\n",
       "    <tr style=\"text-align: right;\">\n",
       "      <th></th>\n",
       "      <th>수온</th>\n",
       "      <th>상온</th>\n",
       "    </tr>\n",
       "  </thead>\n",
       "  <tbody>\n",
       "    <tr>\n",
       "      <th>0</th>\n",
       "      <td>1.0</td>\n",
       "      <td>2</td>\n",
       "    </tr>\n",
       "    <tr>\n",
       "      <th>1</th>\n",
       "      <td>3.0</td>\n",
       "      <td>4</td>\n",
       "    </tr>\n",
       "    <tr>\n",
       "      <th>2</th>\n",
       "      <td>5.0</td>\n",
       "      <td>6</td>\n",
       "    </tr>\n",
       "    <tr>\n",
       "      <th>3</th>\n",
       "      <td>7.0</td>\n",
       "      <td>8</td>\n",
       "    </tr>\n",
       "    <tr>\n",
       "      <th>4</th>\n",
       "      <td>9.0</td>\n",
       "      <td>10</td>\n",
       "    </tr>\n",
       "  </tbody>\n",
       "</table>\n",
       "</div>"
      ],
      "text/plain": [
       "    수온  상온\n",
       "0  1.0   2\n",
       "1  3.0   4\n",
       "2  5.0   6\n",
       "3  7.0   8\n",
       "4  9.0  10"
      ]
     },
     "execution_count": 74,
     "metadata": {},
     "output_type": "execute_result"
    }
   ],
   "source": [
    "data['수온'] = data['수온'].astype('float')\n",
    "data"
   ]
  },
  {
   "cell_type": "code",
   "execution_count": 75,
   "id": "f08f67f7",
   "metadata": {},
   "outputs": [
    {
     "data": {
      "text/html": [
       "<div>\n",
       "<style scoped>\n",
       "    .dataframe tbody tr th:only-of-type {\n",
       "        vertical-align: middle;\n",
       "    }\n",
       "\n",
       "    .dataframe tbody tr th {\n",
       "        vertical-align: top;\n",
       "    }\n",
       "\n",
       "    .dataframe thead th {\n",
       "        text-align: right;\n",
       "    }\n",
       "</style>\n",
       "<table border=\"1\" class=\"dataframe\">\n",
       "  <thead>\n",
       "    <tr style=\"text-align: right;\">\n",
       "      <th></th>\n",
       "      <th>Series_reference</th>\n",
       "      <th>Period</th>\n",
       "      <th>Data_value</th>\n",
       "      <th>STATUS</th>\n",
       "      <th>UNITS</th>\n",
       "      <th>Subject</th>\n",
       "      <th>Group</th>\n",
       "      <th>Series_title_1</th>\n",
       "    </tr>\n",
       "  </thead>\n",
       "  <tbody>\n",
       "    <tr>\n",
       "      <th>0</th>\n",
       "      <td>CPIM.SE9S01</td>\n",
       "      <td>1999.06</td>\n",
       "      <td>645</td>\n",
       "      <td>REVISED</td>\n",
       "      <td>Index</td>\n",
       "      <td>Consumers Price Index - CPI</td>\n",
       "      <td>Food Price Index for New Zealand, Seasonally a...</td>\n",
       "      <td>Seasonally adjusted</td>\n",
       "    </tr>\n",
       "    <tr>\n",
       "      <th>1</th>\n",
       "      <td>CPIM.SE9S01</td>\n",
       "      <td>1999.07</td>\n",
       "      <td>647</td>\n",
       "      <td>REVISED</td>\n",
       "      <td>Index</td>\n",
       "      <td>Consumers Price Index - CPI</td>\n",
       "      <td>Food Price Index for New Zealand, Seasonally a...</td>\n",
       "      <td>Seasonally adjusted</td>\n",
       "    </tr>\n",
       "    <tr>\n",
       "      <th>2</th>\n",
       "      <td>CPIM.SE9S01</td>\n",
       "      <td>1999.08</td>\n",
       "      <td>645</td>\n",
       "      <td>REVISED</td>\n",
       "      <td>Index</td>\n",
       "      <td>Consumers Price Index - CPI</td>\n",
       "      <td>Food Price Index for New Zealand, Seasonally a...</td>\n",
       "      <td>Seasonally adjusted</td>\n",
       "    </tr>\n",
       "    <tr>\n",
       "      <th>3</th>\n",
       "      <td>CPIM.SE9S01</td>\n",
       "      <td>1999.09</td>\n",
       "      <td>644</td>\n",
       "      <td>REVISED</td>\n",
       "      <td>Index</td>\n",
       "      <td>Consumers Price Index - CPI</td>\n",
       "      <td>Food Price Index for New Zealand, Seasonally a...</td>\n",
       "      <td>Seasonally adjusted</td>\n",
       "    </tr>\n",
       "    <tr>\n",
       "      <th>4</th>\n",
       "      <td>CPIM.SE9S01</td>\n",
       "      <td>1999.10</td>\n",
       "      <td>641</td>\n",
       "      <td>REVISED</td>\n",
       "      <td>Index</td>\n",
       "      <td>Consumers Price Index - CPI</td>\n",
       "      <td>Food Price Index for New Zealand, Seasonally a...</td>\n",
       "      <td>Seasonally adjusted</td>\n",
       "    </tr>\n",
       "  </tbody>\n",
       "</table>\n",
       "</div>"
      ],
      "text/plain": [
       "  Series_reference   Period  Data_value   STATUS  UNITS  \\\n",
       "0      CPIM.SE9S01  1999.06         645  REVISED  Index   \n",
       "1      CPIM.SE9S01  1999.07         647  REVISED  Index   \n",
       "2      CPIM.SE9S01  1999.08         645  REVISED  Index   \n",
       "3      CPIM.SE9S01  1999.09         644  REVISED  Index   \n",
       "4      CPIM.SE9S01  1999.10         641  REVISED  Index   \n",
       "\n",
       "                       Subject  \\\n",
       "0  Consumers Price Index - CPI   \n",
       "1  Consumers Price Index - CPI   \n",
       "2  Consumers Price Index - CPI   \n",
       "3  Consumers Price Index - CPI   \n",
       "4  Consumers Price Index - CPI   \n",
       "\n",
       "                                               Group       Series_title_1  \n",
       "0  Food Price Index for New Zealand, Seasonally a...  Seasonally adjusted  \n",
       "1  Food Price Index for New Zealand, Seasonally a...  Seasonally adjusted  \n",
       "2  Food Price Index for New Zealand, Seasonally a...  Seasonally adjusted  \n",
       "3  Food Price Index for New Zealand, Seasonally a...  Seasonally adjusted  \n",
       "4  Food Price Index for New Zealand, Seasonally a...  Seasonally adjusted  "
      ]
     },
     "execution_count": 75,
     "metadata": {},
     "output_type": "execute_result"
    }
   ],
   "source": [
    "food = pd.read_csv('./datafile/food.csv')\n",
    "food.head()"
   ]
  },
  {
   "cell_type": "code",
   "execution_count": 76,
   "id": "57b0237c",
   "metadata": {},
   "outputs": [],
   "source": [
    "# 한글 인코딩 옵션 : utf-8, cp949, euc-kr"
   ]
  },
  {
   "cell_type": "code",
   "execution_count": 77,
   "id": "1e34196d",
   "metadata": {},
   "outputs": [
    {
     "data": {
      "text/html": [
       "<div>\n",
       "<style scoped>\n",
       "    .dataframe tbody tr th:only-of-type {\n",
       "        vertical-align: middle;\n",
       "    }\n",
       "\n",
       "    .dataframe tbody tr th {\n",
       "        vertical-align: top;\n",
       "    }\n",
       "\n",
       "    .dataframe thead th {\n",
       "        text-align: right;\n",
       "    }\n",
       "</style>\n",
       "<table border=\"1\" class=\"dataframe\">\n",
       "  <thead>\n",
       "    <tr style=\"text-align: right;\">\n",
       "      <th></th>\n",
       "      <th>��������</th>\n",
       "      <th>�־�</th>\n",
       "      <th>�߻��Ǽ�</th>\n",
       "      <th>����ڼ�</th>\n",
       "      <th>�λ��ڼ�</th>\n",
       "      <th>�߻�</th>\n",
       "      <th>���</th>\n",
       "      <th>�λ�Ű�</th>\n",
       "    </tr>\n",
       "  </thead>\n",
       "  <tbody>\n",
       "    <tr>\n",
       "      <th>0</th>\n",
       "      <td>����</td>\n",
       "      <td>��</td>\n",
       "      <td>159</td>\n",
       "      <td>34</td>\n",
       "      <td>334</td>\n",
       "      <td>140</td>\n",
       "      <td>178</td>\n",
       "      <td>16</td>\n",
       "    </tr>\n",
       "    <tr>\n",
       "      <th>1</th>\n",
       "      <td>����</td>\n",
       "      <td>��</td>\n",
       "      <td>218</td>\n",
       "      <td>73</td>\n",
       "      <td>348</td>\n",
       "      <td>200</td>\n",
       "      <td>139</td>\n",
       "      <td>9</td>\n",
       "    </tr>\n",
       "    <tr>\n",
       "      <th>2</th>\n",
       "      <td>������ ������ ����</td>\n",
       "      <td>��</td>\n",
       "      <td>8817</td>\n",
       "      <td>82</td>\n",
       "      <td>14031</td>\n",
       "      <td>3915</td>\n",
       "      <td>9530</td>\n",
       "      <td>586</td>\n",
       "    </tr>\n",
       "    <tr>\n",
       "      <th>3</th>\n",
       "      <td>������ ������ ����</td>\n",
       "      <td>��</td>\n",
       "      <td>5904</td>\n",
       "      <td>29</td>\n",
       "      <td>9728</td>\n",
       "      <td>2401</td>\n",
       "      <td>6884</td>\n",
       "      <td>443</td>\n",
       "    </tr>\n",
       "    <tr>\n",
       "      <th>4</th>\n",
       "      <td>��Ÿ</td>\n",
       "      <td>��</td>\n",
       "      <td>9388</td>\n",
       "      <td>141</td>\n",
       "      <td>14070</td>\n",
       "      <td>4271</td>\n",
       "      <td>9217</td>\n",
       "      <td>582</td>\n",
       "    </tr>\n",
       "    <tr>\n",
       "      <th>5</th>\n",
       "      <td>��Ÿ</td>\n",
       "      <td>��</td>\n",
       "      <td>6073</td>\n",
       "      <td>56</td>\n",
       "      <td>9218</td>\n",
       "      <td>2348</td>\n",
       "      <td>6457</td>\n",
       "      <td>413</td>\n",
       "    </tr>\n",
       "    <tr>\n",
       "      <th>6</th>\n",
       "      <td>������ ��ȣ�ǹ� ����</td>\n",
       "      <td>��</td>\n",
       "      <td>3772</td>\n",
       "      <td>80</td>\n",
       "      <td>3914</td>\n",
       "      <td>2063</td>\n",
       "      <td>1729</td>\n",
       "      <td>122</td>\n",
       "    </tr>\n",
       "    <tr>\n",
       "      <th>7</th>\n",
       "      <td>������ ��ȣ�ǹ� ����</td>\n",
       "      <td>��</td>\n",
       "      <td>3334</td>\n",
       "      <td>94</td>\n",
       "      <td>3535</td>\n",
       "      <td>1802</td>\n",
       "      <td>1626</td>\n",
       "      <td>107</td>\n",
       "    </tr>\n",
       "    <tr>\n",
       "      <th>8</th>\n",
       "      <td>��ȣ����</td>\n",
       "      <td>��</td>\n",
       "      <td>12552</td>\n",
       "      <td>210</td>\n",
       "      <td>20396</td>\n",
       "      <td>6816</td>\n",
       "      <td>12765</td>\n",
       "      <td>815</td>\n",
       "    </tr>\n",
       "    <tr>\n",
       "      <th>9</th>\n",
       "      <td>��ȣ����</td>\n",
       "      <td>��</td>\n",
       "      <td>12755</td>\n",
       "      <td>179</td>\n",
       "      <td>21724</td>\n",
       "      <td>7177</td>\n",
       "      <td>13749</td>\n",
       "      <td>798</td>\n",
       "    </tr>\n",
       "    <tr>\n",
       "      <th>10</th>\n",
       "      <td>�����Ÿ� ��Ȯ��</td>\n",
       "      <td>��</td>\n",
       "      <td>12408</td>\n",
       "      <td>57</td>\n",
       "      <td>22392</td>\n",
       "      <td>4509</td>\n",
       "      <td>16882</td>\n",
       "      <td>1001</td>\n",
       "    </tr>\n",
       "    <tr>\n",
       "      <th>11</th>\n",
       "      <td>�����Ÿ� ��Ȯ��</td>\n",
       "      <td>��</td>\n",
       "      <td>9867</td>\n",
       "      <td>40</td>\n",
       "      <td>17422</td>\n",
       "      <td>3025</td>\n",
       "      <td>13644</td>\n",
       "      <td>753</td>\n",
       "    </tr>\n",
       "    <tr>\n",
       "      <th>12</th>\n",
       "      <td>�������� �ǹ� ������</td>\n",
       "      <td>��</td>\n",
       "      <td>62608</td>\n",
       "      <td>1740</td>\n",
       "      <td>91076</td>\n",
       "      <td>28081</td>\n",
       "      <td>58472</td>\n",
       "      <td>4523</td>\n",
       "    </tr>\n",
       "    <tr>\n",
       "      <th>13</th>\n",
       "      <td>�������� �ǹ� ������</td>\n",
       "      <td>��</td>\n",
       "      <td>62783</td>\n",
       "      <td>2132</td>\n",
       "      <td>92942</td>\n",
       "      <td>26451</td>\n",
       "      <td>62209</td>\n",
       "      <td>4282</td>\n",
       "    </tr>\n",
       "    <tr>\n",
       "      <th>14</th>\n",
       "      <td>�߾Ӽ� ħ��</td>\n",
       "      <td>��</td>\n",
       "      <td>6825</td>\n",
       "      <td>243</td>\n",
       "      <td>12427</td>\n",
       "      <td>4658</td>\n",
       "      <td>7339</td>\n",
       "      <td>430</td>\n",
       "    </tr>\n",
       "    <tr>\n",
       "      <th>15</th>\n",
       "      <td>�߾Ӽ� ħ��</td>\n",
       "      <td>��</td>\n",
       "      <td>6193</td>\n",
       "      <td>202</td>\n",
       "      <td>11008</td>\n",
       "      <td>3846</td>\n",
       "      <td>6770</td>\n",
       "      <td>392</td>\n",
       "    </tr>\n",
       "  </tbody>\n",
       "</table>\n",
       "</div>"
      ],
      "text/plain": [
       "               �������� �־�  �߻��Ǽ�  ����ڼ�  �λ��ڼ�    �߻�    ���  �λ�Ű�\n",
       "0                  ����  ��     159      34     334    140    178     16\n",
       "1                  ����  ��     218      73     348    200    139      9\n",
       "2    ������ ������ ����  ��    8817      82   14031   3915   9530    586\n",
       "3    ������ ������ ����  ��    5904      29    9728   2401   6884    443\n",
       "4                   ��Ÿ  ��    9388     141   14070   4271   9217    582\n",
       "5                   ��Ÿ  ��    6073      56    9218   2348   6457    413\n",
       "6    ������ ��ȣ�ǹ� ����  ��    3772      80    3914   2063   1729    122\n",
       "7    ������ ��ȣ�ǹ� ����  ��    3334      94    3535   1802   1626    107\n",
       "8               ��ȣ����  ��   12552     210   20396   6816  12765    815\n",
       "9               ��ȣ����  ��   12755     179   21724   7177  13749    798\n",
       "10        �����Ÿ� ��Ȯ��  ��   12408      57   22392   4509  16882   1001\n",
       "11        �����Ÿ� ��Ȯ��  ��    9867      40   17422   3025  13644    753\n",
       "12  �������� �ǹ� ������  ��   62608    1740   91076  28081  58472   4523\n",
       "13  �������� �ǹ� ������  ��   62783    2132   92942  26451  62209   4282\n",
       "14             �߾Ӽ� ħ��  ��    6825     243   12427   4658   7339    430\n",
       "15             �߾Ӽ� ħ��  ��    6193     202   11008   3846   6770    392"
      ]
     },
     "execution_count": 77,
     "metadata": {},
     "output_type": "execute_result"
    }
   ],
   "source": [
    "accident = pd.read_csv('./datafile/acci.csv')\n",
    "accident"
   ]
  },
  {
   "cell_type": "code",
   "execution_count": 78,
   "id": "f5d4ae07",
   "metadata": {},
   "outputs": [
    {
     "data": {
      "text/html": [
       "<div>\n",
       "<style scoped>\n",
       "    .dataframe tbody tr th:only-of-type {\n",
       "        vertical-align: middle;\n",
       "    }\n",
       "\n",
       "    .dataframe tbody tr th {\n",
       "        vertical-align: top;\n",
       "    }\n",
       "\n",
       "    .dataframe thead th {\n",
       "        text-align: right;\n",
       "    }\n",
       "</style>\n",
       "<table border=\"1\" class=\"dataframe\">\n",
       "  <thead>\n",
       "    <tr style=\"text-align: right;\">\n",
       "      <th></th>\n",
       "      <th>법규위반</th>\n",
       "      <th>주야</th>\n",
       "      <th>발생건수</th>\n",
       "      <th>사망자수</th>\n",
       "      <th>부상자수</th>\n",
       "      <th>중상</th>\n",
       "      <th>경상</th>\n",
       "      <th>부상신고</th>\n",
       "    </tr>\n",
       "  </thead>\n",
       "  <tbody>\n",
       "    <tr>\n",
       "      <th>0</th>\n",
       "      <td>과속</td>\n",
       "      <td>주</td>\n",
       "      <td>159</td>\n",
       "      <td>34</td>\n",
       "      <td>334</td>\n",
       "      <td>140</td>\n",
       "      <td>178</td>\n",
       "      <td>16</td>\n",
       "    </tr>\n",
       "    <tr>\n",
       "      <th>1</th>\n",
       "      <td>과속</td>\n",
       "      <td>야</td>\n",
       "      <td>218</td>\n",
       "      <td>73</td>\n",
       "      <td>348</td>\n",
       "      <td>200</td>\n",
       "      <td>139</td>\n",
       "      <td>9</td>\n",
       "    </tr>\n",
       "    <tr>\n",
       "      <th>2</th>\n",
       "      <td>교차로 통행방법 위반</td>\n",
       "      <td>주</td>\n",
       "      <td>8817</td>\n",
       "      <td>82</td>\n",
       "      <td>14031</td>\n",
       "      <td>3915</td>\n",
       "      <td>9530</td>\n",
       "      <td>586</td>\n",
       "    </tr>\n",
       "    <tr>\n",
       "      <th>3</th>\n",
       "      <td>교차로 통행방법 위반</td>\n",
       "      <td>야</td>\n",
       "      <td>5904</td>\n",
       "      <td>29</td>\n",
       "      <td>9728</td>\n",
       "      <td>2401</td>\n",
       "      <td>6884</td>\n",
       "      <td>443</td>\n",
       "    </tr>\n",
       "    <tr>\n",
       "      <th>4</th>\n",
       "      <td>기타</td>\n",
       "      <td>주</td>\n",
       "      <td>9388</td>\n",
       "      <td>141</td>\n",
       "      <td>14070</td>\n",
       "      <td>4271</td>\n",
       "      <td>9217</td>\n",
       "      <td>582</td>\n",
       "    </tr>\n",
       "    <tr>\n",
       "      <th>5</th>\n",
       "      <td>기타</td>\n",
       "      <td>야</td>\n",
       "      <td>6073</td>\n",
       "      <td>56</td>\n",
       "      <td>9218</td>\n",
       "      <td>2348</td>\n",
       "      <td>6457</td>\n",
       "      <td>413</td>\n",
       "    </tr>\n",
       "    <tr>\n",
       "      <th>6</th>\n",
       "      <td>보행자 보호의무 위반</td>\n",
       "      <td>주</td>\n",
       "      <td>3772</td>\n",
       "      <td>80</td>\n",
       "      <td>3914</td>\n",
       "      <td>2063</td>\n",
       "      <td>1729</td>\n",
       "      <td>122</td>\n",
       "    </tr>\n",
       "    <tr>\n",
       "      <th>7</th>\n",
       "      <td>보행자 보호의무 위반</td>\n",
       "      <td>야</td>\n",
       "      <td>3334</td>\n",
       "      <td>94</td>\n",
       "      <td>3535</td>\n",
       "      <td>1802</td>\n",
       "      <td>1626</td>\n",
       "      <td>107</td>\n",
       "    </tr>\n",
       "    <tr>\n",
       "      <th>8</th>\n",
       "      <td>신호위반</td>\n",
       "      <td>주</td>\n",
       "      <td>12552</td>\n",
       "      <td>210</td>\n",
       "      <td>20396</td>\n",
       "      <td>6816</td>\n",
       "      <td>12765</td>\n",
       "      <td>815</td>\n",
       "    </tr>\n",
       "    <tr>\n",
       "      <th>9</th>\n",
       "      <td>신호위반</td>\n",
       "      <td>야</td>\n",
       "      <td>12755</td>\n",
       "      <td>179</td>\n",
       "      <td>21724</td>\n",
       "      <td>7177</td>\n",
       "      <td>13749</td>\n",
       "      <td>798</td>\n",
       "    </tr>\n",
       "    <tr>\n",
       "      <th>10</th>\n",
       "      <td>안전거리 미확보</td>\n",
       "      <td>주</td>\n",
       "      <td>12408</td>\n",
       "      <td>57</td>\n",
       "      <td>22392</td>\n",
       "      <td>4509</td>\n",
       "      <td>16882</td>\n",
       "      <td>1001</td>\n",
       "    </tr>\n",
       "    <tr>\n",
       "      <th>11</th>\n",
       "      <td>안전거리 미확보</td>\n",
       "      <td>야</td>\n",
       "      <td>9867</td>\n",
       "      <td>40</td>\n",
       "      <td>17422</td>\n",
       "      <td>3025</td>\n",
       "      <td>13644</td>\n",
       "      <td>753</td>\n",
       "    </tr>\n",
       "    <tr>\n",
       "      <th>12</th>\n",
       "      <td>안전운전 의무 불이행</td>\n",
       "      <td>주</td>\n",
       "      <td>62608</td>\n",
       "      <td>1740</td>\n",
       "      <td>91076</td>\n",
       "      <td>28081</td>\n",
       "      <td>58472</td>\n",
       "      <td>4523</td>\n",
       "    </tr>\n",
       "    <tr>\n",
       "      <th>13</th>\n",
       "      <td>안전운전 의무 불이행</td>\n",
       "      <td>야</td>\n",
       "      <td>62783</td>\n",
       "      <td>2132</td>\n",
       "      <td>92942</td>\n",
       "      <td>26451</td>\n",
       "      <td>62209</td>\n",
       "      <td>4282</td>\n",
       "    </tr>\n",
       "    <tr>\n",
       "      <th>14</th>\n",
       "      <td>중앙선 침범</td>\n",
       "      <td>주</td>\n",
       "      <td>6825</td>\n",
       "      <td>243</td>\n",
       "      <td>12427</td>\n",
       "      <td>4658</td>\n",
       "      <td>7339</td>\n",
       "      <td>430</td>\n",
       "    </tr>\n",
       "    <tr>\n",
       "      <th>15</th>\n",
       "      <td>중앙선 침범</td>\n",
       "      <td>야</td>\n",
       "      <td>6193</td>\n",
       "      <td>202</td>\n",
       "      <td>11008</td>\n",
       "      <td>3846</td>\n",
       "      <td>6770</td>\n",
       "      <td>392</td>\n",
       "    </tr>\n",
       "  </tbody>\n",
       "</table>\n",
       "</div>"
      ],
      "text/plain": [
       "           법규위반 주야   발생건수  사망자수   부상자수     중상     경상  부상신고\n",
       "0            과속  주    159    34    334    140    178    16\n",
       "1            과속  야    218    73    348    200    139     9\n",
       "2   교차로 통행방법 위반  주   8817    82  14031   3915   9530   586\n",
       "3   교차로 통행방법 위반  야   5904    29   9728   2401   6884   443\n",
       "4            기타  주   9388   141  14070   4271   9217   582\n",
       "5            기타  야   6073    56   9218   2348   6457   413\n",
       "6   보행자 보호의무 위반  주   3772    80   3914   2063   1729   122\n",
       "7   보행자 보호의무 위반  야   3334    94   3535   1802   1626   107\n",
       "8          신호위반  주  12552   210  20396   6816  12765   815\n",
       "9          신호위반  야  12755   179  21724   7177  13749   798\n",
       "10     안전거리 미확보  주  12408    57  22392   4509  16882  1001\n",
       "11     안전거리 미확보  야   9867    40  17422   3025  13644   753\n",
       "12  안전운전 의무 불이행  주  62608  1740  91076  28081  58472  4523\n",
       "13  안전운전 의무 불이행  야  62783  2132  92942  26451  62209  4282\n",
       "14       중앙선 침범  주   6825   243  12427   4658   7339   430\n",
       "15       중앙선 침범  야   6193   202  11008   3846   6770   392"
      ]
     },
     "execution_count": 78,
     "metadata": {},
     "output_type": "execute_result"
    }
   ],
   "source": [
    "accident = pd.read_csv('./datafile/acci.csv', encoding='cp949')\n",
    "accident"
   ]
  },
  {
   "cell_type": "code",
   "execution_count": null,
   "id": "8a9da739",
   "metadata": {},
   "outputs": [],
   "source": []
  }
 ],
 "metadata": {
  "kernelspec": {
   "display_name": "Python 3",
   "language": "python",
   "name": "python3"
  },
  "language_info": {
   "codemirror_mode": {
    "name": "ipython",
    "version": 3
   },
   "file_extension": ".py",
   "mimetype": "text/x-python",
   "name": "python",
   "nbconvert_exporter": "python",
   "pygments_lexer": "ipython3",
   "version": "3.8.8"
  }
 },
 "nbformat": 4,
 "nbformat_minor": 5
}

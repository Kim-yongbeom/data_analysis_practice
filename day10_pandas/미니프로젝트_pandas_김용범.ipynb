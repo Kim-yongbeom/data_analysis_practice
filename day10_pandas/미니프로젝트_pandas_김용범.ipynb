{
 "cells": [
  {
   "cell_type": "markdown",
   "id": "f896b0fd",
   "metadata": {},
   "source": [
    "# 미니프로젝트 1번"
   ]
  },
  {
   "cell_type": "code",
   "execution_count": 1,
   "id": "e7b7aaf5",
   "metadata": {},
   "outputs": [],
   "source": [
    "import pandas as pd"
   ]
  },
  {
   "cell_type": "code",
   "execution_count": 2,
   "id": "38e08602",
   "metadata": {},
   "outputs": [
    {
     "data": {
      "text/html": [
       "<div>\n",
       "<style scoped>\n",
       "    .dataframe tbody tr th:only-of-type {\n",
       "        vertical-align: middle;\n",
       "    }\n",
       "\n",
       "    .dataframe tbody tr th {\n",
       "        vertical-align: top;\n",
       "    }\n",
       "\n",
       "    .dataframe thead th {\n",
       "        text-align: right;\n",
       "    }\n",
       "</style>\n",
       "<table border=\"1\" class=\"dataframe\">\n",
       "  <thead>\n",
       "    <tr style=\"text-align: right;\">\n",
       "      <th></th>\n",
       "      <th>컴퓨터</th>\n",
       "      <th>모니터</th>\n",
       "      <th>노트북</th>\n",
       "      <th>스마트폰</th>\n",
       "    </tr>\n",
       "  </thead>\n",
       "  <tbody>\n",
       "    <tr>\n",
       "      <th>서울지점</th>\n",
       "      <td>869</td>\n",
       "      <td>374</td>\n",
       "      <td>569</td>\n",
       "      <td>197</td>\n",
       "    </tr>\n",
       "    <tr>\n",
       "      <th>부산지점</th>\n",
       "      <td>578</td>\n",
       "      <td>286</td>\n",
       "      <td>427</td>\n",
       "      <td>89</td>\n",
       "    </tr>\n",
       "    <tr>\n",
       "      <th>제주지점</th>\n",
       "      <td>321</td>\n",
       "      <td>148</td>\n",
       "      <td>335</td>\n",
       "      <td>66</td>\n",
       "    </tr>\n",
       "  </tbody>\n",
       "</table>\n",
       "</div>"
      ],
      "text/plain": [
       "      컴퓨터  모니터  노트북  스마트폰\n",
       "서울지점  869  374  569   197\n",
       "부산지점  578  286  427    89\n",
       "제주지점  321  148  335    66"
      ]
     },
     "execution_count": 2,
     "metadata": {},
     "output_type": "execute_result"
    }
   ],
   "source": [
    "df = pd.DataFrame([[869,374,569,197],\n",
    "                   [578,286,427,89],\n",
    "                   [321,148,335,66]],\n",
    "                  index = ['서울지점','부산지점','제주지점'],\n",
    "                  columns=['컴퓨터','모니터','노트북','스마트폰']\n",
    "                 )\n",
    "df"
   ]
  },
  {
   "cell_type": "code",
   "execution_count": 4,
   "id": "f5b5c425",
   "metadata": {},
   "outputs": [
    {
     "data": {
      "text/plain": [
       "컴퓨터     869\n",
       "모니터     374\n",
       "노트북     569\n",
       "스마트폰    197\n",
       "Name: 서울지점, dtype: int64"
      ]
     },
     "execution_count": 4,
     "metadata": {},
     "output_type": "execute_result"
    }
   ],
   "source": [
    "df.iloc[0]"
   ]
  },
  {
   "cell_type": "code",
   "execution_count": 5,
   "id": "33e71668",
   "metadata": {},
   "outputs": [
    {
     "data": {
      "text/plain": [
       "컴퓨터     321\n",
       "모니터     148\n",
       "노트북     335\n",
       "스마트폰     66\n",
       "Name: 제주지점, dtype: int64"
      ]
     },
     "execution_count": 5,
     "metadata": {},
     "output_type": "execute_result"
    }
   ],
   "source": [
    "df.loc['제주지점']"
   ]
  },
  {
   "cell_type": "code",
   "execution_count": 6,
   "id": "50ce77d0",
   "metadata": {},
   "outputs": [
    {
     "data": {
      "text/plain": [
       "서울지점    569\n",
       "부산지점    427\n",
       "제주지점    335\n",
       "Name: 노트북, dtype: int64"
      ]
     },
     "execution_count": 6,
     "metadata": {},
     "output_type": "execute_result"
    }
   ],
   "source": [
    "df.loc[:,'노트북']"
   ]
  },
  {
   "cell_type": "markdown",
   "id": "46b9e655",
   "metadata": {},
   "source": [
    "# 미니프로젝트 2번"
   ]
  },
  {
   "cell_type": "code",
   "execution_count": 20,
   "id": "2e63b7d6",
   "metadata": {},
   "outputs": [
    {
     "data": {
      "text/html": [
       "<div>\n",
       "<style scoped>\n",
       "    .dataframe tbody tr th:only-of-type {\n",
       "        vertical-align: middle;\n",
       "    }\n",
       "\n",
       "    .dataframe tbody tr th {\n",
       "        vertical-align: top;\n",
       "    }\n",
       "\n",
       "    .dataframe thead th {\n",
       "        text-align: right;\n",
       "    }\n",
       "</style>\n",
       "<table border=\"1\" class=\"dataframe\">\n",
       "  <thead>\n",
       "    <tr style=\"text-align: right;\">\n",
       "      <th></th>\n",
       "      <th>지점</th>\n",
       "      <th>컴퓨터</th>\n",
       "      <th>모니터</th>\n",
       "      <th>노트북</th>\n",
       "      <th>스마트폰</th>\n",
       "    </tr>\n",
       "  </thead>\n",
       "  <tbody>\n",
       "    <tr>\n",
       "      <th>0</th>\n",
       "      <td>서울지점</td>\n",
       "      <td>869</td>\n",
       "      <td>374</td>\n",
       "      <td>569</td>\n",
       "      <td>197</td>\n",
       "    </tr>\n",
       "    <tr>\n",
       "      <th>1</th>\n",
       "      <td>부산지점</td>\n",
       "      <td>578</td>\n",
       "      <td>286</td>\n",
       "      <td>427</td>\n",
       "      <td>89</td>\n",
       "    </tr>\n",
       "    <tr>\n",
       "      <th>2</th>\n",
       "      <td>제주지점</td>\n",
       "      <td>321</td>\n",
       "      <td>148</td>\n",
       "      <td>335</td>\n",
       "      <td>66</td>\n",
       "    </tr>\n",
       "  </tbody>\n",
       "</table>\n",
       "</div>"
      ],
      "text/plain": [
       "     지점  컴퓨터  모니터  노트북  스마트폰\n",
       "0  서울지점  869  374  569   197\n",
       "1  부산지점  578  286  427    89\n",
       "2  제주지점  321  148  335    66"
      ]
     },
     "execution_count": 20,
     "metadata": {},
     "output_type": "execute_result"
    }
   ],
   "source": [
    "import pandas as pd\n",
    "df = pd.DataFrame([\n",
    "                  ['서울지점',869,374,569,197],\n",
    "                  ['부산지점',578,286,427,89],\n",
    "                  ['제주지점',321,148,335,66]],\n",
    "                 columns=['지점','컴퓨터','모니터','노트북','스마트폰']\n",
    "                 )\n",
    "df"
   ]
  },
  {
   "cell_type": "code",
   "execution_count": 21,
   "id": "97ff5753",
   "metadata": {},
   "outputs": [
    {
     "data": {
      "text/plain": [
       "0    서울지점\n",
       "1    부산지점\n",
       "2    제주지점\n",
       "Name: 지점, dtype: object"
      ]
     },
     "execution_count": 21,
     "metadata": {},
     "output_type": "execute_result"
    }
   ],
   "source": [
    "df.지점"
   ]
  },
  {
   "cell_type": "code",
   "execution_count": 22,
   "id": "826a0f78",
   "metadata": {},
   "outputs": [
    {
     "data": {
      "text/html": [
       "<div>\n",
       "<style scoped>\n",
       "    .dataframe tbody tr th:only-of-type {\n",
       "        vertical-align: middle;\n",
       "    }\n",
       "\n",
       "    .dataframe tbody tr th {\n",
       "        vertical-align: top;\n",
       "    }\n",
       "\n",
       "    .dataframe thead th {\n",
       "        text-align: right;\n",
       "    }\n",
       "</style>\n",
       "<table border=\"1\" class=\"dataframe\">\n",
       "  <thead>\n",
       "    <tr style=\"text-align: right;\">\n",
       "      <th></th>\n",
       "      <th>지점</th>\n",
       "      <th>노트북</th>\n",
       "    </tr>\n",
       "  </thead>\n",
       "  <tbody>\n",
       "    <tr>\n",
       "      <th>0</th>\n",
       "      <td>서울지점</td>\n",
       "      <td>569</td>\n",
       "    </tr>\n",
       "    <tr>\n",
       "      <th>1</th>\n",
       "      <td>부산지점</td>\n",
       "      <td>427</td>\n",
       "    </tr>\n",
       "    <tr>\n",
       "      <th>2</th>\n",
       "      <td>제주지점</td>\n",
       "      <td>335</td>\n",
       "    </tr>\n",
       "  </tbody>\n",
       "</table>\n",
       "</div>"
      ],
      "text/plain": [
       "     지점  노트북\n",
       "0  서울지점  569\n",
       "1  부산지점  427\n",
       "2  제주지점  335"
      ]
     },
     "execution_count": 22,
     "metadata": {},
     "output_type": "execute_result"
    }
   ],
   "source": [
    "df[['지점','노트북']]"
   ]
  },
  {
   "cell_type": "code",
   "execution_count": 23,
   "id": "5443e23b",
   "metadata": {},
   "outputs": [
    {
     "data": {
      "text/html": [
       "<div>\n",
       "<style scoped>\n",
       "    .dataframe tbody tr th:only-of-type {\n",
       "        vertical-align: middle;\n",
       "    }\n",
       "\n",
       "    .dataframe tbody tr th {\n",
       "        vertical-align: top;\n",
       "    }\n",
       "\n",
       "    .dataframe thead th {\n",
       "        text-align: right;\n",
       "    }\n",
       "</style>\n",
       "<table border=\"1\" class=\"dataframe\">\n",
       "  <thead>\n",
       "    <tr style=\"text-align: right;\">\n",
       "      <th></th>\n",
       "      <th>지점</th>\n",
       "      <th>컴퓨터</th>\n",
       "      <th>모니터</th>\n",
       "      <th>노트북</th>\n",
       "      <th>스마트폰</th>\n",
       "    </tr>\n",
       "  </thead>\n",
       "  <tbody>\n",
       "    <tr>\n",
       "      <th>0</th>\n",
       "      <td>서울지점</td>\n",
       "      <td>869</td>\n",
       "      <td>374</td>\n",
       "      <td>569</td>\n",
       "      <td>197</td>\n",
       "    </tr>\n",
       "    <tr>\n",
       "      <th>1</th>\n",
       "      <td>부산지점</td>\n",
       "      <td>578</td>\n",
       "      <td>286</td>\n",
       "      <td>427</td>\n",
       "      <td>89</td>\n",
       "    </tr>\n",
       "    <tr>\n",
       "      <th>2</th>\n",
       "      <td>제주지점</td>\n",
       "      <td>321</td>\n",
       "      <td>148</td>\n",
       "      <td>335</td>\n",
       "      <td>66</td>\n",
       "    </tr>\n",
       "  </tbody>\n",
       "</table>\n",
       "</div>"
      ],
      "text/plain": [
       "     지점  컴퓨터  모니터  노트북  스마트폰\n",
       "0  서울지점  869  374  569   197\n",
       "1  부산지점  578  286  427    89\n",
       "2  제주지점  321  148  335    66"
      ]
     },
     "execution_count": 23,
     "metadata": {},
     "output_type": "execute_result"
    }
   ],
   "source": [
    "df[:]"
   ]
  },
  {
   "cell_type": "markdown",
   "id": "87a53f95",
   "metadata": {},
   "source": [
    "# 미니프로젝트 3번"
   ]
  },
  {
   "cell_type": "code",
   "execution_count": 24,
   "id": "5281cb17",
   "metadata": {},
   "outputs": [
    {
     "data": {
      "text/html": [
       "<div>\n",
       "<style scoped>\n",
       "    .dataframe tbody tr th:only-of-type {\n",
       "        vertical-align: middle;\n",
       "    }\n",
       "\n",
       "    .dataframe tbody tr th {\n",
       "        vertical-align: top;\n",
       "    }\n",
       "\n",
       "    .dataframe thead th {\n",
       "        text-align: right;\n",
       "    }\n",
       "</style>\n",
       "<table border=\"1\" class=\"dataframe\">\n",
       "  <thead>\n",
       "    <tr style=\"text-align: right;\">\n",
       "      <th></th>\n",
       "      <th>컴퓨터</th>\n",
       "      <th>모니터</th>\n",
       "      <th>노트북</th>\n",
       "      <th>스마트폰</th>\n",
       "    </tr>\n",
       "    <tr>\n",
       "      <th>지점명</th>\n",
       "      <th></th>\n",
       "      <th></th>\n",
       "      <th></th>\n",
       "      <th></th>\n",
       "    </tr>\n",
       "  </thead>\n",
       "  <tbody>\n",
       "    <tr>\n",
       "      <th>서울지점</th>\n",
       "      <td>869</td>\n",
       "      <td>374</td>\n",
       "      <td>569</td>\n",
       "      <td>197</td>\n",
       "    </tr>\n",
       "    <tr>\n",
       "      <th>제주지점</th>\n",
       "      <td>321</td>\n",
       "      <td>148</td>\n",
       "      <td>335</td>\n",
       "      <td>66</td>\n",
       "    </tr>\n",
       "  </tbody>\n",
       "</table>\n",
       "</div>"
      ],
      "text/plain": [
       "      컴퓨터  모니터  노트북  스마트폰\n",
       "지점명                      \n",
       "서울지점  869  374  569   197\n",
       "제주지점  321  148  335    66"
      ]
     },
     "execution_count": 24,
     "metadata": {},
     "output_type": "execute_result"
    }
   ],
   "source": [
    "import pandas as pd\n",
    "df = pd.DataFrame([\n",
    "                  ['서울지점',869,374,569],\n",
    "                  ['제주지점',321,148,335]],\n",
    "                 columns=['지점명','컴퓨터','모니터','노트북']\n",
    "                 )\n",
    "df.set_index('지점명',inplace=True)\n",
    "df['스마트폰'] = 0\n",
    "df.loc[['서울지점'],'스마트폰'] = 197\n",
    "df.iloc[1,3] = 66\n",
    "df"
   ]
  },
  {
   "cell_type": "code",
   "execution_count": null,
   "id": "fbe8bc5e",
   "metadata": {},
   "outputs": [],
   "source": []
  }
 ],
 "metadata": {
  "kernelspec": {
   "display_name": "Python 3",
   "language": "python",
   "name": "python3"
  },
  "language_info": {
   "codemirror_mode": {
    "name": "ipython",
    "version": 3
   },
   "file_extension": ".py",
   "mimetype": "text/x-python",
   "name": "python",
   "nbconvert_exporter": "python",
   "pygments_lexer": "ipython3",
   "version": "3.8.8"
  },
  "toc": {
   "base_numbering": 1,
   "nav_menu": {},
   "number_sections": true,
   "sideBar": true,
   "skip_h1_title": false,
   "title_cell": "Table of Contents",
   "title_sidebar": "Contents",
   "toc_cell": false,
   "toc_position": {},
   "toc_section_display": true,
   "toc_window_display": false
  }
 },
 "nbformat": 4,
 "nbformat_minor": 5
}

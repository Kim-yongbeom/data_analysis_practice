{
 "cells": [
  {
   "cell_type": "code",
   "execution_count": 1,
   "id": "1695b24e",
   "metadata": {},
   "outputs": [
    {
     "name": "stderr",
     "output_type": "stream",
     "text": [
      "Exception in Tkinter callback\n",
      "Traceback (most recent call last):\n",
      "  File \"/Users/gim-yongbeom/opt/anaconda3/lib/python3.8/tkinter/__init__.py\", line 1892, in __call__\n",
      "    return self.func(*args)\n",
      "  File \"<ipython-input-1-104f8881c649>\", line 40, in ButtonClick\n",
      "    tsmg.showinfo(\"맞췄다\", \"축하합니다. 맞췄습니다\")\n",
      "NameError: name 'tsmg' is not defined\n",
      "Exception in Tkinter callback\n",
      "Traceback (most recent call last):\n",
      "  File \"/Users/gim-yongbeom/opt/anaconda3/lib/python3.8/tkinter/__init__.py\", line 1892, in __call__\n",
      "    return self.func(*args)\n",
      "  File \"<ipython-input-1-104f8881c649>\", line 40, in ButtonClick\n",
      "    tsmg.showinfo(\"맞췄다\", \"축하합니다. 맞췄습니다\")\n",
      "NameError: name 'tsmg' is not defined\n"
     ]
    }
   ],
   "source": [
    "import tkinter as tk\n",
    "import tkinter.messagebox as tmsg\n",
    "import random\n",
    "\n",
    "# 처음에 랜덤인 4개의 숫자를 작성해 둔다.\n",
    "a = [random.randint(0,9),\n",
    "     random.randint(0,9),\n",
    "     random.randint(0,9),\n",
    "     random.randint(0,9)]\n",
    "\n",
    "# 버튼 함수\n",
    "def ButtonClick():\n",
    "    b = editbox1.get()  #  텍스트 입력칸에 입력된 문자열을 취득\n",
    "    isok = False\n",
    "    if len(b) != 4:\n",
    "        tmsg.showerror(\"오류\", \"4자리수의 숫자를 입력하세요\")\n",
    "    else:\n",
    "        numberok = True\n",
    "        for i in range(4):\n",
    "            if(b[i]<\"0\") or (b[i]>\"9\"):\n",
    "                tmsg.showerror(\"오류\", \"숫자가 아닙니다\")\n",
    "                numberok = False\n",
    "                break\n",
    "        if numberok:\n",
    "            isok = True\n",
    "    if isok:\n",
    "        hit = 0\n",
    "        for i in range(4):\n",
    "            if a[i] == int(b[i]):\n",
    "                hit = hit + 1\n",
    "        blow = 0\n",
    "        for j in range(4):\n",
    "            for i in range(4):\n",
    "                if(int(b[j])==a[i]) and (a[i] != int(b[i]))and (a[j] != int(b[j])):\n",
    "                    blow = blow + 1\n",
    "                    break\n",
    "                    \n",
    "        # 히트가 4라면 맞춰서 종료\n",
    "        if hit == 4:\n",
    "            tsmg.showinfo(\"맞췄다\", \"축하합니다. 맞췄습니다\")\n",
    "        else:\n",
    "            # 히트수와 블로수를 표시\n",
    "            tmsg.showinfo(\"힌트\",\"히트\" + str(hit)+\"/\"+\"블로\"+str(blow))\n",
    "            \n",
    "# 메인 프로그램\n",
    "# 윈도우를 만든다\n",
    "root = tk.Tk()\n",
    "root.geometry(\"400x150\")\n",
    "root.title(\"수 맞추기 게임\")\n",
    "\n",
    "# 라벨을 만든다\n",
    "label1 = tk.Label(root,text=\"숫자를 입력하세요\", font=(\"Helvetica\",14))\n",
    "label1.place(x=20,y=21)\n",
    "\n",
    "# 텍스트 박스를 만든다\n",
    "editbox1 = tk.Entry(width = 5, font=(\"Helvetica\", 14))\n",
    "editbox1.place(x=140,y=19)\n",
    "\n",
    "# 버튼을 만든다\n",
    "button1 = tk.Button(root, text=\"확인\", font=(\"Helvetica\", 14), command = ButtonClick )\n",
    "button1.place(x=220,y=18)\n",
    "\n",
    "# 윈도우를 표시한다\n",
    "root.mainloop()"
   ]
  },
  {
   "cell_type": "code",
   "execution_count": null,
   "id": "87c6839f",
   "metadata": {},
   "outputs": [],
   "source": []
  }
 ],
 "metadata": {
  "kernelspec": {
   "display_name": "Python 3",
   "language": "python",
   "name": "python3"
  },
  "language_info": {
   "codemirror_mode": {
    "name": "ipython",
    "version": 3
   },
   "file_extension": ".py",
   "mimetype": "text/x-python",
   "name": "python",
   "nbconvert_exporter": "python",
   "pygments_lexer": "ipython3",
   "version": "3.8.8"
  }
 },
 "nbformat": 4,
 "nbformat_minor": 5
}

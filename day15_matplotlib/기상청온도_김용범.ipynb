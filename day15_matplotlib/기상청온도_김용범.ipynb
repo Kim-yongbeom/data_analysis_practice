{
 "cells": [
  {
   "cell_type": "markdown",
   "id": "d6631818",
   "metadata": {},
   "source": [
    "### https://data.kma.go.kr/cmmn/main.do -> 기후통계분석 -> 통계분석 -> 기온분석\n",
    "- 19960920 ~ \n",
    "- 서울"
   ]
  },
  {
   "cell_type": "code",
   "execution_count": 1,
   "id": "6029cb0f",
   "metadata": {},
   "outputs": [],
   "source": [
    "import pandas as pd\n",
    "import matplotlib.pyplot as plt\n",
    "import seaborn as sns"
   ]
  },
  {
   "cell_type": "code",
   "execution_count": 2,
   "id": "4fc0b55d",
   "metadata": {},
   "outputs": [],
   "source": [
    "plt.rc('font',family='AppleGothic')\n",
    "plt.rcParams['axes.unicode_minus'] = False"
   ]
  },
  {
   "cell_type": "code",
   "execution_count": 3,
   "id": "15dc4953",
   "metadata": {},
   "outputs": [
    {
     "data": {
      "text/html": [
       "<div>\n",
       "<style scoped>\n",
       "    .dataframe tbody tr th:only-of-type {\n",
       "        vertical-align: middle;\n",
       "    }\n",
       "\n",
       "    .dataframe tbody tr th {\n",
       "        vertical-align: top;\n",
       "    }\n",
       "\n",
       "    .dataframe thead th {\n",
       "        text-align: right;\n",
       "    }\n",
       "</style>\n",
       "<table border=\"1\" class=\"dataframe\">\n",
       "  <thead>\n",
       "    <tr style=\"text-align: right;\">\n",
       "      <th></th>\n",
       "      <th>날짜</th>\n",
       "      <th>지점</th>\n",
       "      <th>평균기온(℃)</th>\n",
       "      <th>최저기온(℃)</th>\n",
       "      <th>최고기온(℃)</th>\n",
       "    </tr>\n",
       "  </thead>\n",
       "  <tbody>\n",
       "    <tr>\n",
       "      <th>0</th>\n",
       "      <td>1996-09-20</td>\n",
       "      <td>108</td>\n",
       "      <td>20.5</td>\n",
       "      <td>16.7</td>\n",
       "      <td>25.1</td>\n",
       "    </tr>\n",
       "    <tr>\n",
       "      <th>1</th>\n",
       "      <td>1996-09-21</td>\n",
       "      <td>108</td>\n",
       "      <td>18.6</td>\n",
       "      <td>11.6</td>\n",
       "      <td>25.6</td>\n",
       "    </tr>\n",
       "    <tr>\n",
       "      <th>2</th>\n",
       "      <td>1996-09-22</td>\n",
       "      <td>108</td>\n",
       "      <td>19.4</td>\n",
       "      <td>12.8</td>\n",
       "      <td>26.4</td>\n",
       "    </tr>\n",
       "    <tr>\n",
       "      <th>3</th>\n",
       "      <td>1996-09-23</td>\n",
       "      <td>108</td>\n",
       "      <td>21.3</td>\n",
       "      <td>16.4</td>\n",
       "      <td>27.0</td>\n",
       "    </tr>\n",
       "    <tr>\n",
       "      <th>4</th>\n",
       "      <td>1996-09-24</td>\n",
       "      <td>108</td>\n",
       "      <td>22.9</td>\n",
       "      <td>19.9</td>\n",
       "      <td>27.1</td>\n",
       "    </tr>\n",
       "    <tr>\n",
       "      <th>...</th>\n",
       "      <td>...</td>\n",
       "      <td>...</td>\n",
       "      <td>...</td>\n",
       "      <td>...</td>\n",
       "      <td>...</td>\n",
       "    </tr>\n",
       "    <tr>\n",
       "      <th>9177</th>\n",
       "      <td>2021-11-05</td>\n",
       "      <td>108</td>\n",
       "      <td>13.0</td>\n",
       "      <td>7.8</td>\n",
       "      <td>20.2</td>\n",
       "    </tr>\n",
       "    <tr>\n",
       "      <th>9178</th>\n",
       "      <td>2021-11-06</td>\n",
       "      <td>108</td>\n",
       "      <td>14.1</td>\n",
       "      <td>8.8</td>\n",
       "      <td>21.3</td>\n",
       "    </tr>\n",
       "    <tr>\n",
       "      <th>9179</th>\n",
       "      <td>2021-11-07</td>\n",
       "      <td>108</td>\n",
       "      <td>15.3</td>\n",
       "      <td>9.7</td>\n",
       "      <td>21.3</td>\n",
       "    </tr>\n",
       "    <tr>\n",
       "      <th>9180</th>\n",
       "      <td>2021-11-08</td>\n",
       "      <td>108</td>\n",
       "      <td>8.6</td>\n",
       "      <td>4.5</td>\n",
       "      <td>15.5</td>\n",
       "    </tr>\n",
       "    <tr>\n",
       "      <th>9181</th>\n",
       "      <td>2021-11-09</td>\n",
       "      <td>108</td>\n",
       "      <td>4.9</td>\n",
       "      <td>3.0</td>\n",
       "      <td>6.5</td>\n",
       "    </tr>\n",
       "  </tbody>\n",
       "</table>\n",
       "<p>9182 rows × 5 columns</p>\n",
       "</div>"
      ],
      "text/plain": [
       "              날짜   지점  평균기온(℃)  최저기온(℃)  최고기온(℃)\n",
       "0     1996-09-20  108     20.5     16.7     25.1\n",
       "1     1996-09-21  108     18.6     11.6     25.6\n",
       "2     1996-09-22  108     19.4     12.8     26.4\n",
       "3     1996-09-23  108     21.3     16.4     27.0\n",
       "4     1996-09-24  108     22.9     19.9     27.1\n",
       "...          ...  ...      ...      ...      ...\n",
       "9177  2021-11-05  108     13.0      7.8     20.2\n",
       "9178  2021-11-06  108     14.1      8.8     21.3\n",
       "9179  2021-11-07  108     15.3      9.7     21.3\n",
       "9180  2021-11-08  108      8.6      4.5     15.5\n",
       "9181  2021-11-09  108      4.9      3.0      6.5\n",
       "\n",
       "[9182 rows x 5 columns]"
      ]
     },
     "execution_count": 3,
     "metadata": {},
     "output_type": "execute_result"
    }
   ],
   "source": [
    "df = pd.read_csv('ta_20211110171949.csv', encoding='cp949',skiprows=6) # 이상한 행 스킵하기\n",
    "df"
   ]
  },
  {
   "cell_type": "code",
   "execution_count": 12,
   "id": "aab3fdcf",
   "metadata": {},
   "outputs": [
    {
     "data": {
      "text/plain": [
       "<AxesSubplot:>"
      ]
     },
     "execution_count": 12,
     "metadata": {},
     "output_type": "execute_result"
    },
    {
     "data": {
      "image/png": "[encoded data removed]",
      "text/plain": [
       "<Figure size 720x288 with 1 Axes>"
      ]
     },
     "metadata": {
      "needs_background": "light"
     },
     "output_type": "display_data"
    }
   ],
   "source": [
    "birth = df[df['날짜'].str.contains('-09-20')]\n",
    "birth = birth[birth['평균기온(℃)'].notnull()]\n",
    "birth[['최저기온(℃)','최고기온(℃)','평균기온(℃)']].plot(figsize=(10,4))"
   ]
  },
  {
   "cell_type": "code",
   "execution_count": 13,
   "id": "2aa75e6d",
   "metadata": {},
   "outputs": [
    {
     "data": {
      "image/png": "[encoded data removed]",
      "text/plain": [
       "<Figure size 1080x288 with 1 Axes>"
      ]
     },
     "metadata": {
      "needs_background": "light"
     },
     "output_type": "display_data"
    }
   ],
   "source": [
    "import datetime\n",
    "\n",
    "birth.날짜 = pd.to_datetime(birth.날짜)\n",
    "birth.set_index('날짜', inplace=True)\n",
    "\n",
    "# birth\n",
    "birth[['최저기온(℃)','최고기온(℃)','평균기온(℃)']].plot(figsize=(15,4))\n",
    "plt.show()"
   ]
  },
  {
   "cell_type": "markdown",
   "id": "51992662",
   "metadata": {},
   "source": [
    "### 지금까지의 최고 기온을 확인\n",
    "- Assumption 1 : 최고기온이 높은날이 평균기온 높은 날과 같은지 분석\n",
    "- Assumption 2 : 평균기온이 높으면 최고기온이 영향을 받는가?\n",
    "- Assumption 3 : 최고기온이 높으면 최저기온은 어떤 영향을 가지고 있는가?\n",
    "- Assumption 4 : 최저기온이 낮으면 최고기온도 낮은가?\n",
    "- Assumption 5 : 최저기온이 낮으면 최고기온의 영향은 어떤지 분석\n",
    "- Assumption 6 : 최저기온이 낮으면 평균기온도 낮은가? => 어떤 관계가 있는가? => 관계성 분석\n",
    "- Assumption 7 : 일교차가 가장 큰 날은 어느 날인가?\n",
    "- Assumption 8 : 일교차가 크게 발생한 년도는 언제인가?"
   ]
  },
  {
   "cell_type": "code",
   "execution_count": 19,
   "id": "be292c1f",
   "metadata": {},
   "outputs": [
    {
     "data": {
      "text/html": [
       "<div>\n",
       "<style scoped>\n",
       "    .dataframe tbody tr th:only-of-type {\n",
       "        vertical-align: middle;\n",
       "    }\n",
       "\n",
       "    .dataframe tbody tr th {\n",
       "        vertical-align: top;\n",
       "    }\n",
       "\n",
       "    .dataframe thead th {\n",
       "        text-align: right;\n",
       "    }\n",
       "</style>\n",
       "<table border=\"1\" class=\"dataframe\">\n",
       "  <thead>\n",
       "    <tr style=\"text-align: right;\">\n",
       "      <th></th>\n",
       "      <th>날짜</th>\n",
       "      <th>지점</th>\n",
       "      <th>평균기온(℃)</th>\n",
       "      <th>최저기온(℃)</th>\n",
       "      <th>최고기온(℃)</th>\n",
       "    </tr>\n",
       "  </thead>\n",
       "  <tbody>\n",
       "    <tr>\n",
       "      <th>7985</th>\n",
       "      <td>2018-08-01</td>\n",
       "      <td>108</td>\n",
       "      <td>33.6</td>\n",
       "      <td>27.8</td>\n",
       "      <td>39.6</td>\n",
       "    </tr>\n",
       "  </tbody>\n",
       "</table>\n",
       "</div>"
      ],
      "text/plain": [
       "              날짜   지점  평균기온(℃)  최저기온(℃)  최고기온(℃)\n",
       "7985  2018-08-01  108     33.6     27.8     39.6"
      ]
     },
     "execution_count": 19,
     "metadata": {},
     "output_type": "execute_result"
    }
   ],
   "source": [
    "maxtemp = df.iloc[[df['최고기온(℃)'].idxmax()]]\n",
    "maxtemp"
   ]
  },
  {
   "cell_type": "code",
   "execution_count": 21,
   "id": "634d70d8",
   "metadata": {},
   "outputs": [
    {
     "data": {
      "text/html": [
       "<div>\n",
       "<style scoped>\n",
       "    .dataframe tbody tr th:only-of-type {\n",
       "        vertical-align: middle;\n",
       "    }\n",
       "\n",
       "    .dataframe tbody tr th {\n",
       "        vertical-align: top;\n",
       "    }\n",
       "\n",
       "    .dataframe thead th {\n",
       "        text-align: right;\n",
       "    }\n",
       "</style>\n",
       "<table border=\"1\" class=\"dataframe\">\n",
       "  <thead>\n",
       "    <tr style=\"text-align: right;\">\n",
       "      <th></th>\n",
       "      <th>날짜</th>\n",
       "      <th>지점</th>\n",
       "      <th>평균기온(℃)</th>\n",
       "      <th>최저기온(℃)</th>\n",
       "      <th>최고기온(℃)</th>\n",
       "    </tr>\n",
       "  </thead>\n",
       "  <tbody>\n",
       "    <tr>\n",
       "      <th>7986</th>\n",
       "      <td>2018-08-02</td>\n",
       "      <td>108</td>\n",
       "      <td>33.7</td>\n",
       "      <td>30.3</td>\n",
       "      <td>37.9</td>\n",
       "    </tr>\n",
       "  </tbody>\n",
       "</table>\n",
       "</div>"
      ],
      "text/plain": [
       "              날짜   지점  평균기온(℃)  최저기온(℃)  최고기온(℃)\n",
       "7986  2018-08-02  108     33.7     30.3     37.9"
      ]
     },
     "execution_count": 21,
     "metadata": {},
     "output_type": "execute_result"
    }
   ],
   "source": [
    "df.iloc[[df['평균기온(℃)'].idxmax()]]"
   ]
  },
  {
   "cell_type": "code",
   "execution_count": 20,
   "id": "7f6e6607",
   "metadata": {},
   "outputs": [
    {
     "data": {
      "text/html": [
       "<div>\n",
       "<style scoped>\n",
       "    .dataframe tbody tr th:only-of-type {\n",
       "        vertical-align: middle;\n",
       "    }\n",
       "\n",
       "    .dataframe tbody tr th {\n",
       "        vertical-align: top;\n",
       "    }\n",
       "\n",
       "    .dataframe thead th {\n",
       "        text-align: right;\n",
       "    }\n",
       "</style>\n",
       "<table border=\"1\" class=\"dataframe\">\n",
       "  <thead>\n",
       "    <tr style=\"text-align: right;\">\n",
       "      <th></th>\n",
       "      <th>날짜</th>\n",
       "      <th>지점</th>\n",
       "      <th>평균기온(℃)</th>\n",
       "      <th>최저기온(℃)</th>\n",
       "      <th>최고기온(℃)</th>\n",
       "    </tr>\n",
       "  </thead>\n",
       "  <tbody>\n",
       "    <tr>\n",
       "      <th>7986</th>\n",
       "      <td>2018-08-02</td>\n",
       "      <td>108</td>\n",
       "      <td>33.7</td>\n",
       "      <td>30.3</td>\n",
       "      <td>37.9</td>\n",
       "    </tr>\n",
       "  </tbody>\n",
       "</table>\n",
       "</div>"
      ],
      "text/plain": [
       "              날짜   지점  평균기온(℃)  최저기온(℃)  최고기온(℃)\n",
       "7986  2018-08-02  108     33.7     30.3     37.9"
      ]
     },
     "execution_count": 20,
     "metadata": {},
     "output_type": "execute_result"
    }
   ],
   "source": [
    "mixtemp = df.iloc[[df['최저기온(℃)'].idxmax()]]\n",
    "mixtemp"
   ]
  },
  {
   "cell_type": "code",
   "execution_count": 22,
   "id": "91f0382b",
   "metadata": {},
   "outputs": [
    {
     "data": {
      "text/html": [
       "<div>\n",
       "<style scoped>\n",
       "    .dataframe tbody tr th:only-of-type {\n",
       "        vertical-align: middle;\n",
       "    }\n",
       "\n",
       "    .dataframe tbody tr th {\n",
       "        vertical-align: top;\n",
       "    }\n",
       "\n",
       "    .dataframe thead th {\n",
       "        text-align: right;\n",
       "    }\n",
       "</style>\n",
       "<table border=\"1\" class=\"dataframe\">\n",
       "  <thead>\n",
       "    <tr style=\"text-align: right;\">\n",
       "      <th></th>\n",
       "      <th>날짜</th>\n",
       "      <th>지점</th>\n",
       "      <th>평균기온(℃)</th>\n",
       "      <th>최저기온(℃)</th>\n",
       "      <th>최고기온(℃)</th>\n",
       "    </tr>\n",
       "  </thead>\n",
       "  <tbody>\n",
       "    <tr>\n",
       "      <th>1578</th>\n",
       "      <td>2001-01-15</td>\n",
       "      <td>108</td>\n",
       "      <td>-15.5</td>\n",
       "      <td>-18.6</td>\n",
       "      <td>-12.4</td>\n",
       "    </tr>\n",
       "  </tbody>\n",
       "</table>\n",
       "</div>"
      ],
      "text/plain": [
       "              날짜   지점  평균기온(℃)  최저기온(℃)  최고기온(℃)\n",
       "1578  2001-01-15  108    -15.5    -18.6    -12.4"
      ]
     },
     "execution_count": 22,
     "metadata": {},
     "output_type": "execute_result"
    }
   ],
   "source": [
    "df.iloc[[df['최고기온(℃)'].idxmin()]]"
   ]
  },
  {
   "cell_type": "code",
   "execution_count": 23,
   "id": "c0b0a203",
   "metadata": {},
   "outputs": [
    {
     "data": {
      "text/html": [
       "<div>\n",
       "<style scoped>\n",
       "    .dataframe tbody tr th:only-of-type {\n",
       "        vertical-align: middle;\n",
       "    }\n",
       "\n",
       "    .dataframe tbody tr th {\n",
       "        vertical-align: top;\n",
       "    }\n",
       "\n",
       "    .dataframe thead th {\n",
       "        text-align: right;\n",
       "    }\n",
       "</style>\n",
       "<table border=\"1\" class=\"dataframe\">\n",
       "  <thead>\n",
       "    <tr style=\"text-align: right;\">\n",
       "      <th></th>\n",
       "      <th>날짜</th>\n",
       "      <th>지점</th>\n",
       "      <th>평균기온(℃)</th>\n",
       "      <th>최저기온(℃)</th>\n",
       "      <th>최고기온(℃)</th>\n",
       "    </tr>\n",
       "  </thead>\n",
       "  <tbody>\n",
       "    <tr>\n",
       "      <th>1578</th>\n",
       "      <td>2001-01-15</td>\n",
       "      <td>108</td>\n",
       "      <td>-15.5</td>\n",
       "      <td>-18.6</td>\n",
       "      <td>-12.4</td>\n",
       "    </tr>\n",
       "  </tbody>\n",
       "</table>\n",
       "</div>"
      ],
      "text/plain": [
       "              날짜   지점  평균기온(℃)  최저기온(℃)  최고기온(℃)\n",
       "1578  2001-01-15  108    -15.5    -18.6    -12.4"
      ]
     },
     "execution_count": 23,
     "metadata": {},
     "output_type": "execute_result"
    }
   ],
   "source": [
    "df.iloc[[df['평균기온(℃)'].idxmin()]]"
   ]
  },
  {
   "cell_type": "code",
   "execution_count": 24,
   "id": "19e5b098",
   "metadata": {},
   "outputs": [
    {
     "data": {
      "text/html": [
       "<div>\n",
       "<style scoped>\n",
       "    .dataframe tbody tr th:only-of-type {\n",
       "        vertical-align: middle;\n",
       "    }\n",
       "\n",
       "    .dataframe tbody tr th {\n",
       "        vertical-align: top;\n",
       "    }\n",
       "\n",
       "    .dataframe thead th {\n",
       "        text-align: right;\n",
       "    }\n",
       "</style>\n",
       "<table border=\"1\" class=\"dataframe\">\n",
       "  <thead>\n",
       "    <tr style=\"text-align: right;\">\n",
       "      <th></th>\n",
       "      <th>날짜</th>\n",
       "      <th>지점</th>\n",
       "      <th>평균기온(℃)</th>\n",
       "      <th>최저기온(℃)</th>\n",
       "      <th>최고기온(℃)</th>\n",
       "    </tr>\n",
       "  </thead>\n",
       "  <tbody>\n",
       "    <tr>\n",
       "      <th>1578</th>\n",
       "      <td>2001-01-15</td>\n",
       "      <td>108</td>\n",
       "      <td>-15.5</td>\n",
       "      <td>-18.6</td>\n",
       "      <td>-12.4</td>\n",
       "    </tr>\n",
       "  </tbody>\n",
       "</table>\n",
       "</div>"
      ],
      "text/plain": [
       "              날짜   지점  평균기온(℃)  최저기온(℃)  최고기온(℃)\n",
       "1578  2001-01-15  108    -15.5    -18.6    -12.4"
      ]
     },
     "execution_count": 24,
     "metadata": {},
     "output_type": "execute_result"
    }
   ],
   "source": [
    "df.iloc[[df['최저기온(℃)'].idxmin()]]"
   ]
  },
  {
   "cell_type": "markdown",
   "id": "4e34f9dc",
   "metadata": {},
   "source": [
    "### 아래 코드로 년도, 10년 단위 그룹, 월, 계절, 열(column)을 추가\n",
    "\n",
    "- Assumption : 10년 단위 기간의 분석을 통해서 데이터를 관찰한 결과를 분석하기\n",
    "- Assumption : 10년 단위 기간의 기온은 어떤 변화를 가지는가?\n",
    "- Assumption : 10년간 서울의 대기오염 및 지구온난화 영향으로 기온의 변화가 있는가?"
   ]
  },
  {
   "cell_type": "code",
   "execution_count": 43,
   "id": "753a2364",
   "metadata": {},
   "outputs": [
    {
     "data": {
      "text/html": [
       "<div>\n",
       "<style scoped>\n",
       "    .dataframe tbody tr th:only-of-type {\n",
       "        vertical-align: middle;\n",
       "    }\n",
       "\n",
       "    .dataframe tbody tr th {\n",
       "        vertical-align: top;\n",
       "    }\n",
       "\n",
       "    .dataframe thead th {\n",
       "        text-align: right;\n",
       "    }\n",
       "</style>\n",
       "<table border=\"1\" class=\"dataframe\">\n",
       "  <thead>\n",
       "    <tr style=\"text-align: right;\">\n",
       "      <th></th>\n",
       "      <th>날짜</th>\n",
       "      <th>지점</th>\n",
       "      <th>평균기온(℃)</th>\n",
       "      <th>최저기온(℃)</th>\n",
       "      <th>최고기온(℃)</th>\n",
       "      <th>년도</th>\n",
       "      <th>그룹</th>\n",
       "      <th>월</th>\n",
       "      <th>계절</th>\n",
       "    </tr>\n",
       "  </thead>\n",
       "  <tbody>\n",
       "    <tr>\n",
       "      <th>0</th>\n",
       "      <td>1996-09-20</td>\n",
       "      <td>108</td>\n",
       "      <td>20.5</td>\n",
       "      <td>16.7</td>\n",
       "      <td>25.1</td>\n",
       "      <td>1996</td>\n",
       "      <td>1990</td>\n",
       "      <td>9</td>\n",
       "      <td>3</td>\n",
       "    </tr>\n",
       "    <tr>\n",
       "      <th>1</th>\n",
       "      <td>1996-09-21</td>\n",
       "      <td>108</td>\n",
       "      <td>18.6</td>\n",
       "      <td>11.6</td>\n",
       "      <td>25.6</td>\n",
       "      <td>1996</td>\n",
       "      <td>1990</td>\n",
       "      <td>9</td>\n",
       "      <td>3</td>\n",
       "    </tr>\n",
       "    <tr>\n",
       "      <th>2</th>\n",
       "      <td>1996-09-22</td>\n",
       "      <td>108</td>\n",
       "      <td>19.4</td>\n",
       "      <td>12.8</td>\n",
       "      <td>26.4</td>\n",
       "      <td>1996</td>\n",
       "      <td>1990</td>\n",
       "      <td>9</td>\n",
       "      <td>3</td>\n",
       "    </tr>\n",
       "    <tr>\n",
       "      <th>3</th>\n",
       "      <td>1996-09-23</td>\n",
       "      <td>108</td>\n",
       "      <td>21.3</td>\n",
       "      <td>16.4</td>\n",
       "      <td>27.0</td>\n",
       "      <td>1996</td>\n",
       "      <td>1990</td>\n",
       "      <td>9</td>\n",
       "      <td>3</td>\n",
       "    </tr>\n",
       "    <tr>\n",
       "      <th>4</th>\n",
       "      <td>1996-09-24</td>\n",
       "      <td>108</td>\n",
       "      <td>22.9</td>\n",
       "      <td>19.9</td>\n",
       "      <td>27.1</td>\n",
       "      <td>1996</td>\n",
       "      <td>1990</td>\n",
       "      <td>9</td>\n",
       "      <td>3</td>\n",
       "    </tr>\n",
       "    <tr>\n",
       "      <th>...</th>\n",
       "      <td>...</td>\n",
       "      <td>...</td>\n",
       "      <td>...</td>\n",
       "      <td>...</td>\n",
       "      <td>...</td>\n",
       "      <td>...</td>\n",
       "      <td>...</td>\n",
       "      <td>...</td>\n",
       "      <td>...</td>\n",
       "    </tr>\n",
       "    <tr>\n",
       "      <th>9177</th>\n",
       "      <td>2021-11-05</td>\n",
       "      <td>108</td>\n",
       "      <td>13.0</td>\n",
       "      <td>7.8</td>\n",
       "      <td>20.2</td>\n",
       "      <td>2021</td>\n",
       "      <td>2020</td>\n",
       "      <td>11</td>\n",
       "      <td>3</td>\n",
       "    </tr>\n",
       "    <tr>\n",
       "      <th>9178</th>\n",
       "      <td>2021-11-06</td>\n",
       "      <td>108</td>\n",
       "      <td>14.1</td>\n",
       "      <td>8.8</td>\n",
       "      <td>21.3</td>\n",
       "      <td>2021</td>\n",
       "      <td>2020</td>\n",
       "      <td>11</td>\n",
       "      <td>3</td>\n",
       "    </tr>\n",
       "    <tr>\n",
       "      <th>9179</th>\n",
       "      <td>2021-11-07</td>\n",
       "      <td>108</td>\n",
       "      <td>15.3</td>\n",
       "      <td>9.7</td>\n",
       "      <td>21.3</td>\n",
       "      <td>2021</td>\n",
       "      <td>2020</td>\n",
       "      <td>11</td>\n",
       "      <td>3</td>\n",
       "    </tr>\n",
       "    <tr>\n",
       "      <th>9180</th>\n",
       "      <td>2021-11-08</td>\n",
       "      <td>108</td>\n",
       "      <td>8.6</td>\n",
       "      <td>4.5</td>\n",
       "      <td>15.5</td>\n",
       "      <td>2021</td>\n",
       "      <td>2020</td>\n",
       "      <td>11</td>\n",
       "      <td>3</td>\n",
       "    </tr>\n",
       "    <tr>\n",
       "      <th>9181</th>\n",
       "      <td>2021-11-09</td>\n",
       "      <td>108</td>\n",
       "      <td>4.9</td>\n",
       "      <td>3.0</td>\n",
       "      <td>6.5</td>\n",
       "      <td>2021</td>\n",
       "      <td>2020</td>\n",
       "      <td>11</td>\n",
       "      <td>3</td>\n",
       "    </tr>\n",
       "  </tbody>\n",
       "</table>\n",
       "<p>9182 rows × 9 columns</p>\n",
       "</div>"
      ],
      "text/plain": [
       "              날짜   지점  평균기온(℃)  최저기온(℃)  최고기온(℃)    년도    그룹   월  계절\n",
       "0     1996-09-20  108     20.5     16.7     25.1  1996  1990   9   3\n",
       "1     1996-09-21  108     18.6     11.6     25.6  1996  1990   9   3\n",
       "2     1996-09-22  108     19.4     12.8     26.4  1996  1990   9   3\n",
       "3     1996-09-23  108     21.3     16.4     27.0  1996  1990   9   3\n",
       "4     1996-09-24  108     22.9     19.9     27.1  1996  1990   9   3\n",
       "...          ...  ...      ...      ...      ...   ...   ...  ..  ..\n",
       "9177  2021-11-05  108     13.0      7.8     20.2  2021  2020  11   3\n",
       "9178  2021-11-06  108     14.1      8.8     21.3  2021  2020  11   3\n",
       "9179  2021-11-07  108     15.3      9.7     21.3  2021  2020  11   3\n",
       "9180  2021-11-08  108      8.6      4.5     15.5  2021  2020  11   3\n",
       "9181  2021-11-09  108      4.9      3.0      6.5  2021  2020  11   3\n",
       "\n",
       "[9182 rows x 9 columns]"
      ]
     },
     "execution_count": 43,
     "metadata": {},
     "output_type": "execute_result"
    }
   ],
   "source": [
    "# 방법1\n",
    "df1 = df.copy()\n",
    "# 날짜를 잘라서 년도만 가져오기\n",
    "df1['년도'] = df1['날짜'].str.slice(0,4).astype(int)\n",
    "# 10년 단위 그룹으로 나누기\n",
    "df1['그룹'] = df1['년도'] // 10*10\n",
    "# 월 추가\n",
    "df1['월'] = df1['날짜'].str.slice(5,7).astype(int)\n",
    "# 월을 계절로 바꾸기, 0:겨울, 1:봄, 2:여름, 3:가을\n",
    "df1['계절'] = (df1['월']//3)%4\n",
    "df1"
   ]
  },
  {
   "cell_type": "code",
   "execution_count": 34,
   "id": "3c9f56c3",
   "metadata": {},
   "outputs": [
    {
     "data": {
      "text/html": [
       "<div>\n",
       "<style scoped>\n",
       "    .dataframe tbody tr th:only-of-type {\n",
       "        vertical-align: middle;\n",
       "    }\n",
       "\n",
       "    .dataframe tbody tr th {\n",
       "        vertical-align: top;\n",
       "    }\n",
       "\n",
       "    .dataframe thead th {\n",
       "        text-align: right;\n",
       "    }\n",
       "</style>\n",
       "<table border=\"1\" class=\"dataframe\">\n",
       "  <thead>\n",
       "    <tr style=\"text-align: right;\">\n",
       "      <th></th>\n",
       "      <th>날짜</th>\n",
       "      <th>지점</th>\n",
       "      <th>평균기온(℃)</th>\n",
       "      <th>최저기온(℃)</th>\n",
       "      <th>최고기온(℃)</th>\n",
       "      <th>월</th>\n",
       "      <th>계절</th>\n",
       "      <th>그룹</th>\n",
       "    </tr>\n",
       "  </thead>\n",
       "  <tbody>\n",
       "    <tr>\n",
       "      <th>0</th>\n",
       "      <td>1996-09-20</td>\n",
       "      <td>108</td>\n",
       "      <td>20.5</td>\n",
       "      <td>16.7</td>\n",
       "      <td>25.1</td>\n",
       "      <td>9</td>\n",
       "      <td>가을</td>\n",
       "      <td>1990</td>\n",
       "    </tr>\n",
       "    <tr>\n",
       "      <th>1</th>\n",
       "      <td>1996-09-21</td>\n",
       "      <td>108</td>\n",
       "      <td>18.6</td>\n",
       "      <td>11.6</td>\n",
       "      <td>25.6</td>\n",
       "      <td>9</td>\n",
       "      <td>가을</td>\n",
       "      <td>1990</td>\n",
       "    </tr>\n",
       "    <tr>\n",
       "      <th>2</th>\n",
       "      <td>1996-09-22</td>\n",
       "      <td>108</td>\n",
       "      <td>19.4</td>\n",
       "      <td>12.8</td>\n",
       "      <td>26.4</td>\n",
       "      <td>9</td>\n",
       "      <td>가을</td>\n",
       "      <td>1990</td>\n",
       "    </tr>\n",
       "    <tr>\n",
       "      <th>3</th>\n",
       "      <td>1996-09-23</td>\n",
       "      <td>108</td>\n",
       "      <td>21.3</td>\n",
       "      <td>16.4</td>\n",
       "      <td>27.0</td>\n",
       "      <td>9</td>\n",
       "      <td>가을</td>\n",
       "      <td>1990</td>\n",
       "    </tr>\n",
       "    <tr>\n",
       "      <th>4</th>\n",
       "      <td>1996-09-24</td>\n",
       "      <td>108</td>\n",
       "      <td>22.9</td>\n",
       "      <td>19.9</td>\n",
       "      <td>27.1</td>\n",
       "      <td>9</td>\n",
       "      <td>가을</td>\n",
       "      <td>1990</td>\n",
       "    </tr>\n",
       "  </tbody>\n",
       "</table>\n",
       "</div>"
      ],
      "text/plain": [
       "          날짜   지점  평균기온(℃)  최저기온(℃)  최고기온(℃)  월  계절    그룹\n",
       "0 1996-09-20  108     20.5     16.7     25.1  9  가을  1990\n",
       "1 1996-09-21  108     18.6     11.6     25.6  9  가을  1990\n",
       "2 1996-09-22  108     19.4     12.8     26.4  9  가을  1990\n",
       "3 1996-09-23  108     21.3     16.4     27.0  9  가을  1990\n",
       "4 1996-09-24  108     22.9     19.9     27.1  9  가을  1990"
      ]
     },
     "execution_count": 34,
     "metadata": {},
     "output_type": "execute_result"
    }
   ],
   "source": [
    "# 방법2\n",
    "df1 = df.copy()\n",
    "df1.날짜 = pd.to_datetime(df1.날짜)\n",
    "df1['월'] = df1.날짜.dt.month\n",
    "df1['계절'] = pd.cut(df1.월,bins=[0,2,5,8,11,14],labels=['겨울','봄','여름','가을','겨울'], ordered=False)\n",
    "df1['그룹'] = df1.날짜.dt.year//10*10\n",
    "df1.head()"
   ]
  },
  {
   "cell_type": "code",
   "execution_count": 41,
   "id": "0020f2a2",
   "metadata": {},
   "outputs": [
    {
     "data": {
      "text/plain": [
       "<AxesSubplot:title={'center':'최고기온(℃)'}, xlabel='그룹'>"
      ]
     },
     "execution_count": 41,
     "metadata": {},
     "output_type": "execute_result"
    },
    {
     "data": {
      "image/png": "[encoded data removed]",
      "text/plain": [
       "<Figure size 936x360 with 1 Axes>"
      ]
     },
     "metadata": {
      "needs_background": "light"
     },
     "output_type": "display_data"
    }
   ],
   "source": [
    "df1.boxplot(column=\"최고기온(℃)\",by='그룹',figsize=(13,5))"
   ]
  },
  {
   "cell_type": "markdown",
   "id": "2050db5f",
   "metadata": {},
   "source": [
    "- 분석\n",
    "- 1) 1990년 평균값이 낮았다. 18도 정도로 관측되었으며, 2000년, 2010년, 2020년 대비 약 1~2도의 편차를 보였다.\n",
    "- 2) 데이터 분석결과, 1990년대의 대기상태와 대기오염 상태가 상대적으로 덜하고 2000년부터 평균 온도가 상승.\n",
    "- 3) 2020년대 기온 이상치가 발견됨"
   ]
  },
  {
   "cell_type": "code",
   "execution_count": 44,
   "id": "612c5cb8",
   "metadata": {},
   "outputs": [
    {
     "data": {
      "text/plain": [
       "<AxesSubplot:title={'center':'최고기온(℃)'}, xlabel='월'>"
      ]
     },
     "execution_count": 44,
     "metadata": {},
     "output_type": "execute_result"
    },
    {
     "data": {
      "image/png": "[encoded data removed]",
      "text/plain": [
       "<Figure size 1008x432 with 1 Axes>"
      ]
     },
     "metadata": {
      "needs_background": "light"
     },
     "output_type": "display_data"
    }
   ],
   "source": [
    "df1.boxplot(column='최고기온(℃)',by='월',figsize=(14,6))"
   ]
  },
  {
   "cell_type": "markdown",
   "id": "41253757",
   "metadata": {},
   "source": [
    "- 분석 결과\n",
    "- 1) 월간 기온 데이터 분석결과 4월과 12월은 기온에 이상치가 발견되지 않는다. 기온이 상대적으로 안정적으로 관측되고 있다.\n",
    "- 2) 서울지역은 여름 기온의 최고기온의 일정함이 관측된다.\n",
    "- 3) 1월, 6월, 9월, 10월에는 최고기온의 이상치가 낮게 많이 발생했다\n",
    "- 4) 8월의 평균값이 가장 높다. 가장 더운 여름인것 같다.\n",
    "- 5) 1월의 평균값이 가장 낮다. 가장 추운 겨울인것 같다.\n",
    "- 6) "
   ]
  },
  {
   "cell_type": "code",
   "execution_count": 52,
   "id": "03992399",
   "metadata": {},
   "outputs": [
    {
     "data": {
      "text/html": [
       "<div>\n",
       "<style scoped>\n",
       "    .dataframe tbody tr th:only-of-type {\n",
       "        vertical-align: middle;\n",
       "    }\n",
       "\n",
       "    .dataframe tbody tr th {\n",
       "        vertical-align: top;\n",
       "    }\n",
       "\n",
       "    .dataframe thead th {\n",
       "        text-align: right;\n",
       "    }\n",
       "</style>\n",
       "<table border=\"1\" class=\"dataframe\">\n",
       "  <thead>\n",
       "    <tr style=\"text-align: right;\">\n",
       "      <th></th>\n",
       "      <th>날짜</th>\n",
       "      <th>지점</th>\n",
       "      <th>평균기온(℃)</th>\n",
       "      <th>최저기온(℃)</th>\n",
       "      <th>최고기온(℃)</th>\n",
       "      <th>년도</th>\n",
       "      <th>그룹</th>\n",
       "      <th>월</th>\n",
       "      <th>계절</th>\n",
       "      <th>일교차</th>\n",
       "    </tr>\n",
       "  </thead>\n",
       "  <tbody>\n",
       "    <tr>\n",
       "      <th>0</th>\n",
       "      <td>1996-09-20</td>\n",
       "      <td>108</td>\n",
       "      <td>20.5</td>\n",
       "      <td>16.7</td>\n",
       "      <td>25.1</td>\n",
       "      <td>1996</td>\n",
       "      <td>1990</td>\n",
       "      <td>9</td>\n",
       "      <td>3</td>\n",
       "      <td>8.4</td>\n",
       "    </tr>\n",
       "    <tr>\n",
       "      <th>1</th>\n",
       "      <td>1996-09-21</td>\n",
       "      <td>108</td>\n",
       "      <td>18.6</td>\n",
       "      <td>11.6</td>\n",
       "      <td>25.6</td>\n",
       "      <td>1996</td>\n",
       "      <td>1990</td>\n",
       "      <td>9</td>\n",
       "      <td>3</td>\n",
       "      <td>14.0</td>\n",
       "    </tr>\n",
       "    <tr>\n",
       "      <th>2</th>\n",
       "      <td>1996-09-22</td>\n",
       "      <td>108</td>\n",
       "      <td>19.4</td>\n",
       "      <td>12.8</td>\n",
       "      <td>26.4</td>\n",
       "      <td>1996</td>\n",
       "      <td>1990</td>\n",
       "      <td>9</td>\n",
       "      <td>3</td>\n",
       "      <td>13.6</td>\n",
       "    </tr>\n",
       "    <tr>\n",
       "      <th>3</th>\n",
       "      <td>1996-09-23</td>\n",
       "      <td>108</td>\n",
       "      <td>21.3</td>\n",
       "      <td>16.4</td>\n",
       "      <td>27.0</td>\n",
       "      <td>1996</td>\n",
       "      <td>1990</td>\n",
       "      <td>9</td>\n",
       "      <td>3</td>\n",
       "      <td>10.6</td>\n",
       "    </tr>\n",
       "    <tr>\n",
       "      <th>4</th>\n",
       "      <td>1996-09-24</td>\n",
       "      <td>108</td>\n",
       "      <td>22.9</td>\n",
       "      <td>19.9</td>\n",
       "      <td>27.1</td>\n",
       "      <td>1996</td>\n",
       "      <td>1990</td>\n",
       "      <td>9</td>\n",
       "      <td>3</td>\n",
       "      <td>7.2</td>\n",
       "    </tr>\n",
       "    <tr>\n",
       "      <th>...</th>\n",
       "      <td>...</td>\n",
       "      <td>...</td>\n",
       "      <td>...</td>\n",
       "      <td>...</td>\n",
       "      <td>...</td>\n",
       "      <td>...</td>\n",
       "      <td>...</td>\n",
       "      <td>...</td>\n",
       "      <td>...</td>\n",
       "      <td>...</td>\n",
       "    </tr>\n",
       "    <tr>\n",
       "      <th>9177</th>\n",
       "      <td>2021-11-05</td>\n",
       "      <td>108</td>\n",
       "      <td>13.0</td>\n",
       "      <td>7.8</td>\n",
       "      <td>20.2</td>\n",
       "      <td>2021</td>\n",
       "      <td>2020</td>\n",
       "      <td>11</td>\n",
       "      <td>3</td>\n",
       "      <td>12.4</td>\n",
       "    </tr>\n",
       "    <tr>\n",
       "      <th>9178</th>\n",
       "      <td>2021-11-06</td>\n",
       "      <td>108</td>\n",
       "      <td>14.1</td>\n",
       "      <td>8.8</td>\n",
       "      <td>21.3</td>\n",
       "      <td>2021</td>\n",
       "      <td>2020</td>\n",
       "      <td>11</td>\n",
       "      <td>3</td>\n",
       "      <td>12.5</td>\n",
       "    </tr>\n",
       "    <tr>\n",
       "      <th>9179</th>\n",
       "      <td>2021-11-07</td>\n",
       "      <td>108</td>\n",
       "      <td>15.3</td>\n",
       "      <td>9.7</td>\n",
       "      <td>21.3</td>\n",
       "      <td>2021</td>\n",
       "      <td>2020</td>\n",
       "      <td>11</td>\n",
       "      <td>3</td>\n",
       "      <td>11.6</td>\n",
       "    </tr>\n",
       "    <tr>\n",
       "      <th>9180</th>\n",
       "      <td>2021-11-08</td>\n",
       "      <td>108</td>\n",
       "      <td>8.6</td>\n",
       "      <td>4.5</td>\n",
       "      <td>15.5</td>\n",
       "      <td>2021</td>\n",
       "      <td>2020</td>\n",
       "      <td>11</td>\n",
       "      <td>3</td>\n",
       "      <td>11.0</td>\n",
       "    </tr>\n",
       "    <tr>\n",
       "      <th>9181</th>\n",
       "      <td>2021-11-09</td>\n",
       "      <td>108</td>\n",
       "      <td>4.9</td>\n",
       "      <td>3.0</td>\n",
       "      <td>6.5</td>\n",
       "      <td>2021</td>\n",
       "      <td>2020</td>\n",
       "      <td>11</td>\n",
       "      <td>3</td>\n",
       "      <td>3.5</td>\n",
       "    </tr>\n",
       "  </tbody>\n",
       "</table>\n",
       "<p>9182 rows × 10 columns</p>\n",
       "</div>"
      ],
      "text/plain": [
       "              날짜   지점  평균기온(℃)  최저기온(℃)  최고기온(℃)    년도    그룹   월  계절   일교차\n",
       "0     1996-09-20  108     20.5     16.7     25.1  1996  1990   9   3   8.4\n",
       "1     1996-09-21  108     18.6     11.6     25.6  1996  1990   9   3  14.0\n",
       "2     1996-09-22  108     19.4     12.8     26.4  1996  1990   9   3  13.6\n",
       "3     1996-09-23  108     21.3     16.4     27.0  1996  1990   9   3  10.6\n",
       "4     1996-09-24  108     22.9     19.9     27.1  1996  1990   9   3   7.2\n",
       "...          ...  ...      ...      ...      ...   ...   ...  ..  ..   ...\n",
       "9177  2021-11-05  108     13.0      7.8     20.2  2021  2020  11   3  12.4\n",
       "9178  2021-11-06  108     14.1      8.8     21.3  2021  2020  11   3  12.5\n",
       "9179  2021-11-07  108     15.3      9.7     21.3  2021  2020  11   3  11.6\n",
       "9180  2021-11-08  108      8.6      4.5     15.5  2021  2020  11   3  11.0\n",
       "9181  2021-11-09  108      4.9      3.0      6.5  2021  2020  11   3   3.5\n",
       "\n",
       "[9182 rows x 10 columns]"
      ]
     },
     "execution_count": 52,
     "metadata": {},
     "output_type": "execute_result"
    }
   ],
   "source": [
    "df1"
   ]
  },
  {
   "cell_type": "code",
   "execution_count": 48,
   "id": "e94c968a",
   "metadata": {},
   "outputs": [
    {
     "data": {
      "text/plain": [
       "<AxesSubplot:title={'center':'일교차'}, xlabel='월'>"
      ]
     },
     "execution_count": 48,
     "metadata": {},
     "output_type": "execute_result"
    },
    {
     "data": {
      "image/png": "[encoded data removed]",
      "text/plain": [
       "<Figure size 1008x432 with 1 Axes>"
      ]
     },
     "metadata": {
      "needs_background": "light"
     },
     "output_type": "display_data"
    }
   ],
   "source": [
    "df1['일교차'] = df1['최고기온(℃)'] - df1['최저기온(℃)']\n",
    "df1.boxplot(column='일교차',by='월',figsize=(14,6))"
   ]
  },
  {
   "cell_type": "code",
   "execution_count": 54,
   "id": "c1f9952f",
   "metadata": {},
   "outputs": [
    {
     "data": {
      "text/plain": [
       "<AxesSubplot:xlabel='그룹', ylabel='월'>"
      ]
     },
     "execution_count": 54,
     "metadata": {},
     "output_type": "execute_result"
    },
    {
     "data": {
      "image/png": "[encoded data removed]",
      "text/plain": [
       "<Figure size 432x288 with 2 Axes>"
      ]
     },
     "metadata": {
      "needs_background": "light"
     },
     "output_type": "display_data"
    }
   ],
   "source": [
    "pivot_df = df1.pivot_table('일교차','월','그룹')\n",
    "sns.heatmap(pivot_df,cmap='Blues')"
   ]
  },
  {
   "cell_type": "markdown",
   "id": "ae9e5c5b",
   "metadata": {},
   "source": [
    "- 분석 결과\n",
    "- 1) 4월, 5월 달의 일교차가 가장 크고 이상치도 발견되지 않았다.\n",
    "- 2) 히트맵 분석 결과 7월, 8월의 일교차가 가장 적다."
   ]
  },
  {
   "cell_type": "code",
   "execution_count": null,
   "id": "1c5008ab",
   "metadata": {},
   "outputs": [],
   "source": []
  }
 ],
 "metadata": {
  "kernelspec": {
   "display_name": "Python 3",
   "language": "python",
   "name": "python3"
  },
  "language_info": {
   "codemirror_mode": {
    "name": "ipython",
    "version": 3
   },
   "file_extension": ".py",
   "mimetype": "text/x-python",
   "name": "python",
   "nbconvert_exporter": "python",
   "pygments_lexer": "ipython3",
   "version": "3.8.8"
  },
  "toc": {
   "base_numbering": 1,
   "nav_menu": {},
   "number_sections": true,
   "sideBar": true,
   "skip_h1_title": false,
   "title_cell": "Table of Contents",
   "title_sidebar": "Contents",
   "toc_cell": false,
   "toc_position": {},
   "toc_section_display": true,
   "toc_window_display": false
  }
 },
 "nbformat": 4,
 "nbformat_minor": 5
}

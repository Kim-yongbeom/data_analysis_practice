{
 "cells": [
  {
   "cell_type": "code",
   "execution_count": 12,
   "id": "2db58e8a",
   "metadata": {},
   "outputs": [],
   "source": [
    "# 동적 웹 페이지 크롤링 기본 셋팅\n",
    "from bs4 import BeautifulSoup\n",
    "import urllib.request # 동적 웹 크롤링할 때 필요\n",
    "import pandas as pd\n",
    "import datetime\n",
    "from selenium import webdriver\n",
    "import time"
   ]
  },
  {
   "cell_type": "code",
   "execution_count": 20,
   "id": "6f4c55d5",
   "metadata": {},
   "outputs": [],
   "source": [
    "def CoffeeBean_store(result):\n",
    "    CoffeeBean_URL = \"https://www.coffeebeankorea.com/store/store.asp\"\n",
    "    wd = webdriver.Chrome(\"chromedriver\")\n",
    "    for i in range(1,100):\n",
    "        wd.get(CoffeeBean_URL)\n",
    "        time.sleep(1)\n",
    "        try:\n",
    "            wd.execute_script(\"storePop2(%d)\" %i) # 동적 웹 크롤링의 행위를 관용적으로 실행시키기 위해\n",
    "            time.sleep(1)\n",
    "            html = wd.page_source\n",
    "            soupCB = BeautifulSoup(html, 'html.parser')  # 파싱 하는법\n",
    "            #matizCoverLayer0Content > div > div > div.store_txt > h2\n",
    "            store_name_h2 = soupCB.select(\"div.store_txt > h2\")\n",
    "            store_name = store_name_h2[0].string #매장 #이름 [0]\n",
    "            print(store_name)\n",
    "            #matizCoverLayer0Content > div > div > div.store_txt > table > tbody:nth-child(1) > tr:nth-child(1) > td\n",
    "            store_info = soupCB.select('div.store_txt > table.store_table > tbody > tr > td')\n",
    "            store_address_list = list(store_info[2])\n",
    "            store_address = store_address_list[0] # 전화번호 가져오기\n",
    "            store_phone = store_info[3].string\n",
    "            result.append([store_name]+[store_address]+[store_phone]) # 매장이름. 주소, 전화번호 append\n",
    "        except:\n",
    "            continue\n",
    "    return"
   ]
  },
  {
   "cell_type": "code",
   "execution_count": 21,
   "id": "1241be10",
   "metadata": {},
   "outputs": [],
   "source": [
    "def main():\n",
    "    result = []\n",
    "    print(\"CoffeeBean store crawling ==============\")\n",
    "    CoffeeBean_store(result)\n",
    "    print(\"=======Crawling 종료========\")\n",
    "    \n",
    "    CB_tbl = pd.DataFrame(result, columns = ('store', 'address','phone'))\n",
    "    CB_tbl.to_csv('./CoffeeBean.csv', encoding=\"utf-8\", mode=\"w\", index=True)"
   ]
  },
  {
   "cell_type": "code",
   "execution_count": 22,
   "id": "a691c8c2",
   "metadata": {},
   "outputs": [
    {
     "name": "stdout",
     "output_type": "stream",
     "text": [
      "CoffeeBean store crawling ==============\n",
      "학동역 DT점\n",
      "차병원점\n",
      "강남대로점\n",
      "강남에스점\n",
      "청담에스점\n",
      "신사점\n",
      "압구정역점\n",
      "역삼점\n",
      "양재스포타임점\n",
      "청담성당점\n",
      "영동점\n",
      "도곡점\n",
      "영동고앞점\n",
      "공항터미널앞점\n",
      "대치한티점\n",
      "압구정시티점\n",
      "압구정로데오점\n",
      "서초우성점\n",
      "논현팍스타워점\n",
      "삼성오크우드점\n",
      "트레이드타워점\n",
      "삼성봉은사거리점\n",
      "대치포스코뒷점\n",
      "반포엘루체점\n",
      "잠실신천점\n",
      "서초지파이브점\n",
      "논현동수면센터점\n",
      "삼성전자강남사옥점\n",
      "삼성생명강남사옥점\n",
      "방배카페골목점\n",
      "역삼포스틸타워뒷점\n",
      "테헤란로하이닉스뒷점\n",
      "삼성봉은사로점\n",
      "방이점\n",
      "매봉역점\n",
      "남부터미널역점\n",
      "강남역랭기지타워점\n",
      "도심공항타워점\n",
      "청담카페점\n",
      "광화문점\n",
      "경희궁의아침점\n",
      "홍대역점\n",
      "순화점\n",
      "종로관철동점\n",
      "소공동삼화빌딩점\n",
      "강변테크노마트점\n",
      "외대앞점\n",
      "고대안암역점\n",
      "순화동라마다호텔점\n",
      "세종문화회관옆점\n",
      "신촌점\n",
      "건대스타시티점\n",
      "하나은행경복궁역점\n",
      "중계동은행사거리점\n",
      "서울스퀘어점\n",
      "목동점\n",
      "여의도34번지점\n",
      "여의도교보증권점\n",
      "시흥홈플러스점\n",
      "여의도순복음교회옆점\n",
      "=======Crawling 종료========\n"
     ]
    }
   ],
   "source": [
    "main()"
   ]
  },
  {
   "cell_type": "code",
   "execution_count": null,
   "id": "5d6e5ddb",
   "metadata": {},
   "outputs": [],
   "source": []
  }
 ],
 "metadata": {
  "kernelspec": {
   "display_name": "Python 3",
   "language": "python",
   "name": "python3"
  },
  "language_info": {
   "codemirror_mode": {
    "name": "ipython",
    "version": 3
   },
   "file_extension": ".py",
   "mimetype": "text/x-python",
   "name": "python",
   "nbconvert_exporter": "python",
   "pygments_lexer": "ipython3",
   "version": "3.8.8"
  }
 },
 "nbformat": 4,
 "nbformat_minor": 5
}

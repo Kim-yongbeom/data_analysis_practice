{
 "cells": [
  {
   "cell_type": "code",
   "execution_count": 18,
   "id": "f26a06af",
   "metadata": {},
   "outputs": [],
   "source": [
    "from bs4 import BeautifulSoup\n",
    "import urllib.request\n",
    "import pandas as pd\n",
    "import numpy as np\n",
    "import datetime"
   ]
  },
  {
   "cell_type": "code",
   "execution_count": 25,
   "id": "898e1973",
   "metadata": {},
   "outputs": [],
   "source": [
    "def hollys_store(result):\n",
    "    for page in range(1,57): # 매장은 수시로 바뀌므로 스토어 수를 확인해서 넣기\n",
    "        Hollys_url = \"https://www.hollys.co.kr/store/korea/korStore2.do?pageNo=%d&sido=&gugun=&store=\" %page\n",
    "        print(Hollys_url)\n",
    "        html = urllib.request.urlopen(Hollys_url)\n",
    "        soupHollys = BeautifulSoup(html, 'html.parser')\n",
    "        tag_tbody = soupHollys.find('tbody')\n",
    "        \n",
    "        for store in tag_tbody.find_all('tr'):\n",
    "            if len(store) <= 3:\n",
    "                break\n",
    "                \n",
    "            store_td = store.find_all('td')\n",
    "            store_name = store_td[1].string  # 점포명\n",
    "            store_sido = store_td[0].string  # 지역\n",
    "            store_address = store_td[3].string # 주소\n",
    "            store_phone = store_td[5].string # 전화번호\n",
    "            result.append([store_name]+[store_sido]+[store_address]+[store_phone])\n",
    "    return"
   ]
  },
  {
   "cell_type": "code",
   "execution_count": 26,
   "id": "3cda3256",
   "metadata": {},
   "outputs": [],
   "source": [
    "def main():\n",
    "    result = []\n",
    "    print(\"================= 할리스 커피 크롤링 작업 =================\")\n",
    "    hollys_store(result)\n",
    "    print(\"================= 크롤링 종료 =================\")\n",
    "    hollys_tbl = pd.DataFrame(result, columns = ('store', 'sido-gu', 'address', 'phone'))\n",
    "    hollys_tbl.to_csv(\"hollys.csv\", encoding=\"utf-8\", mode=\"w\", index=True)\n",
    "    del result[:]"
   ]
  },
  {
   "cell_type": "code",
   "execution_count": 27,
   "id": "7f71c8c4",
   "metadata": {},
   "outputs": [
    {
     "name": "stdout",
     "output_type": "stream",
     "text": [
      "================= 할리스 커피 크롤링 작업 =================\n",
      "https://www.hollys.co.kr/store/korea/korStore2.do?pageNo=1&sido=&gugun=&store=\n",
      "https://www.hollys.co.kr/store/korea/korStore2.do?pageNo=2&sido=&gugun=&store=\n",
      "https://www.hollys.co.kr/store/korea/korStore2.do?pageNo=3&sido=&gugun=&store=\n",
      "https://www.hollys.co.kr/store/korea/korStore2.do?pageNo=4&sido=&gugun=&store=\n",
      "https://www.hollys.co.kr/store/korea/korStore2.do?pageNo=5&sido=&gugun=&store=\n",
      "https://www.hollys.co.kr/store/korea/korStore2.do?pageNo=6&sido=&gugun=&store=\n",
      "https://www.hollys.co.kr/store/korea/korStore2.do?pageNo=7&sido=&gugun=&store=\n",
      "https://www.hollys.co.kr/store/korea/korStore2.do?pageNo=8&sido=&gugun=&store=\n",
      "https://www.hollys.co.kr/store/korea/korStore2.do?pageNo=9&sido=&gugun=&store=\n",
      "https://www.hollys.co.kr/store/korea/korStore2.do?pageNo=10&sido=&gugun=&store=\n",
      "https://www.hollys.co.kr/store/korea/korStore2.do?pageNo=11&sido=&gugun=&store=\n",
      "https://www.hollys.co.kr/store/korea/korStore2.do?pageNo=12&sido=&gugun=&store=\n",
      "https://www.hollys.co.kr/store/korea/korStore2.do?pageNo=13&sido=&gugun=&store=\n",
      "https://www.hollys.co.kr/store/korea/korStore2.do?pageNo=14&sido=&gugun=&store=\n",
      "https://www.hollys.co.kr/store/korea/korStore2.do?pageNo=15&sido=&gugun=&store=\n",
      "https://www.hollys.co.kr/store/korea/korStore2.do?pageNo=16&sido=&gugun=&store=\n",
      "https://www.hollys.co.kr/store/korea/korStore2.do?pageNo=17&sido=&gugun=&store=\n",
      "https://www.hollys.co.kr/store/korea/korStore2.do?pageNo=18&sido=&gugun=&store=\n",
      "https://www.hollys.co.kr/store/korea/korStore2.do?pageNo=19&sido=&gugun=&store=\n",
      "https://www.hollys.co.kr/store/korea/korStore2.do?pageNo=20&sido=&gugun=&store=\n",
      "https://www.hollys.co.kr/store/korea/korStore2.do?pageNo=21&sido=&gugun=&store=\n",
      "https://www.hollys.co.kr/store/korea/korStore2.do?pageNo=22&sido=&gugun=&store=\n",
      "https://www.hollys.co.kr/store/korea/korStore2.do?pageNo=23&sido=&gugun=&store=\n",
      "https://www.hollys.co.kr/store/korea/korStore2.do?pageNo=24&sido=&gugun=&store=\n",
      "https://www.hollys.co.kr/store/korea/korStore2.do?pageNo=25&sido=&gugun=&store=\n",
      "https://www.hollys.co.kr/store/korea/korStore2.do?pageNo=26&sido=&gugun=&store=\n",
      "https://www.hollys.co.kr/store/korea/korStore2.do?pageNo=27&sido=&gugun=&store=\n",
      "https://www.hollys.co.kr/store/korea/korStore2.do?pageNo=28&sido=&gugun=&store=\n",
      "https://www.hollys.co.kr/store/korea/korStore2.do?pageNo=29&sido=&gugun=&store=\n",
      "https://www.hollys.co.kr/store/korea/korStore2.do?pageNo=30&sido=&gugun=&store=\n",
      "https://www.hollys.co.kr/store/korea/korStore2.do?pageNo=31&sido=&gugun=&store=\n",
      "https://www.hollys.co.kr/store/korea/korStore2.do?pageNo=32&sido=&gugun=&store=\n",
      "https://www.hollys.co.kr/store/korea/korStore2.do?pageNo=33&sido=&gugun=&store=\n",
      "https://www.hollys.co.kr/store/korea/korStore2.do?pageNo=34&sido=&gugun=&store=\n",
      "https://www.hollys.co.kr/store/korea/korStore2.do?pageNo=35&sido=&gugun=&store=\n",
      "https://www.hollys.co.kr/store/korea/korStore2.do?pageNo=36&sido=&gugun=&store=\n",
      "https://www.hollys.co.kr/store/korea/korStore2.do?pageNo=37&sido=&gugun=&store=\n",
      "https://www.hollys.co.kr/store/korea/korStore2.do?pageNo=38&sido=&gugun=&store=\n",
      "https://www.hollys.co.kr/store/korea/korStore2.do?pageNo=39&sido=&gugun=&store=\n",
      "https://www.hollys.co.kr/store/korea/korStore2.do?pageNo=40&sido=&gugun=&store=\n",
      "https://www.hollys.co.kr/store/korea/korStore2.do?pageNo=41&sido=&gugun=&store=\n",
      "https://www.hollys.co.kr/store/korea/korStore2.do?pageNo=42&sido=&gugun=&store=\n",
      "https://www.hollys.co.kr/store/korea/korStore2.do?pageNo=43&sido=&gugun=&store=\n",
      "https://www.hollys.co.kr/store/korea/korStore2.do?pageNo=44&sido=&gugun=&store=\n",
      "https://www.hollys.co.kr/store/korea/korStore2.do?pageNo=45&sido=&gugun=&store=\n",
      "https://www.hollys.co.kr/store/korea/korStore2.do?pageNo=46&sido=&gugun=&store=\n",
      "https://www.hollys.co.kr/store/korea/korStore2.do?pageNo=47&sido=&gugun=&store=\n",
      "https://www.hollys.co.kr/store/korea/korStore2.do?pageNo=48&sido=&gugun=&store=\n",
      "https://www.hollys.co.kr/store/korea/korStore2.do?pageNo=49&sido=&gugun=&store=\n",
      "https://www.hollys.co.kr/store/korea/korStore2.do?pageNo=50&sido=&gugun=&store=\n",
      "https://www.hollys.co.kr/store/korea/korStore2.do?pageNo=51&sido=&gugun=&store=\n",
      "https://www.hollys.co.kr/store/korea/korStore2.do?pageNo=52&sido=&gugun=&store=\n",
      "https://www.hollys.co.kr/store/korea/korStore2.do?pageNo=53&sido=&gugun=&store=\n",
      "https://www.hollys.co.kr/store/korea/korStore2.do?pageNo=54&sido=&gugun=&store=\n",
      "https://www.hollys.co.kr/store/korea/korStore2.do?pageNo=55&sido=&gugun=&store=\n",
      "https://www.hollys.co.kr/store/korea/korStore2.do?pageNo=56&sido=&gugun=&store=\n",
      "================= 크롤링 종료 =================\n"
     ]
    }
   ],
   "source": [
    "main()"
   ]
  },
  {
   "cell_type": "code",
   "execution_count": null,
   "id": "4d6b25d3",
   "metadata": {},
   "outputs": [],
   "source": []
  }
 ],
 "metadata": {
  "kernelspec": {
   "display_name": "Python 3",
   "language": "python",
   "name": "python3"
  },
  "language_info": {
   "codemirror_mode": {
    "name": "ipython",
    "version": 3
   },
   "file_extension": ".py",
   "mimetype": "text/x-python",
   "name": "python",
   "nbconvert_exporter": "python",
   "pygments_lexer": "ipython3",
   "version": "3.8.8"
  }
 },
 "nbformat": 4,
 "nbformat_minor": 5
}

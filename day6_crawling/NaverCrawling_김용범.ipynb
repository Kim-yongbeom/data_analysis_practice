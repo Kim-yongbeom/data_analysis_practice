{
 "cells": [
  {
   "cell_type": "code",
   "execution_count": 27,
   "id": "096e631f",
   "metadata": {},
   "outputs": [],
   "source": [
    "# 셋팅하기 - 필요한 모듈/라이브러리\n",
    "import os\n",
    "import sys\n",
    "import urllib.request\n",
    "import datetime\n",
    "import time\n",
    "import json"
   ]
  },
  {
   "cell_type": "code",
   "execution_count": 28,
   "id": "db9f4fe9",
   "metadata": {},
   "outputs": [],
   "source": [
    "# 네이버 개발자에서 생성한 개인 API 호출 아이디,비번 가져오기\n",
    "# 원래 이건 config 파일에서 끌어와야함\n",
    "client_id = \"\"\n",
    "client_secret = \"\""
   ]
  },
  {
   "cell_type": "code",
   "execution_count": 43,
   "id": "07572f39",
   "metadata": {},
   "outputs": [],
   "source": [
    "# [code 1]\n",
    "def getRequestUrl(url):\n",
    "    req = urllib.request.Request(url) #url 불러오기\n",
    "    req.add_header(\"X-Naver-Client-Id\",client_id) \n",
    "    # Naver api 사용 id를 검색 url header에 넣어줘야 함\n",
    "    req.add_header(\"X-Naver-Client-Secret\",client_secret) \n",
    "    \n",
    "    # 예외처리문으로 구성해서 네이버 서버의 응답을 확인\n",
    "    try:\n",
    "        response = urllib.request.urlopen(req)\n",
    "        if response.getcode() == 200:\n",
    "            print(\"[%s]url Request Success\" %datetime.datetime.now())\n",
    "            return response.read().decode('utf-8')\n",
    "    except Exception as e: #에러 예외처리\n",
    "        print(e)\n",
    "        print(\"[%s]Error for URL : %s\" %(datetime.datetime.now(), url))\n",
    "        return None"
   ]
  },
  {
   "cell_type": "code",
   "execution_count": 44,
   "id": "9f6ad0ca",
   "metadata": {},
   "outputs": [],
   "source": [
    "# [code 2]\n",
    "def getNaverSearch(node, scrText, start, display):\n",
    "    # 네이버 검색 API 정보로 URL을 구성 함\n",
    "    base = \"https://openapi.naver.com/v1/search\"\n",
    "    node = \"/%s.json\"%node\n",
    "    parameters = \"?query=%s&start=%s&display=%s\" %(urllib.parse.quote(scrText),start,display)\n",
    "    \n",
    "    url = base + node + parameters\n",
    "    \n",
    "    # 만들어진 URL을 이용하여 getRequestUrl() 호출해서 받은 utf-8 디코드 응답을 responseDecode에 저장\n",
    "    responseDecode = getRequestUrl(url)\n",
    "    \n",
    "    if (responseDecode == None):\n",
    "        return None\n",
    "    else:\n",
    "        return json.loads(responseDecode)\n",
    "    # 서버에서 받은 JSON 형태의 응답객체를 파이썬 객체로 로드하여 반환"
   ]
  },
  {
   "cell_type": "code",
   "execution_count": 51,
   "id": "7a82e065",
   "metadata": {},
   "outputs": [],
   "source": [
    "# [code 3]\n",
    "# getPostData 함수를 정의해서 검색결과에서 필요한 데이터 항목만 추출해서 변수에 저장\n",
    "\n",
    "# [CODE 3]\n",
    "# getPostDate 함수 정의 => 검색결과에서 필요한 데이터 항목만 추출해서 변수에 저장\n",
    "def getPostData(post, jsonResult, cnt): # cnt: 검색된 count 숫자\n",
    "    title = post['title']\n",
    "    description = post['description']\n",
    "    org_link = post['originallink']\n",
    "    link = post['link']\n",
    "    \n",
    "    # 네이버에서 제공하는 시간형식을 필요한 형식으로 전환\n",
    "    # Tue, 14 Feb 2017 18:46:00 +0900\n",
    "    pDate = datetime.datetime.strptime(post['pubDate'], '%a, %d %b %Y %H:%M:%S +0900')\n",
    "    pDate = pDate.strftime('%Y-%m-%d %H:%M:%S')\n",
    "    \n",
    "    # 딕셔너리 형태의 {키: 값}으로 구성해서 jsonResult로 구성\n",
    "    jsonResult.append({'cnt': cnt, 'title': title, 'description': description, \n",
    "                       'org_link': org_link, 'link': link, 'pDate': pDate})\n",
    "    return"
   ]
  },
  {
   "cell_type": "code",
   "execution_count": 52,
   "id": "5cde653f",
   "metadata": {},
   "outputs": [],
   "source": [
    "# [code 4]\n",
    "def main():\n",
    "    node = 'news' # 크롤링할 대상\n",
    "    srcText = input(\"검색어를 입력하세요: \")\n",
    "    cnt = 0\n",
    "    jsonResult = []\n",
    "    \n",
    "    jsonResponse = getNaverSearch(node, srcText, 1, 100) # [code 2]\n",
    "    total = jsonResponse['total']\n",
    "    \n",
    "    while((jsonResponse != None) and (jsonResponse['display'] != 0)):\n",
    "        for post in jsonResponse['items']:\n",
    "            cnt += 1\n",
    "            getPostData(post, jsonResult, cnt) # [code 3]\n",
    "            \n",
    "        start = jsonResponse['start'] + jsonResponse['display']\n",
    "        jsonResponse = getNaverSearch(node, srcText, start, 100) # [code 2]\n",
    "        \n",
    "    print('전체 검색 : %d 건'%total)\n",
    "    \n",
    "    with open('%s_naver_%s.json' %(srcText,node),'w',encoding='utf-8') as outfile:\n",
    "        jsonFIle = json.dumps(jsonResult, indent=4, sort_keys=True,\n",
    "                             ensure_ascii=False)\n",
    "        outfile.write(jsonFIle)\n",
    "    print(\"가져온 데이터 : %d건\"%(cnt))\n",
    "    print(\"%s_naver_%s.json SAVED\" %(srcText, node))"
   ]
  },
  {
   "cell_type": "code",
   "execution_count": 54,
   "id": "51103264",
   "metadata": {},
   "outputs": [
    {
     "name": "stdout",
     "output_type": "stream",
     "text": [
      "검색어를 입력하세요: 오징어게임\n",
      "[2021-10-26 12:02:38.108633]url Request Success\n",
      "[2021-10-26 12:02:38.309596]url Request Success\n",
      "[2021-10-26 12:02:38.533532]url Request Success\n",
      "[2021-10-26 12:02:38.737412]url Request Success\n",
      "[2021-10-26 12:02:38.958050]url Request Success\n",
      "[2021-10-26 12:02:39.175531]url Request Success\n",
      "[2021-10-26 12:02:39.383169]url Request Success\n",
      "[2021-10-26 12:02:39.637383]url Request Success\n",
      "[2021-10-26 12:02:39.868116]url Request Success\n",
      "[2021-10-26 12:02:40.096300]url Request Success\n",
      "HTTP Error 400: Bad Request\n",
      "[2021-10-26 12:02:40.190269]Error for URL : https://openapi.naver.com/v1/search/news.json?query=%EC%98%A4%EC%A7%95%EC%96%B4%EA%B2%8C%EC%9E%84&start=1001&display=100\n",
      "전체 검색 : 24483 건\n",
      "가져온 데이터 : 1000건\n",
      "오징어게임_naver_news.json SAVED\n"
     ]
    }
   ],
   "source": [
    "# [code 5]\n",
    "main()"
   ]
  },
  {
   "cell_type": "code",
   "execution_count": null,
   "id": "e0d0eec4",
   "metadata": {},
   "outputs": [],
   "source": []
  }
 ],
 "metadata": {
  "kernelspec": {
   "display_name": "Python 3",
   "language": "python",
   "name": "python3"
  },
  "language_info": {
   "codemirror_mode": {
    "name": "ipython",
    "version": 3
   },
   "file_extension": ".py",
   "mimetype": "text/x-python",
   "name": "python",
   "nbconvert_exporter": "python",
   "pygments_lexer": "ipython3",
   "version": "3.8.8"
  }
 },
 "nbformat": 4,
 "nbformat_minor": 5
}

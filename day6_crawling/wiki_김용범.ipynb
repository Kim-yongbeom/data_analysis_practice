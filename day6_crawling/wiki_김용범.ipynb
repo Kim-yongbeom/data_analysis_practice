{
 "cells": [
  {
   "cell_type": "code",
   "execution_count": 2,
   "id": "68f7d797",
   "metadata": {},
   "outputs": [],
   "source": [
    "from bs4 import BeautifulSoup"
   ]
  },
  {
   "cell_type": "code",
   "execution_count": 5,
   "id": "a7163ac8",
   "metadata": {},
   "outputs": [],
   "source": [
    "html = open('wiki.html', 'rt', encoding='utf-8').read() # HTML 파일 읽고 문자열 리턴"
   ]
  },
  {
   "cell_type": "code",
   "execution_count": 13,
   "id": "569b3026",
   "metadata": {},
   "outputs": [
    {
     "name": "stdout",
     "output_type": "stream",
     "text": [
      "<h1 id=\"title\">\n",
      " 위키-위키백과, 우리 모두의 백과사전\n",
      "</h1>\n",
      "<div class=\"top\">\n",
      " <ul class=\"menu\">\n",
      "  <li>\n",
      "   <a href=\"https://ko.wikipedia.org/wiki/%EC%9C%84%ED%82%A4\">\n",
      "    계정만들기\n",
      "   </a>\n",
      "  </li>\n",
      "  <li>\n",
      "   <a href=\"https://ko.wikipedia.org/wiki/\">\n",
      "    wiki\n",
      "   </a>\n",
      "  </li>\n",
      " </ul>\n",
      " <div>\n",
      " </div>\n",
      "</div>\n"
     ]
    }
   ],
   "source": [
    "soup = BeautifulSoup(html, 'html.parser')\n",
    "print(soup.prettify())"
   ]
  },
  {
   "cell_type": "code",
   "execution_count": 14,
   "id": "d830c892",
   "metadata": {},
   "outputs": [
    {
     "name": "stdout",
     "output_type": "stream",
     "text": [
      "<h1 id=\"title\">\n",
      " 위키-위키백과, 우리 모두의 백과사전\n",
      "</h1>\n"
     ]
    }
   ],
   "source": [
    "tag_h1 = soup.h1\n",
    "print(tag_h1)"
   ]
  },
  {
   "cell_type": "code",
   "execution_count": 15,
   "id": "a63a9253",
   "metadata": {},
   "outputs": [
    {
     "name": "stdout",
     "output_type": "stream",
     "text": [
      "<div class=\"top\">\n",
      "<ul class=\"menu\">\n",
      "<li>\n",
      "<a href=\"https://ko.wikipedia.org/wiki/%EC%9C%84%ED%82%A4\">\n",
      "    계정만들기\n",
      "   </a>\n",
      "</li>\n",
      "<li>\n",
      "<a href=\"https://ko.wikipedia.org/wiki/\">\n",
      "    wiki\n",
      "   </a>\n",
      "</li>\n",
      "</ul>\n",
      "<div>\n",
      "</div>\n",
      "</div>\n"
     ]
    }
   ],
   "source": [
    "tag_div = soup.div\n",
    "print(tag_div)"
   ]
  },
  {
   "cell_type": "code",
   "execution_count": 16,
   "id": "be67ce43",
   "metadata": {},
   "outputs": [
    {
     "name": "stdout",
     "output_type": "stream",
     "text": [
      "<ul class=\"menu\">\n",
      "<li>\n",
      "<a href=\"https://ko.wikipedia.org/wiki/%EC%9C%84%ED%82%A4\">\n",
      "    계정만들기\n",
      "   </a>\n",
      "</li>\n",
      "<li>\n",
      "<a href=\"https://ko.wikipedia.org/wiki/\">\n",
      "    wiki\n",
      "   </a>\n",
      "</li>\n",
      "</ul>\n"
     ]
    }
   ],
   "source": [
    "tag_ul = soup.ul\n",
    "print(tag_ul)"
   ]
  },
  {
   "cell_type": "code",
   "execution_count": 20,
   "id": "19506b08",
   "metadata": {},
   "outputs": [
    {
     "name": "stdout",
     "output_type": "stream",
     "text": [
      "<li>\n",
      "<a href=\"https://ko.wikipedia.org/wiki/%EC%9C%84%ED%82%A4\">\n",
      "    계정만들기\n",
      "   </a>\n",
      "</li>\n"
     ]
    }
   ],
   "source": [
    "tag_li = soup.li\n",
    "print(tag_li)"
   ]
  },
  {
   "cell_type": "code",
   "execution_count": 21,
   "id": "7fb88a2d",
   "metadata": {},
   "outputs": [
    {
     "name": "stdout",
     "output_type": "stream",
     "text": [
      "<a href=\"https://ko.wikipedia.org/wiki/%EC%9C%84%ED%82%A4\">\n",
      "    계정만들기\n",
      "   </a>\n"
     ]
    }
   ],
   "source": [
    "tag_a = soup.a\n",
    "print(tag_a)"
   ]
  },
  {
   "cell_type": "code",
   "execution_count": 23,
   "id": "af089826",
   "metadata": {},
   "outputs": [
    {
     "name": "stdout",
     "output_type": "stream",
     "text": [
      "[<ul class=\"menu\">\n",
      "<li>\n",
      "<a href=\"https://ko.wikipedia.org/wiki/%EC%9C%84%ED%82%A4\">\n",
      "    계정만들기\n",
      "   </a>\n",
      "</li>\n",
      "<li>\n",
      "<a href=\"https://ko.wikipedia.org/wiki/\">\n",
      "    wiki\n",
      "   </a>\n",
      "</li>\n",
      "</ul>]\n"
     ]
    }
   ],
   "source": [
    "tag_ul_all = soup.find_all(\"ul\")\n",
    "print(tag_ul_all)"
   ]
  },
  {
   "cell_type": "code",
   "execution_count": 27,
   "id": "2bb8211d",
   "metadata": {},
   "outputs": [
    {
     "name": "stdout",
     "output_type": "stream",
     "text": [
      "[<li>\n",
      "<a href=\"https://ko.wikipedia.org/wiki/%EC%9C%84%ED%82%A4\">\n",
      "    계정만들기\n",
      "   </a>\n",
      "</li>, <li>\n",
      "<a href=\"https://ko.wikipedia.org/wiki/\">\n",
      "    wiki\n",
      "   </a>\n",
      "</li>]\n"
     ]
    }
   ],
   "source": [
    "tag_li_all = soup.find_all(\"li\")\n",
    "print(tag_li_all)"
   ]
  },
  {
   "cell_type": "code",
   "execution_count": 28,
   "id": "ca22b814",
   "metadata": {},
   "outputs": [
    {
     "data": {
      "text/plain": [
       "[<li>\n",
       " <a href=\"https://ko.wikipedia.org/wiki/%EC%9C%84%ED%82%A4\">\n",
       "     계정만들기\n",
       "    </a>\n",
       " </li>,\n",
       " <li>\n",
       " <a href=\"https://ko.wikipedia.org/wiki/\">\n",
       "     wiki\n",
       "    </a>\n",
       " </li>]"
      ]
     },
     "execution_count": 28,
     "metadata": {},
     "output_type": "execute_result"
    }
   ],
   "source": [
    "tag_li_all = soup.find_all(\"li\")\n",
    "tag_li_all"
   ]
  },
  {
   "cell_type": "code",
   "execution_count": 29,
   "id": "036c6ba7",
   "metadata": {},
   "outputs": [
    {
     "data": {
      "text/plain": [
       "<h1 id=\"title\">\n",
       " 위키-위키백과, 우리 모두의 백과사전\n",
       "</h1>"
      ]
     },
     "execution_count": 29,
     "metadata": {},
     "output_type": "execute_result"
    }
   ],
   "source": [
    "tag_a.attrs\n",
    "tag_a['href']\n",
    "tag_div['class']\n",
    "\n",
    "title = soup.find(id=\"title\")\n",
    "title"
   ]
  },
  {
   "cell_type": "code",
   "execution_count": 34,
   "id": "acc84203",
   "metadata": {},
   "outputs": [
    {
     "data": {
      "text/plain": [
       "<h1 id=\"title\">\n",
       " 위키-위키백과, 우리 모두의 백과사전\n",
       "</h1>"
      ]
     },
     "execution_count": 34,
     "metadata": {},
     "output_type": "execute_result"
    }
   ],
   "source": [
    "tag_a.attrs\n",
    "tag_a['href']\n",
    "tag_div['class']\n",
    "\n",
    "title = soup.find(id=\"title\")\n",
    "title\n"
   ]
  },
  {
   "cell_type": "code",
   "execution_count": 35,
   "id": "b0ff63f3",
   "metadata": {},
   "outputs": [
    {
     "data": {
      "text/plain": [
       "[<li>\n",
       " <a href=\"https://ko.wikipedia.org/wiki/%EC%9C%84%ED%82%A4\">\n",
       "     계정만들기\n",
       "    </a>\n",
       " </li>,\n",
       " <li>\n",
       " <a href=\"https://ko.wikipedia.org/wiki/\">\n",
       "     wiki\n",
       "    </a>\n",
       " </li>]"
      ]
     },
     "execution_count": 35,
     "metadata": {},
     "output_type": "execute_result"
    }
   ],
   "source": [
    "title.string\n",
    "li_list=soup.select(\"div>ul>li\")  # div 안에 ul 안에 li 선택\n",
    "li_list"
   ]
  },
  {
   "cell_type": "code",
   "execution_count": 38,
   "id": "df05bab3",
   "metadata": {},
   "outputs": [
    {
     "name": "stdout",
     "output_type": "stream",
     "text": [
      "\n",
      "    계정만들기\n",
      "   \n",
      "\n",
      "    wiki\n",
      "   \n"
     ]
    }
   ],
   "source": [
    "for li in li_list:\n",
    "    print(li.a.string)"
   ]
  },
  {
   "cell_type": "code",
   "execution_count": null,
   "id": "61a5178d",
   "metadata": {},
   "outputs": [],
   "source": []
  }
 ],
 "metadata": {
  "kernelspec": {
   "display_name": "Python 3",
   "language": "python",
   "name": "python3"
  },
  "language_info": {
   "codemirror_mode": {
    "name": "ipython",
    "version": 3
   },
   "file_extension": ".py",
   "mimetype": "text/x-python",
   "name": "python",
   "nbconvert_exporter": "python",
   "pygments_lexer": "ipython3",
   "version": "3.8.8"
  }
 },
 "nbformat": 4,
 "nbformat_minor": 5
}

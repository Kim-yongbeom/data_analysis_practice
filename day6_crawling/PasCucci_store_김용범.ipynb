{
 "cells": [
  {
   "cell_type": "code",
   "execution_count": 59,
   "id": "2e328383",
   "metadata": {},
   "outputs": [],
   "source": [
    "from bs4 import BeautifulSoup\n",
    "import urllib.request\n",
    "import pandas as pd\n",
    "import numpy as np\n",
    "import datetime"
   ]
  },
  {
   "cell_type": "code",
   "execution_count": 78,
   "id": "c7ed26bc",
   "metadata": {},
   "outputs": [],
   "source": [
    "def PasCucci_store(result):\n",
    "    for page in range(1,7): # 매장은 수시로 바뀌므로 스토어 수를 확인해서 넣기\n",
    "        PasCucci_url = \"https://www.caffe-pascucci.co.kr/store/storeList.asp?searchRegion=20041000&searchParking=Y&page=%d\" %page\n",
    "        html = urllib.request.urlopen(PasCucci_url)\n",
    "        soupPasCucci = BeautifulSoup(html, 'html.parser')\n",
    "        tag_tbody = soupPasCucci.find('tbody')\n",
    "        \n",
    "        for store in tag_tbody.find_all('tr'):\n",
    "            store_td = store.find_all('td')\n",
    "            store_number = store_td[0].string\n",
    "            store_Name = store_td[1].string\n",
    "            store_Area = store_td[2].string\n",
    "            store_addtionalInfo = store_td[3].string\n",
    "            store_address = store_td[4].find_all('p')[0].string\n",
    "            store_subject = store_td[4].find_all('p')[1].string\n",
    "            store_phone = store_td[5].span.string\n",
    "            result.append([store_number]+[store_Name]+[store_Area]+[store_addtionalInfo]+[store_address]+[store_subject]+[store_phone])\n",
    "    return"
   ]
  },
  {
   "cell_type": "code",
   "execution_count": 79,
   "id": "d0293dff",
   "metadata": {},
   "outputs": [],
   "source": [
    "def main():\n",
    "    result = []\n",
    "    print(\"============== 크롤링중 ==============\")\n",
    "    PasCucci_store(result)\n",
    "    print(\"============== 종료 ===============\")\n",
    "    PasCucci_tbl = pd.DataFrame(result, columns = ('Number', 'Name', 'Area', 'AddtionalInfo','address', 'subject', 'Phone'))\n",
    "    PasCucci_tbl.to_csv(\"PasCucci.csv\", encoding=\"utf-8\", mode=\"w\", index=True)\n",
    "    del result[:]"
   ]
  },
  {
   "cell_type": "code",
   "execution_count": 80,
   "id": "5e71957f",
   "metadata": {},
   "outputs": [
    {
     "name": "stdout",
     "output_type": "stream",
     "text": [
      "============== 크롤링중 ==============\n",
      "============== 종료 ===============\n"
     ]
    }
   ],
   "source": [
    "main()"
   ]
  },
  {
   "cell_type": "code",
   "execution_count": null,
   "id": "2b16b8ff",
   "metadata": {},
   "outputs": [],
   "source": []
  }
 ],
 "metadata": {
  "kernelspec": {
   "display_name": "Python 3",
   "language": "python",
   "name": "python3"
  },
  "language_info": {
   "codemirror_mode": {
    "name": "ipython",
    "version": 3
   },
   "file_extension": ".py",
   "mimetype": "text/x-python",
   "name": "python",
   "nbconvert_exporter": "python",
   "pygments_lexer": "ipython3",
   "version": "3.8.8"
  }
 },
 "nbformat": 4,
 "nbformat_minor": 5
}

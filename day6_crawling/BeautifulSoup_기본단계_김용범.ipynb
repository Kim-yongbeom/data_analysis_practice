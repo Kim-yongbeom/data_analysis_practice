{
 "cells": [
  {
   "cell_type": "code",
   "execution_count": 1,
   "id": "37edba64",
   "metadata": {},
   "outputs": [],
   "source": [
    "# 크롤링은 웹페이지에 접근하여 html 문서의 태그와 속성들을 이용해서 필요한 데이터들을 수집하는 행위\n",
    "\n",
    "# BeautifulSoup html 문서에서 쉽게 원하는 내용을 파싱할 수 있는 모듈"
   ]
  },
  {
   "cell_type": "code",
   "execution_count": 2,
   "id": "4d9b10dc",
   "metadata": {},
   "outputs": [],
   "source": [
    "# 파이썬에서 크롤링을 하기 위한 셋팅에서 1순위 => BeautifulSoup > bs4\n",
    "from bs4 import BeautifulSoup"
   ]
  },
  {
   "cell_type": "code",
   "execution_count": 7,
   "id": "7a1c1beb",
   "metadata": {},
   "outputs": [],
   "source": [
    "html = \"\"\"\n",
    "<html><body><div><span>\\\n",
    "<a href=http://www.naver.com>naver</a>\\\n",
    "<a href=http://www.google.com>google</a>\\\n",
    "<a href=http://www.daum.net>daum</a>\\\n",
    "</span></div></body></html>\n",
    "\"\"\""
   ]
  },
  {
   "cell_type": "code",
   "execution_count": 8,
   "id": "bcca88f9",
   "metadata": {},
   "outputs": [
    {
     "data": {
      "text/plain": [
       "<html><body><div><span><a href=\"http://www.naver.com\">naver</a><a href=\"http://www.google.com\">google</a><a href=\"http://www.daum.net\">daum</a></span></div></body></html>"
      ]
     },
     "execution_count": 8,
     "metadata": {},
     "output_type": "execute_result"
    }
   ],
   "source": [
    "soup = BeautifulSoup(html, 'lxml')\n",
    "soup"
   ]
  },
  {
   "cell_type": "code",
   "execution_count": 9,
   "id": "6718394f",
   "metadata": {},
   "outputs": [
    {
     "name": "stdout",
     "output_type": "stream",
     "text": [
      "<html>\n",
      " <body>\n",
      "  <div>\n",
      "   <span>\n",
      "    <a href=\"http://www.naver.com\">\n",
      "     naver\n",
      "    </a>\n",
      "    <a href=\"http://www.google.com\">\n",
      "     google\n",
      "    </a>\n",
      "    <a href=\"http://www.daum.net\">\n",
      "     daum\n",
      "    </a>\n",
      "   </span>\n",
      "  </div>\n",
      " </body>\n",
      "</html>\n",
      "\n"
     ]
    }
   ],
   "source": [
    "print(soup.prettify())  # soup 를 들여쓰기 해주기"
   ]
  },
  {
   "cell_type": "code",
   "execution_count": 10,
   "id": "02bd96cb",
   "metadata": {},
   "outputs": [
    {
     "data": {
      "text/plain": [
       "<a href=\"http://www.naver.com\">naver</a>"
      ]
     },
     "execution_count": 10,
     "metadata": {},
     "output_type": "execute_result"
    }
   ],
   "source": [
    "# a 태그로 되어있는 부분 파싱하기\n",
    "# a로 시작되는 태그 찾기\n",
    "soup.find('a')"
   ]
  },
  {
   "cell_type": "code",
   "execution_count": 11,
   "id": "b39bb26d",
   "metadata": {},
   "outputs": [],
   "source": [
    "soup.find('f')  # 없으면 안나옴"
   ]
  },
  {
   "cell_type": "code",
   "execution_count": 12,
   "id": "cb2b0e77",
   "metadata": {},
   "outputs": [],
   "source": [
    "soup.find('g')"
   ]
  },
  {
   "cell_type": "code",
   "execution_count": 13,
   "id": "53df71d8",
   "metadata": {},
   "outputs": [
    {
     "data": {
      "text/plain": [
       "[<a href=\"http://www.naver.com\">naver</a>,\n",
       " <a href=\"http://www.google.com\">google</a>,\n",
       " <a href=\"http://www.daum.net\">daum</a>]"
      ]
     },
     "execution_count": 13,
     "metadata": {},
     "output_type": "execute_result"
    }
   ],
   "source": [
    "soup.find_all('a') # a 태그로 되어있는 부분 다 가져오기"
   ]
  },
  {
   "cell_type": "code",
   "execution_count": 14,
   "id": "56fc559d",
   "metadata": {},
   "outputs": [
    {
     "data": {
      "text/plain": [
       "'naver'"
      ]
     },
     "execution_count": 14,
     "metadata": {},
     "output_type": "execute_result"
    }
   ],
   "source": [
    "soup.find('a').get_text() # a태그에 해당하는 값 가져오기"
   ]
  },
  {
   "cell_type": "code",
   "execution_count": 16,
   "id": "0609f18c",
   "metadata": {},
   "outputs": [
    {
     "name": "stdout",
     "output_type": "stream",
     "text": [
      "naver\n",
      "google\n",
      "daum\n"
     ]
    }
   ],
   "source": [
    "# a 태그에 해당하는 값 모두 가져오기\n",
    "site_names = soup.find_all('a')\n",
    "for site_name in site_names:\n",
    "    print(site_name.get_text())"
   ]
  },
  {
   "cell_type": "code",
   "execution_count": null,
   "id": "9859437c",
   "metadata": {},
   "outputs": [],
   "source": []
  }
 ],
 "metadata": {
  "kernelspec": {
   "display_name": "Python 3",
   "language": "python",
   "name": "python3"
  },
  "language_info": {
   "codemirror_mode": {
    "name": "ipython",
    "version": 3
   },
   "file_extension": ".py",
   "mimetype": "text/x-python",
   "name": "python",
   "nbconvert_exporter": "python",
   "pygments_lexer": "ipython3",
   "version": "3.8.8"
  }
 },
 "nbformat": 4,
 "nbformat_minor": 5
}

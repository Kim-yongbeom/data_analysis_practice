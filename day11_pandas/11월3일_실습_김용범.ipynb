{
 "cells": [
  {
   "cell_type": "code",
   "execution_count": 17,
   "id": "e14e30eb",
   "metadata": {},
   "outputs": [
    {
     "data": {
      "text/html": [
       "<div>\n",
       "<style scoped>\n",
       "    .dataframe tbody tr th:only-of-type {\n",
       "        vertical-align: middle;\n",
       "    }\n",
       "\n",
       "    .dataframe tbody tr th {\n",
       "        vertical-align: top;\n",
       "    }\n",
       "\n",
       "    .dataframe thead th {\n",
       "        text-align: right;\n",
       "    }\n",
       "</style>\n",
       "<table border=\"1\" class=\"dataframe\">\n",
       "  <thead>\n",
       "    <tr style=\"text-align: right;\">\n",
       "      <th></th>\n",
       "      <th>나이</th>\n",
       "      <th>성별</th>\n",
       "      <th>키</th>\n",
       "      <th>체중</th>\n",
       "    </tr>\n",
       "  </thead>\n",
       "  <tbody>\n",
       "    <tr>\n",
       "      <th>이겨레</th>\n",
       "      <td>25</td>\n",
       "      <td>남</td>\n",
       "      <td>185</td>\n",
       "      <td>89</td>\n",
       "    </tr>\n",
       "    <tr>\n",
       "      <th>조약돌</th>\n",
       "      <td>19</td>\n",
       "      <td>여</td>\n",
       "      <td>163</td>\n",
       "      <td>53</td>\n",
       "    </tr>\n",
       "    <tr>\n",
       "      <th>강산애</th>\n",
       "      <td>27</td>\n",
       "      <td>남</td>\n",
       "      <td>177</td>\n",
       "      <td>63</td>\n",
       "    </tr>\n",
       "  </tbody>\n",
       "</table>\n",
       "</div>"
      ],
      "text/plain": [
       "     나이 성별    키  체중\n",
       "이겨레  25  남  185  89\n",
       "조약돌  19  여  163  53\n",
       "강산애  27  남  177  63"
      ]
     },
     "execution_count": 17,
     "metadata": {},
     "output_type": "execute_result"
    }
   ],
   "source": [
    "import pandas as pd\n",
    "df = pd.DataFrame([[25,'남',185,89],\n",
    "                   [19,'여',163,53],\n",
    "                   [27,'남',177,63]],\n",
    "                   index=['이겨레','조약돌','강산애'],\n",
    "                   columns=['나이','성별','키','체중']\n",
    "                  )\n",
    "#df.set_index('성명')\n",
    "df"
   ]
  },
  {
   "cell_type": "code",
   "execution_count": 18,
   "id": "3923a088",
   "metadata": {},
   "outputs": [
    {
     "data": {
      "text/html": [
       "<div>\n",
       "<style scoped>\n",
       "    .dataframe tbody tr th:only-of-type {\n",
       "        vertical-align: middle;\n",
       "    }\n",
       "\n",
       "    .dataframe tbody tr th {\n",
       "        vertical-align: top;\n",
       "    }\n",
       "\n",
       "    .dataframe thead th {\n",
       "        text-align: right;\n",
       "    }\n",
       "</style>\n",
       "<table border=\"1\" class=\"dataframe\">\n",
       "  <thead>\n",
       "    <tr style=\"text-align: right;\">\n",
       "      <th></th>\n",
       "      <th>이겨레</th>\n",
       "      <th>조약돌</th>\n",
       "      <th>강산애</th>\n",
       "    </tr>\n",
       "  </thead>\n",
       "  <tbody>\n",
       "    <tr>\n",
       "      <th>나이</th>\n",
       "      <td>25</td>\n",
       "      <td>19</td>\n",
       "      <td>27</td>\n",
       "    </tr>\n",
       "    <tr>\n",
       "      <th>성별</th>\n",
       "      <td>남</td>\n",
       "      <td>여</td>\n",
       "      <td>남</td>\n",
       "    </tr>\n",
       "    <tr>\n",
       "      <th>키</th>\n",
       "      <td>185</td>\n",
       "      <td>163</td>\n",
       "      <td>177</td>\n",
       "    </tr>\n",
       "    <tr>\n",
       "      <th>체중</th>\n",
       "      <td>89</td>\n",
       "      <td>53</td>\n",
       "      <td>63</td>\n",
       "    </tr>\n",
       "  </tbody>\n",
       "</table>\n",
       "</div>"
      ],
      "text/plain": [
       "    이겨레  조약돌  강산애\n",
       "나이   25   19   27\n",
       "성별    남    여    남\n",
       "키   185  163  177\n",
       "체중   89   53   63"
      ]
     },
     "execution_count": 18,
     "metadata": {},
     "output_type": "execute_result"
    }
   ],
   "source": [
    "df.transpose()"
   ]
  },
  {
   "cell_type": "code",
   "execution_count": 19,
   "id": "afac94dc",
   "metadata": {},
   "outputs": [
    {
     "data": {
      "text/html": [
       "<div>\n",
       "<style scoped>\n",
       "    .dataframe tbody tr th:only-of-type {\n",
       "        vertical-align: middle;\n",
       "    }\n",
       "\n",
       "    .dataframe tbody tr th {\n",
       "        vertical-align: top;\n",
       "    }\n",
       "\n",
       "    .dataframe thead th {\n",
       "        text-align: right;\n",
       "    }\n",
       "</style>\n",
       "<table border=\"1\" class=\"dataframe\">\n",
       "  <thead>\n",
       "    <tr style=\"text-align: right;\">\n",
       "      <th></th>\n",
       "      <th>이겨레</th>\n",
       "      <th>조약돌</th>\n",
       "      <th>강산애</th>\n",
       "    </tr>\n",
       "  </thead>\n",
       "  <tbody>\n",
       "    <tr>\n",
       "      <th>나이</th>\n",
       "      <td>25</td>\n",
       "      <td>19</td>\n",
       "      <td>27</td>\n",
       "    </tr>\n",
       "    <tr>\n",
       "      <th>성별</th>\n",
       "      <td>남</td>\n",
       "      <td>여</td>\n",
       "      <td>남</td>\n",
       "    </tr>\n",
       "    <tr>\n",
       "      <th>키</th>\n",
       "      <td>185</td>\n",
       "      <td>163</td>\n",
       "      <td>177</td>\n",
       "    </tr>\n",
       "    <tr>\n",
       "      <th>체중</th>\n",
       "      <td>89</td>\n",
       "      <td>53</td>\n",
       "      <td>63</td>\n",
       "    </tr>\n",
       "  </tbody>\n",
       "</table>\n",
       "</div>"
      ],
      "text/plain": [
       "    이겨레  조약돌  강산애\n",
       "나이   25   19   27\n",
       "성별    남    여    남\n",
       "키   185  163  177\n",
       "체중   89   53   63"
      ]
     },
     "execution_count": 19,
     "metadata": {},
     "output_type": "execute_result"
    }
   ],
   "source": [
    "df.T"
   ]
  },
  {
   "cell_type": "markdown",
   "id": "5abc73b1",
   "metadata": {},
   "source": [
    "### 복사해서 드랍하기"
   ]
  },
  {
   "cell_type": "code",
   "execution_count": 34,
   "id": "958ceb6b",
   "metadata": {},
   "outputs": [
    {
     "data": {
      "text/html": [
       "<div>\n",
       "<style scoped>\n",
       "    .dataframe tbody tr th:only-of-type {\n",
       "        vertical-align: middle;\n",
       "    }\n",
       "\n",
       "    .dataframe tbody tr th {\n",
       "        vertical-align: top;\n",
       "    }\n",
       "\n",
       "    .dataframe thead th {\n",
       "        text-align: right;\n",
       "    }\n",
       "</style>\n",
       "<table border=\"1\" class=\"dataframe\">\n",
       "  <thead>\n",
       "    <tr style=\"text-align: right;\">\n",
       "      <th></th>\n",
       "      <th>나이</th>\n",
       "      <th>성별</th>\n",
       "      <th>키</th>\n",
       "      <th>체중</th>\n",
       "    </tr>\n",
       "  </thead>\n",
       "  <tbody>\n",
       "    <tr>\n",
       "      <th>이겨레</th>\n",
       "      <td>25</td>\n",
       "      <td>남</td>\n",
       "      <td>185</td>\n",
       "      <td>89</td>\n",
       "    </tr>\n",
       "    <tr>\n",
       "      <th>강산애</th>\n",
       "      <td>27</td>\n",
       "      <td>남</td>\n",
       "      <td>177</td>\n",
       "      <td>63</td>\n",
       "    </tr>\n",
       "  </tbody>\n",
       "</table>\n",
       "</div>"
      ],
      "text/plain": [
       "     나이 성별    키  체중\n",
       "이겨레  25  남  185  89\n",
       "강산애  27  남  177  63"
      ]
     },
     "execution_count": 34,
     "metadata": {},
     "output_type": "execute_result"
    }
   ],
   "source": [
    "df1 = df.copy()\n",
    "df1.drop('조약돌', axis=0, inplace=True)\n",
    "df1"
   ]
  },
  {
   "cell_type": "code",
   "execution_count": 35,
   "id": "e515f833",
   "metadata": {},
   "outputs": [
    {
     "data": {
      "text/html": [
       "<div>\n",
       "<style scoped>\n",
       "    .dataframe tbody tr th:only-of-type {\n",
       "        vertical-align: middle;\n",
       "    }\n",
       "\n",
       "    .dataframe tbody tr th {\n",
       "        vertical-align: top;\n",
       "    }\n",
       "\n",
       "    .dataframe thead th {\n",
       "        text-align: right;\n",
       "    }\n",
       "</style>\n",
       "<table border=\"1\" class=\"dataframe\">\n",
       "  <thead>\n",
       "    <tr style=\"text-align: right;\">\n",
       "      <th></th>\n",
       "      <th>나이</th>\n",
       "      <th>성별</th>\n",
       "      <th>키</th>\n",
       "      <th>체중</th>\n",
       "    </tr>\n",
       "  </thead>\n",
       "  <tbody>\n",
       "    <tr>\n",
       "      <th>이겨레</th>\n",
       "      <td>25</td>\n",
       "      <td>남</td>\n",
       "      <td>185</td>\n",
       "      <td>89</td>\n",
       "    </tr>\n",
       "    <tr>\n",
       "      <th>조약돌</th>\n",
       "      <td>19</td>\n",
       "      <td>여</td>\n",
       "      <td>163</td>\n",
       "      <td>53</td>\n",
       "    </tr>\n",
       "    <tr>\n",
       "      <th>강산애</th>\n",
       "      <td>27</td>\n",
       "      <td>남</td>\n",
       "      <td>177</td>\n",
       "      <td>63</td>\n",
       "    </tr>\n",
       "  </tbody>\n",
       "</table>\n",
       "</div>"
      ],
      "text/plain": [
       "     나이 성별    키  체중\n",
       "이겨레  25  남  185  89\n",
       "조약돌  19  여  163  53\n",
       "강산애  27  남  177  63"
      ]
     },
     "execution_count": 35,
     "metadata": {},
     "output_type": "execute_result"
    }
   ],
   "source": [
    "df"
   ]
  },
  {
   "cell_type": "code",
   "execution_count": 36,
   "id": "0186ee4b",
   "metadata": {},
   "outputs": [
    {
     "data": {
      "text/html": [
       "<div>\n",
       "<style scoped>\n",
       "    .dataframe tbody tr th:only-of-type {\n",
       "        vertical-align: middle;\n",
       "    }\n",
       "\n",
       "    .dataframe tbody tr th {\n",
       "        vertical-align: top;\n",
       "    }\n",
       "\n",
       "    .dataframe thead th {\n",
       "        text-align: right;\n",
       "    }\n",
       "</style>\n",
       "<table border=\"1\" class=\"dataframe\">\n",
       "  <thead>\n",
       "    <tr style=\"text-align: right;\">\n",
       "      <th></th>\n",
       "      <th>나이</th>\n",
       "      <th>성별</th>\n",
       "      <th>키</th>\n",
       "      <th>체중</th>\n",
       "    </tr>\n",
       "  </thead>\n",
       "  <tbody>\n",
       "    <tr>\n",
       "      <th>강산애</th>\n",
       "      <td>27</td>\n",
       "      <td>남</td>\n",
       "      <td>177</td>\n",
       "      <td>63</td>\n",
       "    </tr>\n",
       "  </tbody>\n",
       "</table>\n",
       "</div>"
      ],
      "text/plain": [
       "     나이 성별    키  체중\n",
       "강산애  27  남  177  63"
      ]
     },
     "execution_count": 36,
     "metadata": {},
     "output_type": "execute_result"
    }
   ],
   "source": [
    "df2 = df.copy()\n",
    "df2.drop(['조약돌','이겨레'],inplace=True)\n",
    "df2"
   ]
  },
  {
   "cell_type": "code",
   "execution_count": 39,
   "id": "0e4fa2a9",
   "metadata": {},
   "outputs": [
    {
     "data": {
      "text/html": [
       "<div>\n",
       "<style scoped>\n",
       "    .dataframe tbody tr th:only-of-type {\n",
       "        vertical-align: middle;\n",
       "    }\n",
       "\n",
       "    .dataframe tbody tr th {\n",
       "        vertical-align: top;\n",
       "    }\n",
       "\n",
       "    .dataframe thead th {\n",
       "        text-align: right;\n",
       "    }\n",
       "</style>\n",
       "<table border=\"1\" class=\"dataframe\">\n",
       "  <thead>\n",
       "    <tr style=\"text-align: right;\">\n",
       "      <th></th>\n",
       "      <th>성별</th>\n",
       "      <th>키</th>\n",
       "      <th>체중</th>\n",
       "    </tr>\n",
       "  </thead>\n",
       "  <tbody>\n",
       "    <tr>\n",
       "      <th>이겨레</th>\n",
       "      <td>남</td>\n",
       "      <td>185</td>\n",
       "      <td>89</td>\n",
       "    </tr>\n",
       "    <tr>\n",
       "      <th>조약돌</th>\n",
       "      <td>여</td>\n",
       "      <td>163</td>\n",
       "      <td>53</td>\n",
       "    </tr>\n",
       "    <tr>\n",
       "      <th>강산애</th>\n",
       "      <td>남</td>\n",
       "      <td>177</td>\n",
       "      <td>63</td>\n",
       "    </tr>\n",
       "  </tbody>\n",
       "</table>\n",
       "</div>"
      ],
      "text/plain": [
       "    성별    키  체중\n",
       "이겨레  남  185  89\n",
       "조약돌  여  163  53\n",
       "강산애  남  177  63"
      ]
     },
     "execution_count": 39,
     "metadata": {},
     "output_type": "execute_result"
    }
   ],
   "source": [
    "df3 = df.copy()\n",
    "df3.drop(['나이'],axis=1,inplace=True)\n",
    "df3"
   ]
  },
  {
   "cell_type": "code",
   "execution_count": 40,
   "id": "2fa7cb80",
   "metadata": {},
   "outputs": [
    {
     "data": {
      "text/html": [
       "<div>\n",
       "<style scoped>\n",
       "    .dataframe tbody tr th:only-of-type {\n",
       "        vertical-align: middle;\n",
       "    }\n",
       "\n",
       "    .dataframe tbody tr th {\n",
       "        vertical-align: top;\n",
       "    }\n",
       "\n",
       "    .dataframe thead th {\n",
       "        text-align: right;\n",
       "    }\n",
       "</style>\n",
       "<table border=\"1\" class=\"dataframe\">\n",
       "  <thead>\n",
       "    <tr style=\"text-align: right;\">\n",
       "      <th></th>\n",
       "      <th>나이</th>\n",
       "      <th>성별</th>\n",
       "      <th>키</th>\n",
       "      <th>체중</th>\n",
       "    </tr>\n",
       "    <tr>\n",
       "      <th>성명</th>\n",
       "      <th></th>\n",
       "      <th></th>\n",
       "      <th></th>\n",
       "      <th></th>\n",
       "    </tr>\n",
       "  </thead>\n",
       "  <tbody>\n",
       "    <tr>\n",
       "      <th>이겨레</th>\n",
       "      <td>25</td>\n",
       "      <td>남</td>\n",
       "      <td>185</td>\n",
       "      <td>89</td>\n",
       "    </tr>\n",
       "    <tr>\n",
       "      <th>조약돌</th>\n",
       "      <td>19</td>\n",
       "      <td>여</td>\n",
       "      <td>163</td>\n",
       "      <td>53</td>\n",
       "    </tr>\n",
       "  </tbody>\n",
       "</table>\n",
       "</div>"
      ],
      "text/plain": [
       "     나이 성별    키  체중\n",
       "성명                 \n",
       "이겨레  25  남  185  89\n",
       "조약돌  19  여  163  53"
      ]
     },
     "execution_count": 40,
     "metadata": {},
     "output_type": "execute_result"
    }
   ],
   "source": [
    "bio_data = {\n",
    "    '성명': ['이겨레', '조약돌'],\n",
    "    '나이': [25, 19],\n",
    "    '성별': ['남', '여'],\n",
    "    '키': [185, 163],\n",
    "    '체중': [89, 53]\n",
    "}\n",
    "df = pd.DataFrame(bio_data)\n",
    "df.set_index('성명',inplace=True)\n",
    "df"
   ]
  },
  {
   "cell_type": "markdown",
   "id": "eaa177c0",
   "metadata": {},
   "source": [
    "### 다양한 파일로 저장하기"
   ]
  },
  {
   "cell_type": "code",
   "execution_count": 41,
   "id": "8523cdac",
   "metadata": {},
   "outputs": [],
   "source": [
    "df.to_excel('df_patient.xlsx')"
   ]
  },
  {
   "cell_type": "code",
   "execution_count": 42,
   "id": "efb27e46",
   "metadata": {},
   "outputs": [],
   "source": [
    "df.to_csv('df_patient.csv')"
   ]
  },
  {
   "cell_type": "code",
   "execution_count": 43,
   "id": "b0954868",
   "metadata": {},
   "outputs": [],
   "source": [
    "df.to_json('df_patient.json')"
   ]
  },
  {
   "cell_type": "markdown",
   "id": "e4f8d523",
   "metadata": {},
   "source": [
    "### 하나의 엑셀파일에 여러개 시트 만들기"
   ]
  },
  {
   "cell_type": "code",
   "execution_count": 44,
   "id": "58ac08c1",
   "metadata": {},
   "outputs": [],
   "source": [
    "bio_data = {'성명':['이겨레','조약돌'],\n",
    "           '나이':[25,19],'성별':['남','여'],\n",
    "           '키':[185,163],'체중':[89,53]}\n",
    "pulse_data = {'환자코드':['A00301','D00809'],\n",
    "             '수축기':[123,118],'이완기':[89,79]}"
   ]
  },
  {
   "cell_type": "code",
   "execution_count": 45,
   "id": "b0cf153e",
   "metadata": {},
   "outputs": [
    {
     "data": {
      "text/html": [
       "<div>\n",
       "<style scoped>\n",
       "    .dataframe tbody tr th:only-of-type {\n",
       "        vertical-align: middle;\n",
       "    }\n",
       "\n",
       "    .dataframe tbody tr th {\n",
       "        vertical-align: top;\n",
       "    }\n",
       "\n",
       "    .dataframe thead th {\n",
       "        text-align: right;\n",
       "    }\n",
       "</style>\n",
       "<table border=\"1\" class=\"dataframe\">\n",
       "  <thead>\n",
       "    <tr style=\"text-align: right;\">\n",
       "      <th></th>\n",
       "      <th>나이</th>\n",
       "      <th>성별</th>\n",
       "      <th>키</th>\n",
       "      <th>체중</th>\n",
       "    </tr>\n",
       "    <tr>\n",
       "      <th>성명</th>\n",
       "      <th></th>\n",
       "      <th></th>\n",
       "      <th></th>\n",
       "      <th></th>\n",
       "    </tr>\n",
       "  </thead>\n",
       "  <tbody>\n",
       "    <tr>\n",
       "      <th>이겨레</th>\n",
       "      <td>25</td>\n",
       "      <td>남</td>\n",
       "      <td>185</td>\n",
       "      <td>89</td>\n",
       "    </tr>\n",
       "    <tr>\n",
       "      <th>조약돌</th>\n",
       "      <td>19</td>\n",
       "      <td>여</td>\n",
       "      <td>163</td>\n",
       "      <td>53</td>\n",
       "    </tr>\n",
       "  </tbody>\n",
       "</table>\n",
       "</div>"
      ],
      "text/plain": [
       "     나이 성별    키  체중\n",
       "성명                 \n",
       "이겨레  25  남  185  89\n",
       "조약돌  19  여  163  53"
      ]
     },
     "execution_count": 45,
     "metadata": {},
     "output_type": "execute_result"
    }
   ],
   "source": [
    "df1 = pd.DataFrame(bio_data)\n",
    "df1.set_index('성명',inplace=True)\n",
    "df1"
   ]
  },
  {
   "cell_type": "code",
   "execution_count": 46,
   "id": "7ef7fed8",
   "metadata": {},
   "outputs": [
    {
     "data": {
      "text/html": [
       "<div>\n",
       "<style scoped>\n",
       "    .dataframe tbody tr th:only-of-type {\n",
       "        vertical-align: middle;\n",
       "    }\n",
       "\n",
       "    .dataframe tbody tr th {\n",
       "        vertical-align: top;\n",
       "    }\n",
       "\n",
       "    .dataframe thead th {\n",
       "        text-align: right;\n",
       "    }\n",
       "</style>\n",
       "<table border=\"1\" class=\"dataframe\">\n",
       "  <thead>\n",
       "    <tr style=\"text-align: right;\">\n",
       "      <th></th>\n",
       "      <th>수축기</th>\n",
       "      <th>이완기</th>\n",
       "    </tr>\n",
       "    <tr>\n",
       "      <th>환자코드</th>\n",
       "      <th></th>\n",
       "      <th></th>\n",
       "    </tr>\n",
       "  </thead>\n",
       "  <tbody>\n",
       "    <tr>\n",
       "      <th>A00301</th>\n",
       "      <td>123</td>\n",
       "      <td>89</td>\n",
       "    </tr>\n",
       "    <tr>\n",
       "      <th>D00809</th>\n",
       "      <td>118</td>\n",
       "      <td>79</td>\n",
       "    </tr>\n",
       "  </tbody>\n",
       "</table>\n",
       "</div>"
      ],
      "text/plain": [
       "        수축기  이완기\n",
       "환자코드            \n",
       "A00301  123   89\n",
       "D00809  118   79"
      ]
     },
     "execution_count": 46,
     "metadata": {},
     "output_type": "execute_result"
    }
   ],
   "source": [
    "df2 = pd.DataFrame(pulse_data)\n",
    "df2.set_index('환자코드',inplace=True)\n",
    "df2"
   ]
  },
  {
   "cell_type": "code",
   "execution_count": 48,
   "id": "6d628a4d",
   "metadata": {},
   "outputs": [],
   "source": [
    "d_save = pd.ExcelWriter('df_blood.xlsx')\n",
    "df1.to_excel(d_save,sheet_name='생체 데이터') # 첫 번째 엑셀 시트에 저장\n",
    "df2.to_excel(d_save,sheet_name='혈압 데이터') # 두 번째 엑셀 시트에 저장\n",
    "d_save.save()"
   ]
  },
  {
   "cell_type": "markdown",
   "id": "5475e717",
   "metadata": {},
   "source": [
    "### 미니 프로젝트 1"
   ]
  },
  {
   "cell_type": "code",
   "execution_count": 56,
   "id": "c7cb84a1",
   "metadata": {},
   "outputs": [
    {
     "data": {
      "text/html": [
       "<div>\n",
       "<style scoped>\n",
       "    .dataframe tbody tr th:only-of-type {\n",
       "        vertical-align: middle;\n",
       "    }\n",
       "\n",
       "    .dataframe tbody tr th {\n",
       "        vertical-align: top;\n",
       "    }\n",
       "\n",
       "    .dataframe thead th {\n",
       "        text-align: right;\n",
       "    }\n",
       "</style>\n",
       "<table border=\"1\" class=\"dataframe\">\n",
       "  <thead>\n",
       "    <tr style=\"text-align: right;\">\n",
       "      <th></th>\n",
       "      <th>도시명</th>\n",
       "      <th>1/4분기</th>\n",
       "      <th>2/4분기</th>\n",
       "      <th>3/4분기</th>\n",
       "      <th>4/4분기</th>\n",
       "    </tr>\n",
       "  </thead>\n",
       "  <tbody>\n",
       "    <tr>\n",
       "      <th>0</th>\n",
       "      <td>서울</td>\n",
       "      <td>785</td>\n",
       "      <td>693</td>\n",
       "      <td>885</td>\n",
       "      <td>697</td>\n",
       "    </tr>\n",
       "    <tr>\n",
       "      <th>1</th>\n",
       "      <td>런던</td>\n",
       "      <td>543</td>\n",
       "      <td>608</td>\n",
       "      <td>724</td>\n",
       "      <td>815</td>\n",
       "    </tr>\n",
       "  </tbody>\n",
       "</table>\n",
       "</div>"
      ],
      "text/plain": [
       "  도시명  1/4분기  2/4분기  3/4분기  4/4분기\n",
       "0  서울    785    693    885    697\n",
       "1  런던    543    608    724    815"
      ]
     },
     "execution_count": 56,
     "metadata": {},
     "output_type": "execute_result"
    }
   ],
   "source": [
    "df = pd.DataFrame([['서울',785,693,885,697],\n",
    "                   ['런던',543,608,724,815]],\n",
    "                  columns=['도시명','1/4분기','2/4분기','3/4분기','4/4분기']\n",
    "                 )\n",
    "df"
   ]
  },
  {
   "cell_type": "code",
   "execution_count": 51,
   "id": "82684dd7",
   "metadata": {},
   "outputs": [],
   "source": [
    "df.to_excel('df_cp0901.xlsx')"
   ]
  },
  {
   "cell_type": "code",
   "execution_count": 52,
   "id": "b3c0bb25",
   "metadata": {},
   "outputs": [],
   "source": [
    "df.to_csv('df_cp0901.csv')"
   ]
  },
  {
   "cell_type": "code",
   "execution_count": 53,
   "id": "e71038b2",
   "metadata": {},
   "outputs": [],
   "source": [
    "df.to_json('df_cp0901.json')"
   ]
  },
  {
   "cell_type": "markdown",
   "id": "43acfecd",
   "metadata": {},
   "source": [
    "### 파일 읽기"
   ]
  },
  {
   "cell_type": "code",
   "execution_count": 57,
   "id": "17647eb5",
   "metadata": {},
   "outputs": [
    {
     "data": {
      "text/html": [
       "<div>\n",
       "<style scoped>\n",
       "    .dataframe tbody tr th:only-of-type {\n",
       "        vertical-align: middle;\n",
       "    }\n",
       "\n",
       "    .dataframe tbody tr th {\n",
       "        vertical-align: top;\n",
       "    }\n",
       "\n",
       "    .dataframe thead th {\n",
       "        text-align: right;\n",
       "    }\n",
       "</style>\n",
       "<table border=\"1\" class=\"dataframe\">\n",
       "  <thead>\n",
       "    <tr style=\"text-align: right;\">\n",
       "      <th></th>\n",
       "      <th>코드번호</th>\n",
       "      <th>성별</th>\n",
       "      <th>키</th>\n",
       "      <th>체중</th>\n",
       "      <th>BMI</th>\n",
       "      <th>수축기</th>\n",
       "      <th>이완기</th>\n",
       "    </tr>\n",
       "  </thead>\n",
       "  <tbody>\n",
       "    <tr>\n",
       "      <th>0</th>\n",
       "      <td>33001</td>\n",
       "      <td>남</td>\n",
       "      <td>175</td>\n",
       "      <td>65</td>\n",
       "      <td>21.22</td>\n",
       "      <td>143</td>\n",
       "      <td>110</td>\n",
       "    </tr>\n",
       "    <tr>\n",
       "      <th>1</th>\n",
       "      <td>34037</td>\n",
       "      <td>여</td>\n",
       "      <td>165</td>\n",
       "      <td>52</td>\n",
       "      <td>19.10</td>\n",
       "      <td>119</td>\n",
       "      <td>78</td>\n",
       "    </tr>\n",
       "    <tr>\n",
       "      <th>2</th>\n",
       "      <td>35123</td>\n",
       "      <td>여</td>\n",
       "      <td>159</td>\n",
       "      <td>67</td>\n",
       "      <td>26.50</td>\n",
       "      <td>130</td>\n",
       "      <td>83</td>\n",
       "    </tr>\n",
       "  </tbody>\n",
       "</table>\n",
       "</div>"
      ],
      "text/plain": [
       "    코드번호 성별    키  체중    BMI  수축기  이완기\n",
       "0  33001  남  175  65  21.22  143  110\n",
       "1  34037  여  165  52  19.10  119   78\n",
       "2  35123  여  159  67  26.50  130   83"
      ]
     },
     "execution_count": 57,
     "metadata": {},
     "output_type": "execute_result"
    }
   ],
   "source": [
    "data = 'health_data.xlsx'\n",
    "df1_01 = pd.read_excel(data)\n",
    "df1_02 = pd.read_excel(data,header=None)\n",
    "df1_01"
   ]
  },
  {
   "cell_type": "code",
   "execution_count": 58,
   "id": "28323e67",
   "metadata": {},
   "outputs": [
    {
     "data": {
      "text/html": [
       "<div>\n",
       "<style scoped>\n",
       "    .dataframe tbody tr th:only-of-type {\n",
       "        vertical-align: middle;\n",
       "    }\n",
       "\n",
       "    .dataframe tbody tr th {\n",
       "        vertical-align: top;\n",
       "    }\n",
       "\n",
       "    .dataframe thead th {\n",
       "        text-align: right;\n",
       "    }\n",
       "</style>\n",
       "<table border=\"1\" class=\"dataframe\">\n",
       "  <thead>\n",
       "    <tr style=\"text-align: right;\">\n",
       "      <th></th>\n",
       "      <th>0</th>\n",
       "      <th>1</th>\n",
       "      <th>2</th>\n",
       "      <th>3</th>\n",
       "      <th>4</th>\n",
       "      <th>5</th>\n",
       "      <th>6</th>\n",
       "    </tr>\n",
       "  </thead>\n",
       "  <tbody>\n",
       "    <tr>\n",
       "      <th>0</th>\n",
       "      <td>코드번호</td>\n",
       "      <td>성별</td>\n",
       "      <td>키</td>\n",
       "      <td>체중</td>\n",
       "      <td>BMI</td>\n",
       "      <td>수축기</td>\n",
       "      <td>이완기</td>\n",
       "    </tr>\n",
       "    <tr>\n",
       "      <th>1</th>\n",
       "      <td>33001</td>\n",
       "      <td>남</td>\n",
       "      <td>175</td>\n",
       "      <td>65</td>\n",
       "      <td>21.22</td>\n",
       "      <td>143</td>\n",
       "      <td>110</td>\n",
       "    </tr>\n",
       "    <tr>\n",
       "      <th>2</th>\n",
       "      <td>34037</td>\n",
       "      <td>여</td>\n",
       "      <td>165</td>\n",
       "      <td>52</td>\n",
       "      <td>19.1</td>\n",
       "      <td>119</td>\n",
       "      <td>78</td>\n",
       "    </tr>\n",
       "    <tr>\n",
       "      <th>3</th>\n",
       "      <td>35123</td>\n",
       "      <td>여</td>\n",
       "      <td>159</td>\n",
       "      <td>67</td>\n",
       "      <td>26.5</td>\n",
       "      <td>130</td>\n",
       "      <td>83</td>\n",
       "    </tr>\n",
       "  </tbody>\n",
       "</table>\n",
       "</div>"
      ],
      "text/plain": [
       "       0   1    2   3      4    5    6\n",
       "0   코드번호  성별    키  체중    BMI  수축기  이완기\n",
       "1  33001   남  175  65  21.22  143  110\n",
       "2  34037   여  165  52   19.1  119   78\n",
       "3  35123   여  159  67   26.5  130   83"
      ]
     },
     "execution_count": 58,
     "metadata": {},
     "output_type": "execute_result"
    }
   ],
   "source": [
    "df1_02"
   ]
  },
  {
   "cell_type": "code",
   "execution_count": 61,
   "id": "35ca9831",
   "metadata": {},
   "outputs": [
    {
     "data": {
      "text/html": [
       "<div>\n",
       "<style scoped>\n",
       "    .dataframe tbody tr th:only-of-type {\n",
       "        vertical-align: middle;\n",
       "    }\n",
       "\n",
       "    .dataframe tbody tr th {\n",
       "        vertical-align: top;\n",
       "    }\n",
       "\n",
       "    .dataframe thead th {\n",
       "        text-align: right;\n",
       "    }\n",
       "</style>\n",
       "<table border=\"1\" class=\"dataframe\">\n",
       "  <thead>\n",
       "    <tr style=\"text-align: right;\">\n",
       "      <th></th>\n",
       "      <th>코드번호</th>\n",
       "      <th>성별</th>\n",
       "      <th>키</th>\n",
       "      <th>체중</th>\n",
       "      <th>BMI</th>\n",
       "      <th>수축기</th>\n",
       "      <th>이완기</th>\n",
       "    </tr>\n",
       "  </thead>\n",
       "  <tbody>\n",
       "    <tr>\n",
       "      <th>0</th>\n",
       "      <td>33001</td>\n",
       "      <td>남</td>\n",
       "      <td>175</td>\n",
       "      <td>65</td>\n",
       "      <td>21.22</td>\n",
       "      <td>143</td>\n",
       "      <td>110</td>\n",
       "    </tr>\n",
       "    <tr>\n",
       "      <th>1</th>\n",
       "      <td>34037</td>\n",
       "      <td>여</td>\n",
       "      <td>165</td>\n",
       "      <td>52</td>\n",
       "      <td>19.10</td>\n",
       "      <td>119</td>\n",
       "      <td>78</td>\n",
       "    </tr>\n",
       "    <tr>\n",
       "      <th>2</th>\n",
       "      <td>35123</td>\n",
       "      <td>여</td>\n",
       "      <td>159</td>\n",
       "      <td>67</td>\n",
       "      <td>26.50</td>\n",
       "      <td>130</td>\n",
       "      <td>83</td>\n",
       "    </tr>\n",
       "  </tbody>\n",
       "</table>\n",
       "</div>"
      ],
      "text/plain": [
       "    코드번호 성별    키  체중    BMI  수축기  이완기\n",
       "0  33001  남  175  65  21.22  143  110\n",
       "1  34037  여  165  52  19.10  119   78\n",
       "2  35123  여  159  67  26.50  130   83"
      ]
     },
     "execution_count": 61,
     "metadata": {},
     "output_type": "execute_result"
    }
   ],
   "source": [
    "data = 'health_data_01.csv'\n",
    "df1_01 = pd.read_csv(data, encoding='cp949')\n",
    "df1_01"
   ]
  },
  {
   "cell_type": "code",
   "execution_count": 63,
   "id": "cc8dec8e",
   "metadata": {},
   "outputs": [
    {
     "data": {
      "text/html": [
       "<div>\n",
       "<style scoped>\n",
       "    .dataframe tbody tr th:only-of-type {\n",
       "        vertical-align: middle;\n",
       "    }\n",
       "\n",
       "    .dataframe tbody tr th {\n",
       "        vertical-align: top;\n",
       "    }\n",
       "\n",
       "    .dataframe thead th {\n",
       "        text-align: right;\n",
       "    }\n",
       "</style>\n",
       "<table border=\"1\" class=\"dataframe\">\n",
       "  <thead>\n",
       "    <tr style=\"text-align: right;\">\n",
       "      <th></th>\n",
       "      <th>코드번호</th>\n",
       "      <th>성별</th>\n",
       "      <th>키</th>\n",
       "      <th>체중</th>\n",
       "      <th>BMI</th>\n",
       "      <th>수축기</th>\n",
       "      <th>이완기</th>\n",
       "    </tr>\n",
       "  </thead>\n",
       "  <tbody>\n",
       "    <tr>\n",
       "      <th>0</th>\n",
       "      <td>33001</td>\n",
       "      <td>남</td>\n",
       "      <td>175</td>\n",
       "      <td>65</td>\n",
       "      <td>21.22</td>\n",
       "      <td>143</td>\n",
       "      <td>110</td>\n",
       "    </tr>\n",
       "    <tr>\n",
       "      <th>1</th>\n",
       "      <td>34037</td>\n",
       "      <td>여</td>\n",
       "      <td>165</td>\n",
       "      <td>52</td>\n",
       "      <td>19.10</td>\n",
       "      <td>119</td>\n",
       "      <td>78</td>\n",
       "    </tr>\n",
       "    <tr>\n",
       "      <th>2</th>\n",
       "      <td>35123</td>\n",
       "      <td>여</td>\n",
       "      <td>159</td>\n",
       "      <td>67</td>\n",
       "      <td>26.50</td>\n",
       "      <td>130</td>\n",
       "      <td>83</td>\n",
       "    </tr>\n",
       "  </tbody>\n",
       "</table>\n",
       "</div>"
      ],
      "text/plain": [
       "    코드번호 성별    키  체중    BMI  수축기  이완기\n",
       "0  33001  남  175  65  21.22  143  110\n",
       "1  34037  여  165  52  19.10  119   78\n",
       "2  35123  여  159  67  26.50  130   83"
      ]
     },
     "execution_count": 63,
     "metadata": {},
     "output_type": "execute_result"
    }
   ],
   "source": [
    "data = 'health_data_02.csv'\n",
    "df1_02 = pd.read_csv(data)\n",
    "df1_02"
   ]
  },
  {
   "cell_type": "code",
   "execution_count": 64,
   "id": "85d5be5e",
   "metadata": {},
   "outputs": [
    {
     "data": {
      "text/html": [
       "<div>\n",
       "<style scoped>\n",
       "    .dataframe tbody tr th:only-of-type {\n",
       "        vertical-align: middle;\n",
       "    }\n",
       "\n",
       "    .dataframe tbody tr th {\n",
       "        vertical-align: top;\n",
       "    }\n",
       "\n",
       "    .dataframe thead th {\n",
       "        text-align: right;\n",
       "    }\n",
       "</style>\n",
       "<table border=\"1\" class=\"dataframe\">\n",
       "  <thead>\n",
       "    <tr style=\"text-align: right;\">\n",
       "      <th></th>\n",
       "      <th>나이</th>\n",
       "      <th>성별</th>\n",
       "      <th>키</th>\n",
       "      <th>체중</th>\n",
       "    </tr>\n",
       "  </thead>\n",
       "  <tbody>\n",
       "    <tr>\n",
       "      <th>이겨레</th>\n",
       "      <td>25</td>\n",
       "      <td>남</td>\n",
       "      <td>185</td>\n",
       "      <td>89</td>\n",
       "    </tr>\n",
       "    <tr>\n",
       "      <th>조약돌</th>\n",
       "      <td>19</td>\n",
       "      <td>여</td>\n",
       "      <td>163</td>\n",
       "      <td>53</td>\n",
       "    </tr>\n",
       "  </tbody>\n",
       "</table>\n",
       "</div>"
      ],
      "text/plain": [
       "     나이 성별    키  체중\n",
       "이겨레  25  남  185  89\n",
       "조약돌  19  여  163  53"
      ]
     },
     "execution_count": 64,
     "metadata": {},
     "output_type": "execute_result"
    }
   ],
   "source": [
    "data = 'df_patient.json'\n",
    "df = pd.read_json(data,encoding='cp949')\n",
    "df"
   ]
  },
  {
   "cell_type": "code",
   "execution_count": 104,
   "id": "be961ecb",
   "metadata": {
    "scrolled": true
   },
   "outputs": [
    {
     "data": {
      "text/html": [
       "<div>\n",
       "<style scoped>\n",
       "    .dataframe tbody tr th:only-of-type {\n",
       "        vertical-align: middle;\n",
       "    }\n",
       "\n",
       "    .dataframe tbody tr th {\n",
       "        vertical-align: top;\n",
       "    }\n",
       "\n",
       "    .dataframe thead th {\n",
       "        text-align: right;\n",
       "    }\n",
       "</style>\n",
       "<table border=\"1\" class=\"dataframe\">\n",
       "  <thead>\n",
       "    <tr style=\"text-align: right;\">\n",
       "      <th></th>\n",
       "      <th>나이</th>\n",
       "      <th>성별</th>\n",
       "      <th>키</th>\n",
       "      <th>체중</th>\n",
       "    </tr>\n",
       "    <tr>\n",
       "      <th>성명</th>\n",
       "      <th></th>\n",
       "      <th></th>\n",
       "      <th></th>\n",
       "      <th></th>\n",
       "    </tr>\n",
       "  </thead>\n",
       "  <tbody>\n",
       "    <tr>\n",
       "      <th>이겨레</th>\n",
       "      <td>25</td>\n",
       "      <td>남</td>\n",
       "      <td>185</td>\n",
       "      <td>89</td>\n",
       "    </tr>\n",
       "    <tr>\n",
       "      <th>조약돌</th>\n",
       "      <td>19</td>\n",
       "      <td>여</td>\n",
       "      <td>163</td>\n",
       "      <td>53</td>\n",
       "    </tr>\n",
       "  </tbody>\n",
       "</table>\n",
       "</div>"
      ],
      "text/plain": [
       "     나이 성별    키  체중\n",
       "성명                 \n",
       "이겨레  25  남  185  89\n",
       "조약돌  19  여  163  53"
      ]
     },
     "execution_count": 104,
     "metadata": {},
     "output_type": "execute_result"
    }
   ],
   "source": [
    "df = pd.DataFrame([['이겨레',25,'남',185,89],\n",
    "                   ['조약돌',19,'여',163,53]],\n",
    "                   columns=['성명','나이','성별','키','체중']\n",
    "                  )\n",
    "df.set_index('성명')"
   ]
  },
  {
   "cell_type": "code",
   "execution_count": 111,
   "id": "735145fc",
   "metadata": {},
   "outputs": [
    {
     "data": {
      "text/html": [
       "<div>\n",
       "<style scoped>\n",
       "    .dataframe tbody tr th:only-of-type {\n",
       "        vertical-align: middle;\n",
       "    }\n",
       "\n",
       "    .dataframe tbody tr th {\n",
       "        vertical-align: top;\n",
       "    }\n",
       "\n",
       "    .dataframe thead th {\n",
       "        text-align: right;\n",
       "    }\n",
       "</style>\n",
       "<table border=\"1\" class=\"dataframe\">\n",
       "  <thead>\n",
       "    <tr style=\"text-align: right;\">\n",
       "      <th></th>\n",
       "      <th>성명</th>\n",
       "      <th>나이</th>\n",
       "      <th>성별</th>\n",
       "      <th>키</th>\n",
       "      <th>체중</th>\n",
       "    </tr>\n",
       "  </thead>\n",
       "  <tbody>\n",
       "    <tr>\n",
       "      <th>처</th>\n",
       "      <td>이겨레</td>\n",
       "      <td>25</td>\n",
       "      <td>남</td>\n",
       "      <td>185</td>\n",
       "      <td>89</td>\n",
       "    </tr>\n",
       "    <tr>\n",
       "      <th>음</th>\n",
       "      <td>조약돌</td>\n",
       "      <td>19</td>\n",
       "      <td>여</td>\n",
       "      <td>163</td>\n",
       "      <td>53</td>\n",
       "    </tr>\n",
       "  </tbody>\n",
       "</table>\n",
       "</div>"
      ],
      "text/plain": [
       "    성명  나이 성별    키  체중\n",
       "처  이겨레  25  남  185  89\n",
       "음  조약돌  19  여  163  53"
      ]
     },
     "execution_count": 111,
     "metadata": {},
     "output_type": "execute_result"
    }
   ],
   "source": [
    "df = pd.DataFrame([['이겨레',25,'남',185,89],\n",
    "                   ['조약돌',19,'여',163,53]],\n",
    "                   index=['처','음'],\n",
    "                   columns=['성명','나이','성별','키','체중']\n",
    "                  )\n",
    "df"
   ]
  },
  {
   "cell_type": "code",
   "execution_count": 112,
   "id": "8c9a851b",
   "metadata": {},
   "outputs": [
    {
     "data": {
      "text/html": [
       "<div>\n",
       "<style scoped>\n",
       "    .dataframe tbody tr th:only-of-type {\n",
       "        vertical-align: middle;\n",
       "    }\n",
       "\n",
       "    .dataframe tbody tr th {\n",
       "        vertical-align: top;\n",
       "    }\n",
       "\n",
       "    .dataframe thead th {\n",
       "        text-align: right;\n",
       "    }\n",
       "</style>\n",
       "<table border=\"1\" class=\"dataframe\">\n",
       "  <thead>\n",
       "    <tr style=\"text-align: right;\">\n",
       "      <th></th>\n",
       "      <th>index</th>\n",
       "      <th>성명</th>\n",
       "      <th>나이</th>\n",
       "      <th>성별</th>\n",
       "      <th>키</th>\n",
       "      <th>체중</th>\n",
       "    </tr>\n",
       "  </thead>\n",
       "  <tbody>\n",
       "    <tr>\n",
       "      <th>0</th>\n",
       "      <td>처</td>\n",
       "      <td>이겨레</td>\n",
       "      <td>25</td>\n",
       "      <td>남</td>\n",
       "      <td>185</td>\n",
       "      <td>89</td>\n",
       "    </tr>\n",
       "    <tr>\n",
       "      <th>1</th>\n",
       "      <td>음</td>\n",
       "      <td>조약돌</td>\n",
       "      <td>19</td>\n",
       "      <td>여</td>\n",
       "      <td>163</td>\n",
       "      <td>53</td>\n",
       "    </tr>\n",
       "  </tbody>\n",
       "</table>\n",
       "</div>"
      ],
      "text/plain": [
       "  index   성명  나이 성별    키  체중\n",
       "0     처  이겨레  25  남  185  89\n",
       "1     음  조약돌  19  여  163  53"
      ]
     },
     "execution_count": 112,
     "metadata": {},
     "output_type": "execute_result"
    }
   ],
   "source": [
    "df.reset_index()"
   ]
  },
  {
   "cell_type": "code",
   "execution_count": 113,
   "id": "2d8a45d4",
   "metadata": {},
   "outputs": [
    {
     "data": {
      "text/html": [
       "<div>\n",
       "<style scoped>\n",
       "    .dataframe tbody tr th:only-of-type {\n",
       "        vertical-align: middle;\n",
       "    }\n",
       "\n",
       "    .dataframe tbody tr th {\n",
       "        vertical-align: top;\n",
       "    }\n",
       "\n",
       "    .dataframe thead th {\n",
       "        text-align: right;\n",
       "    }\n",
       "</style>\n",
       "<table border=\"1\" class=\"dataframe\">\n",
       "  <thead>\n",
       "    <tr style=\"text-align: right;\">\n",
       "      <th></th>\n",
       "      <th>성명</th>\n",
       "      <th>나이</th>\n",
       "      <th>성별</th>\n",
       "      <th>키</th>\n",
       "      <th>체중</th>\n",
       "    </tr>\n",
       "  </thead>\n",
       "  <tbody>\n",
       "    <tr>\n",
       "      <th>처</th>\n",
       "      <td>이겨레</td>\n",
       "      <td>25</td>\n",
       "      <td>남</td>\n",
       "      <td>185</td>\n",
       "      <td>89</td>\n",
       "    </tr>\n",
       "    <tr>\n",
       "      <th>음</th>\n",
       "      <td>조약돌</td>\n",
       "      <td>19</td>\n",
       "      <td>여</td>\n",
       "      <td>163</td>\n",
       "      <td>53</td>\n",
       "    </tr>\n",
       "  </tbody>\n",
       "</table>\n",
       "</div>"
      ],
      "text/plain": [
       "    성명  나이 성별    키  체중\n",
       "처  이겨레  25  남  185  89\n",
       "음  조약돌  19  여  163  53"
      ]
     },
     "execution_count": 113,
     "metadata": {},
     "output_type": "execute_result"
    }
   ],
   "source": [
    "df.sort_index(ascending=False)"
   ]
  },
  {
   "cell_type": "code",
   "execution_count": 114,
   "id": "c1ede481",
   "metadata": {},
   "outputs": [
    {
     "data": {
      "text/plain": [
       "(10, 9)"
      ]
     },
     "execution_count": 114,
     "metadata": {},
     "output_type": "execute_result"
    }
   ],
   "source": [
    "df = pd.read_csv('./data/member.csv')\n",
    "df.shape # 행, 렬"
   ]
  },
  {
   "cell_type": "code",
   "execution_count": 115,
   "id": "38374a55",
   "metadata": {},
   "outputs": [
    {
     "data": {
      "text/html": [
       "<div>\n",
       "<style scoped>\n",
       "    .dataframe tbody tr th:only-of-type {\n",
       "        vertical-align: middle;\n",
       "    }\n",
       "\n",
       "    .dataframe tbody tr th {\n",
       "        vertical-align: top;\n",
       "    }\n",
       "\n",
       "    .dataframe thead th {\n",
       "        text-align: right;\n",
       "    }\n",
       "</style>\n",
       "<table border=\"1\" class=\"dataframe\">\n",
       "  <thead>\n",
       "    <tr style=\"text-align: right;\">\n",
       "      <th></th>\n",
       "      <th>코드</th>\n",
       "      <th>이름</th>\n",
       "      <th>성별</th>\n",
       "      <th>연령</th>\n",
       "      <th>혈액형</th>\n",
       "      <th>키</th>\n",
       "      <th>체중</th>\n",
       "      <th>BMI</th>\n",
       "      <th>운동시작일</th>\n",
       "    </tr>\n",
       "  </thead>\n",
       "  <tbody>\n",
       "    <tr>\n",
       "      <th>0</th>\n",
       "      <td>330531</td>\n",
       "      <td>이겨레</td>\n",
       "      <td>남</td>\n",
       "      <td>26</td>\n",
       "      <td>A</td>\n",
       "      <td>181</td>\n",
       "      <td>76</td>\n",
       "      <td>23.20</td>\n",
       "      <td>2021-01-01</td>\n",
       "    </tr>\n",
       "    <tr>\n",
       "      <th>1</th>\n",
       "      <td>340037</td>\n",
       "      <td>조약돌</td>\n",
       "      <td>여</td>\n",
       "      <td>25</td>\n",
       "      <td>B</td>\n",
       "      <td>185</td>\n",
       "      <td>89</td>\n",
       "      <td>26.00</td>\n",
       "      <td>2020-12-25</td>\n",
       "    </tr>\n",
       "    <tr>\n",
       "      <th>2</th>\n",
       "      <td>194563</td>\n",
       "      <td>강산애</td>\n",
       "      <td>남</td>\n",
       "      <td>27</td>\n",
       "      <td>A</td>\n",
       "      <td>177</td>\n",
       "      <td>63</td>\n",
       "      <td>20.11</td>\n",
       "      <td>NaN</td>\n",
       "    </tr>\n",
       "    <tr>\n",
       "      <th>3</th>\n",
       "      <td>503546</td>\n",
       "      <td>원미연</td>\n",
       "      <td>여</td>\n",
       "      <td>48</td>\n",
       "      <td>O</td>\n",
       "      <td>166</td>\n",
       "      <td>55</td>\n",
       "      <td>19.96</td>\n",
       "      <td>2021-03-05</td>\n",
       "    </tr>\n",
       "    <tr>\n",
       "      <th>4</th>\n",
       "      <td>330543</td>\n",
       "      <td>오대양</td>\n",
       "      <td>남</td>\n",
       "      <td>31</td>\n",
       "      <td>AB</td>\n",
       "      <td>193</td>\n",
       "      <td>95</td>\n",
       "      <td>25.50</td>\n",
       "      <td>NaN</td>\n",
       "    </tr>\n",
       "    <tr>\n",
       "      <th>5</th>\n",
       "      <td>341257</td>\n",
       "      <td>송가인</td>\n",
       "      <td>여</td>\n",
       "      <td>45</td>\n",
       "      <td>O</td>\n",
       "      <td>157</td>\n",
       "      <td>48</td>\n",
       "      <td>19.47</td>\n",
       "      <td>NaN</td>\n",
       "    </tr>\n",
       "    <tr>\n",
       "      <th>6</th>\n",
       "      <td>472358</td>\n",
       "      <td>성공찬</td>\n",
       "      <td>여</td>\n",
       "      <td>53</td>\n",
       "      <td>B</td>\n",
       "      <td>159</td>\n",
       "      <td>50</td>\n",
       "      <td>19.78</td>\n",
       "      <td>1997-10-24</td>\n",
       "    </tr>\n",
       "    <tr>\n",
       "      <th>7</th>\n",
       "      <td>185823</td>\n",
       "      <td>황산성</td>\n",
       "      <td>남</td>\n",
       "      <td>52</td>\n",
       "      <td>B</td>\n",
       "      <td>178</td>\n",
       "      <td>87</td>\n",
       "      <td>27.46</td>\n",
       "      <td>NaN</td>\n",
       "    </tr>\n",
       "    <tr>\n",
       "      <th>8</th>\n",
       "      <td>232305</td>\n",
       "      <td>신영웅</td>\n",
       "      <td>남</td>\n",
       "      <td>19</td>\n",
       "      <td>AB</td>\n",
       "      <td>163</td>\n",
       "      <td>53</td>\n",
       "      <td>19.95</td>\n",
       "      <td>2021-05-08</td>\n",
       "    </tr>\n",
       "    <tr>\n",
       "      <th>9</th>\n",
       "      <td>489602</td>\n",
       "      <td>최고봉</td>\n",
       "      <td>남</td>\n",
       "      <td>64</td>\n",
       "      <td>A</td>\n",
       "      <td>168</td>\n",
       "      <td>57</td>\n",
       "      <td>20.20</td>\n",
       "      <td>1988-08-15</td>\n",
       "    </tr>\n",
       "  </tbody>\n",
       "</table>\n",
       "</div>"
      ],
      "text/plain": [
       "       코드   이름 성별  연령 혈액형    키  체중    BMI       운동시작일\n",
       "0  330531  이겨레  남  26   A  181  76  23.20  2021-01-01\n",
       "1  340037  조약돌  여  25   B  185  89  26.00  2020-12-25\n",
       "2  194563  강산애  남  27   A  177  63  20.11         NaN\n",
       "3  503546  원미연  여  48   O  166  55  19.96  2021-03-05\n",
       "4  330543  오대양  남  31  AB  193  95  25.50         NaN\n",
       "5  341257  송가인  여  45   O  157  48  19.47         NaN\n",
       "6  472358  성공찬  여  53   B  159  50  19.78  1997-10-24\n",
       "7  185823  황산성  남  52   B  178  87  27.46         NaN\n",
       "8  232305  신영웅  남  19  AB  163  53  19.95  2021-05-08\n",
       "9  489602  최고봉  남  64   A  168  57  20.20  1988-08-15"
      ]
     },
     "execution_count": 115,
     "metadata": {},
     "output_type": "execute_result"
    }
   ],
   "source": [
    "df"
   ]
  },
  {
   "cell_type": "code",
   "execution_count": 116,
   "id": "2e85f9a8",
   "metadata": {},
   "outputs": [
    {
     "data": {
      "text/html": [
       "<div>\n",
       "<style scoped>\n",
       "    .dataframe tbody tr th:only-of-type {\n",
       "        vertical-align: middle;\n",
       "    }\n",
       "\n",
       "    .dataframe tbody tr th {\n",
       "        vertical-align: top;\n",
       "    }\n",
       "\n",
       "    .dataframe thead th {\n",
       "        text-align: right;\n",
       "    }\n",
       "</style>\n",
       "<table border=\"1\" class=\"dataframe\">\n",
       "  <thead>\n",
       "    <tr style=\"text-align: right;\">\n",
       "      <th></th>\n",
       "      <th>코드</th>\n",
       "      <th>이름</th>\n",
       "      <th>성별</th>\n",
       "      <th>연령</th>\n",
       "      <th>혈액형</th>\n",
       "      <th>키</th>\n",
       "      <th>체중</th>\n",
       "      <th>BMI</th>\n",
       "      <th>운동시작일</th>\n",
       "    </tr>\n",
       "  </thead>\n",
       "  <tbody>\n",
       "    <tr>\n",
       "      <th>0</th>\n",
       "      <td>330531</td>\n",
       "      <td>이겨레</td>\n",
       "      <td>남</td>\n",
       "      <td>26</td>\n",
       "      <td>A</td>\n",
       "      <td>181</td>\n",
       "      <td>76</td>\n",
       "      <td>23.2</td>\n",
       "      <td>2021-01-01</td>\n",
       "    </tr>\n",
       "    <tr>\n",
       "      <th>1</th>\n",
       "      <td>340037</td>\n",
       "      <td>조약돌</td>\n",
       "      <td>여</td>\n",
       "      <td>25</td>\n",
       "      <td>B</td>\n",
       "      <td>185</td>\n",
       "      <td>89</td>\n",
       "      <td>26.0</td>\n",
       "      <td>2020-12-25</td>\n",
       "    </tr>\n",
       "  </tbody>\n",
       "</table>\n",
       "</div>"
      ],
      "text/plain": [
       "       코드   이름 성별  연령 혈액형    키  체중   BMI       운동시작일\n",
       "0  330531  이겨레  남  26   A  181  76  23.2  2021-01-01\n",
       "1  340037  조약돌  여  25   B  185  89  26.0  2020-12-25"
      ]
     },
     "execution_count": 116,
     "metadata": {},
     "output_type": "execute_result"
    }
   ],
   "source": [
    "df.head(2)"
   ]
  },
  {
   "cell_type": "code",
   "execution_count": 117,
   "id": "eae0d06c",
   "metadata": {},
   "outputs": [
    {
     "data": {
      "text/html": [
       "<div>\n",
       "<style scoped>\n",
       "    .dataframe tbody tr th:only-of-type {\n",
       "        vertical-align: middle;\n",
       "    }\n",
       "\n",
       "    .dataframe tbody tr th {\n",
       "        vertical-align: top;\n",
       "    }\n",
       "\n",
       "    .dataframe thead th {\n",
       "        text-align: right;\n",
       "    }\n",
       "</style>\n",
       "<table border=\"1\" class=\"dataframe\">\n",
       "  <thead>\n",
       "    <tr style=\"text-align: right;\">\n",
       "      <th></th>\n",
       "      <th>코드</th>\n",
       "      <th>이름</th>\n",
       "      <th>성별</th>\n",
       "      <th>연령</th>\n",
       "      <th>혈액형</th>\n",
       "      <th>키</th>\n",
       "      <th>체중</th>\n",
       "      <th>BMI</th>\n",
       "      <th>운동시작일</th>\n",
       "    </tr>\n",
       "  </thead>\n",
       "  <tbody>\n",
       "    <tr>\n",
       "      <th>5</th>\n",
       "      <td>341257</td>\n",
       "      <td>송가인</td>\n",
       "      <td>여</td>\n",
       "      <td>45</td>\n",
       "      <td>O</td>\n",
       "      <td>157</td>\n",
       "      <td>48</td>\n",
       "      <td>19.47</td>\n",
       "      <td>NaN</td>\n",
       "    </tr>\n",
       "    <tr>\n",
       "      <th>6</th>\n",
       "      <td>472358</td>\n",
       "      <td>성공찬</td>\n",
       "      <td>여</td>\n",
       "      <td>53</td>\n",
       "      <td>B</td>\n",
       "      <td>159</td>\n",
       "      <td>50</td>\n",
       "      <td>19.78</td>\n",
       "      <td>1997-10-24</td>\n",
       "    </tr>\n",
       "    <tr>\n",
       "      <th>7</th>\n",
       "      <td>185823</td>\n",
       "      <td>황산성</td>\n",
       "      <td>남</td>\n",
       "      <td>52</td>\n",
       "      <td>B</td>\n",
       "      <td>178</td>\n",
       "      <td>87</td>\n",
       "      <td>27.46</td>\n",
       "      <td>NaN</td>\n",
       "    </tr>\n",
       "    <tr>\n",
       "      <th>8</th>\n",
       "      <td>232305</td>\n",
       "      <td>신영웅</td>\n",
       "      <td>남</td>\n",
       "      <td>19</td>\n",
       "      <td>AB</td>\n",
       "      <td>163</td>\n",
       "      <td>53</td>\n",
       "      <td>19.95</td>\n",
       "      <td>2021-05-08</td>\n",
       "    </tr>\n",
       "    <tr>\n",
       "      <th>9</th>\n",
       "      <td>489602</td>\n",
       "      <td>최고봉</td>\n",
       "      <td>남</td>\n",
       "      <td>64</td>\n",
       "      <td>A</td>\n",
       "      <td>168</td>\n",
       "      <td>57</td>\n",
       "      <td>20.20</td>\n",
       "      <td>1988-08-15</td>\n",
       "    </tr>\n",
       "  </tbody>\n",
       "</table>\n",
       "</div>"
      ],
      "text/plain": [
       "       코드   이름 성별  연령 혈액형    키  체중    BMI       운동시작일\n",
       "5  341257  송가인  여  45   O  157  48  19.47         NaN\n",
       "6  472358  성공찬  여  53   B  159  50  19.78  1997-10-24\n",
       "7  185823  황산성  남  52   B  178  87  27.46         NaN\n",
       "8  232305  신영웅  남  19  AB  163  53  19.95  2021-05-08\n",
       "9  489602  최고봉  남  64   A  168  57  20.20  1988-08-15"
      ]
     },
     "execution_count": 117,
     "metadata": {},
     "output_type": "execute_result"
    }
   ],
   "source": [
    "df.tail()"
   ]
  },
  {
   "cell_type": "code",
   "execution_count": 118,
   "id": "6b8cdb40",
   "metadata": {},
   "outputs": [
    {
     "data": {
      "text/plain": [
       "dtype('O')"
      ]
     },
     "execution_count": 118,
     "metadata": {},
     "output_type": "execute_result"
    }
   ],
   "source": [
    "df.이름.dtypes"
   ]
  },
  {
   "cell_type": "code",
   "execution_count": 119,
   "id": "1fc5d373",
   "metadata": {},
   "outputs": [
    {
     "data": {
      "text/plain": [
       "dtype('int64')"
      ]
     },
     "execution_count": 119,
     "metadata": {},
     "output_type": "execute_result"
    }
   ],
   "source": [
    "df.연령.dtypes"
   ]
  },
  {
   "cell_type": "code",
   "execution_count": 120,
   "id": "0aded492",
   "metadata": {},
   "outputs": [
    {
     "data": {
      "text/plain": [
       "dtype('float64')"
      ]
     },
     "execution_count": 120,
     "metadata": {},
     "output_type": "execute_result"
    }
   ],
   "source": [
    "df.BMI.dtypes"
   ]
  },
  {
   "cell_type": "code",
   "execution_count": 121,
   "id": "e56df226",
   "metadata": {},
   "outputs": [
    {
     "data": {
      "text/html": [
       "<div>\n",
       "<style scoped>\n",
       "    .dataframe tbody tr th:only-of-type {\n",
       "        vertical-align: middle;\n",
       "    }\n",
       "\n",
       "    .dataframe tbody tr th {\n",
       "        vertical-align: top;\n",
       "    }\n",
       "\n",
       "    .dataframe thead th {\n",
       "        text-align: right;\n",
       "    }\n",
       "</style>\n",
       "<table border=\"1\" class=\"dataframe\">\n",
       "  <thead>\n",
       "    <tr style=\"text-align: right;\">\n",
       "      <th></th>\n",
       "      <th>코드</th>\n",
       "      <th>연령</th>\n",
       "      <th>키</th>\n",
       "      <th>체중</th>\n",
       "      <th>BMI</th>\n",
       "    </tr>\n",
       "  </thead>\n",
       "  <tbody>\n",
       "    <tr>\n",
       "      <th>count</th>\n",
       "      <td>10.000000</td>\n",
       "      <td>10.000000</td>\n",
       "      <td>10.000000</td>\n",
       "      <td>10.000000</td>\n",
       "      <td>10.000000</td>\n",
       "    </tr>\n",
       "    <tr>\n",
       "      <th>mean</th>\n",
       "      <td>342056.500000</td>\n",
       "      <td>39.000000</td>\n",
       "      <td>172.700000</td>\n",
       "      <td>67.300000</td>\n",
       "      <td>22.163000</td>\n",
       "    </tr>\n",
       "    <tr>\n",
       "      <th>std</th>\n",
       "      <td>117049.733168</td>\n",
       "      <td>15.202339</td>\n",
       "      <td>11.898179</td>\n",
       "      <td>17.807926</td>\n",
       "      <td>3.086555</td>\n",
       "    </tr>\n",
       "    <tr>\n",
       "      <th>min</th>\n",
       "      <td>185823.000000</td>\n",
       "      <td>19.000000</td>\n",
       "      <td>157.000000</td>\n",
       "      <td>48.000000</td>\n",
       "      <td>19.470000</td>\n",
       "    </tr>\n",
       "    <tr>\n",
       "      <th>25%</th>\n",
       "      <td>256861.500000</td>\n",
       "      <td>26.250000</td>\n",
       "      <td>163.750000</td>\n",
       "      <td>53.500000</td>\n",
       "      <td>19.952500</td>\n",
       "    </tr>\n",
       "    <tr>\n",
       "      <th>50%</th>\n",
       "      <td>335290.000000</td>\n",
       "      <td>38.000000</td>\n",
       "      <td>172.500000</td>\n",
       "      <td>60.000000</td>\n",
       "      <td>20.155000</td>\n",
       "    </tr>\n",
       "    <tr>\n",
       "      <th>75%</th>\n",
       "      <td>439582.750000</td>\n",
       "      <td>51.000000</td>\n",
       "      <td>180.250000</td>\n",
       "      <td>84.250000</td>\n",
       "      <td>24.925000</td>\n",
       "    </tr>\n",
       "    <tr>\n",
       "      <th>max</th>\n",
       "      <td>503546.000000</td>\n",
       "      <td>64.000000</td>\n",
       "      <td>193.000000</td>\n",
       "      <td>95.000000</td>\n",
       "      <td>27.460000</td>\n",
       "    </tr>\n",
       "  </tbody>\n",
       "</table>\n",
       "</div>"
      ],
      "text/plain": [
       "                  코드         연령           키         체중        BMI\n",
       "count      10.000000  10.000000   10.000000  10.000000  10.000000\n",
       "mean   342056.500000  39.000000  172.700000  67.300000  22.163000\n",
       "std    117049.733168  15.202339   11.898179  17.807926   3.086555\n",
       "min    185823.000000  19.000000  157.000000  48.000000  19.470000\n",
       "25%    256861.500000  26.250000  163.750000  53.500000  19.952500\n",
       "50%    335290.000000  38.000000  172.500000  60.000000  20.155000\n",
       "75%    439582.750000  51.000000  180.250000  84.250000  24.925000\n",
       "max    503546.000000  64.000000  193.000000  95.000000  27.460000"
      ]
     },
     "execution_count": 121,
     "metadata": {},
     "output_type": "execute_result"
    }
   ],
   "source": [
    "df.describe() # 산술 데이터에 대해서만 기술 통계 정보 출력\n",
    "# count : 열데이터의 개수\n",
    "# mean : 평균값\n",
    "# std : 표준 편차\n",
    "# 25% : 최소와 중간의 사잇값"
   ]
  },
  {
   "cell_type": "code",
   "execution_count": 122,
   "id": "9eefdfdb",
   "metadata": {
    "scrolled": true
   },
   "outputs": [
    {
     "data": {
      "text/html": [
       "<div>\n",
       "<style scoped>\n",
       "    .dataframe tbody tr th:only-of-type {\n",
       "        vertical-align: middle;\n",
       "    }\n",
       "\n",
       "    .dataframe tbody tr th {\n",
       "        vertical-align: top;\n",
       "    }\n",
       "\n",
       "    .dataframe thead th {\n",
       "        text-align: right;\n",
       "    }\n",
       "</style>\n",
       "<table border=\"1\" class=\"dataframe\">\n",
       "  <thead>\n",
       "    <tr style=\"text-align: right;\">\n",
       "      <th></th>\n",
       "      <th>코드</th>\n",
       "      <th>이름</th>\n",
       "      <th>성별</th>\n",
       "      <th>연령</th>\n",
       "      <th>혈액형</th>\n",
       "      <th>키</th>\n",
       "      <th>체중</th>\n",
       "      <th>BMI</th>\n",
       "      <th>운동시작일</th>\n",
       "    </tr>\n",
       "  </thead>\n",
       "  <tbody>\n",
       "    <tr>\n",
       "      <th>count</th>\n",
       "      <td>10.000000</td>\n",
       "      <td>10</td>\n",
       "      <td>10</td>\n",
       "      <td>10.000000</td>\n",
       "      <td>10</td>\n",
       "      <td>10.000000</td>\n",
       "      <td>10.000000</td>\n",
       "      <td>10.000000</td>\n",
       "      <td>6</td>\n",
       "    </tr>\n",
       "    <tr>\n",
       "      <th>unique</th>\n",
       "      <td>NaN</td>\n",
       "      <td>10</td>\n",
       "      <td>2</td>\n",
       "      <td>NaN</td>\n",
       "      <td>4</td>\n",
       "      <td>NaN</td>\n",
       "      <td>NaN</td>\n",
       "      <td>NaN</td>\n",
       "      <td>6</td>\n",
       "    </tr>\n",
       "    <tr>\n",
       "      <th>top</th>\n",
       "      <td>NaN</td>\n",
       "      <td>신영웅</td>\n",
       "      <td>남</td>\n",
       "      <td>NaN</td>\n",
       "      <td>B</td>\n",
       "      <td>NaN</td>\n",
       "      <td>NaN</td>\n",
       "      <td>NaN</td>\n",
       "      <td>2021-05-08</td>\n",
       "    </tr>\n",
       "    <tr>\n",
       "      <th>freq</th>\n",
       "      <td>NaN</td>\n",
       "      <td>1</td>\n",
       "      <td>6</td>\n",
       "      <td>NaN</td>\n",
       "      <td>3</td>\n",
       "      <td>NaN</td>\n",
       "      <td>NaN</td>\n",
       "      <td>NaN</td>\n",
       "      <td>1</td>\n",
       "    </tr>\n",
       "    <tr>\n",
       "      <th>mean</th>\n",
       "      <td>342056.500000</td>\n",
       "      <td>NaN</td>\n",
       "      <td>NaN</td>\n",
       "      <td>39.000000</td>\n",
       "      <td>NaN</td>\n",
       "      <td>172.700000</td>\n",
       "      <td>67.300000</td>\n",
       "      <td>22.163000</td>\n",
       "      <td>NaN</td>\n",
       "    </tr>\n",
       "    <tr>\n",
       "      <th>std</th>\n",
       "      <td>117049.733168</td>\n",
       "      <td>NaN</td>\n",
       "      <td>NaN</td>\n",
       "      <td>15.202339</td>\n",
       "      <td>NaN</td>\n",
       "      <td>11.898179</td>\n",
       "      <td>17.807926</td>\n",
       "      <td>3.086555</td>\n",
       "      <td>NaN</td>\n",
       "    </tr>\n",
       "    <tr>\n",
       "      <th>min</th>\n",
       "      <td>185823.000000</td>\n",
       "      <td>NaN</td>\n",
       "      <td>NaN</td>\n",
       "      <td>19.000000</td>\n",
       "      <td>NaN</td>\n",
       "      <td>157.000000</td>\n",
       "      <td>48.000000</td>\n",
       "      <td>19.470000</td>\n",
       "      <td>NaN</td>\n",
       "    </tr>\n",
       "    <tr>\n",
       "      <th>25%</th>\n",
       "      <td>256861.500000</td>\n",
       "      <td>NaN</td>\n",
       "      <td>NaN</td>\n",
       "      <td>26.250000</td>\n",
       "      <td>NaN</td>\n",
       "      <td>163.750000</td>\n",
       "      <td>53.500000</td>\n",
       "      <td>19.952500</td>\n",
       "      <td>NaN</td>\n",
       "    </tr>\n",
       "    <tr>\n",
       "      <th>50%</th>\n",
       "      <td>335290.000000</td>\n",
       "      <td>NaN</td>\n",
       "      <td>NaN</td>\n",
       "      <td>38.000000</td>\n",
       "      <td>NaN</td>\n",
       "      <td>172.500000</td>\n",
       "      <td>60.000000</td>\n",
       "      <td>20.155000</td>\n",
       "      <td>NaN</td>\n",
       "    </tr>\n",
       "    <tr>\n",
       "      <th>75%</th>\n",
       "      <td>439582.750000</td>\n",
       "      <td>NaN</td>\n",
       "      <td>NaN</td>\n",
       "      <td>51.000000</td>\n",
       "      <td>NaN</td>\n",
       "      <td>180.250000</td>\n",
       "      <td>84.250000</td>\n",
       "      <td>24.925000</td>\n",
       "      <td>NaN</td>\n",
       "    </tr>\n",
       "    <tr>\n",
       "      <th>max</th>\n",
       "      <td>503546.000000</td>\n",
       "      <td>NaN</td>\n",
       "      <td>NaN</td>\n",
       "      <td>64.000000</td>\n",
       "      <td>NaN</td>\n",
       "      <td>193.000000</td>\n",
       "      <td>95.000000</td>\n",
       "      <td>27.460000</td>\n",
       "      <td>NaN</td>\n",
       "    </tr>\n",
       "  </tbody>\n",
       "</table>\n",
       "</div>"
      ],
      "text/plain": [
       "                   코드   이름   성별         연령  혈액형           키         체중  \\\n",
       "count       10.000000   10   10  10.000000   10   10.000000  10.000000   \n",
       "unique            NaN   10    2        NaN    4         NaN        NaN   \n",
       "top               NaN  신영웅    남        NaN    B         NaN        NaN   \n",
       "freq              NaN    1    6        NaN    3         NaN        NaN   \n",
       "mean    342056.500000  NaN  NaN  39.000000  NaN  172.700000  67.300000   \n",
       "std     117049.733168  NaN  NaN  15.202339  NaN   11.898179  17.807926   \n",
       "min     185823.000000  NaN  NaN  19.000000  NaN  157.000000  48.000000   \n",
       "25%     256861.500000  NaN  NaN  26.250000  NaN  163.750000  53.500000   \n",
       "50%     335290.000000  NaN  NaN  38.000000  NaN  172.500000  60.000000   \n",
       "75%     439582.750000  NaN  NaN  51.000000  NaN  180.250000  84.250000   \n",
       "max     503546.000000  NaN  NaN  64.000000  NaN  193.000000  95.000000   \n",
       "\n",
       "              BMI       운동시작일  \n",
       "count   10.000000           6  \n",
       "unique        NaN           6  \n",
       "top           NaN  2021-05-08  \n",
       "freq          NaN           1  \n",
       "mean    22.163000         NaN  \n",
       "std      3.086555         NaN  \n",
       "min     19.470000         NaN  \n",
       "25%     19.952500         NaN  \n",
       "50%     20.155000         NaN  \n",
       "75%     24.925000         NaN  \n",
       "max     27.460000         NaN  "
      ]
     },
     "execution_count": 122,
     "metadata": {},
     "output_type": "execute_result"
    }
   ],
   "source": [
    "df.describe(include='all') # 산술 데이터가 아닌 열 포함 기술 통계 정보 출력"
   ]
  },
  {
   "cell_type": "code",
   "execution_count": 123,
   "id": "63d83bfe",
   "metadata": {},
   "outputs": [
    {
     "data": {
      "text/plain": [
       "코드       10\n",
       "이름       10\n",
       "성별       10\n",
       "연령       10\n",
       "혈액형      10\n",
       "키        10\n",
       "체중       10\n",
       "BMI      10\n",
       "운동시작일     6\n",
       "dtype: int64"
      ]
     },
     "execution_count": 123,
     "metadata": {},
     "output_type": "execute_result"
    }
   ],
   "source": [
    "df.count()"
   ]
  },
  {
   "cell_type": "code",
   "execution_count": 124,
   "id": "e382f9cc",
   "metadata": {},
   "outputs": [
    {
     "data": {
      "text/plain": [
       "232305    1\n",
       "489602    1\n",
       "330531    1\n",
       "194563    1\n",
       "340037    1\n",
       "472358    1\n",
       "341257    1\n",
       "503546    1\n",
       "185823    1\n",
       "330543    1\n",
       "Name: 코드, dtype: int64"
      ]
     },
     "execution_count": 124,
     "metadata": {},
     "output_type": "execute_result"
    }
   ],
   "source": [
    "df['코드'].value_counts() # NAN 열을 포함한 개수 계산"
   ]
  },
  {
   "cell_type": "code",
   "execution_count": 125,
   "id": "b9b267d4",
   "metadata": {},
   "outputs": [
    {
     "data": {
      "text/plain": [
       "232305    1\n",
       "489602    1\n",
       "330531    1\n",
       "194563    1\n",
       "340037    1\n",
       "472358    1\n",
       "341257    1\n",
       "503546    1\n",
       "185823    1\n",
       "330543    1\n",
       "Name: 코드, dtype: int64"
      ]
     },
     "execution_count": 125,
     "metadata": {},
     "output_type": "execute_result"
    }
   ],
   "source": [
    "df['코드'].value_counts(dropna=True) # NAN 열은 제외한 개수 계산"
   ]
  },
  {
   "cell_type": "code",
   "execution_count": 130,
   "id": "d69d71c3",
   "metadata": {},
   "outputs": [
    {
     "data": {
      "text/plain": [
       "23.20    1\n",
       "19.47    1\n",
       "19.95    1\n",
       "27.46    1\n",
       "26.00    1\n",
       "20.11    1\n",
       "25.50    1\n",
       "20.20    1\n",
       "19.96    1\n",
       "19.78    1\n",
       "Name: BMI, dtype: int64"
      ]
     },
     "execution_count": 130,
     "metadata": {},
     "output_type": "execute_result"
    }
   ],
   "source": [
    "df['BMI'].value_counts()"
   ]
  },
  {
   "cell_type": "markdown",
   "id": "139f50a4",
   "metadata": {},
   "source": [
    "### 미니 프로젝트2"
   ]
  },
  {
   "cell_type": "code",
   "execution_count": 133,
   "id": "0a3b5a10",
   "metadata": {},
   "outputs": [
    {
     "data": {
      "text/html": [
       "<div>\n",
       "<style scoped>\n",
       "    .dataframe tbody tr th:only-of-type {\n",
       "        vertical-align: middle;\n",
       "    }\n",
       "\n",
       "    .dataframe tbody tr th {\n",
       "        vertical-align: top;\n",
       "    }\n",
       "\n",
       "    .dataframe thead th {\n",
       "        text-align: right;\n",
       "    }\n",
       "</style>\n",
       "<table border=\"1\" class=\"dataframe\">\n",
       "  <thead>\n",
       "    <tr style=\"text-align: right;\">\n",
       "      <th></th>\n",
       "      <th>코드</th>\n",
       "      <th>이름</th>\n",
       "      <th>성별</th>\n",
       "      <th>연령</th>\n",
       "      <th>혈액형</th>\n",
       "      <th>키</th>\n",
       "      <th>체중</th>\n",
       "      <th>BMI</th>\n",
       "      <th>운동시작일</th>\n",
       "    </tr>\n",
       "  </thead>\n",
       "  <tbody>\n",
       "    <tr>\n",
       "      <th>0</th>\n",
       "      <td>330531</td>\n",
       "      <td>이겨레</td>\n",
       "      <td>남</td>\n",
       "      <td>26</td>\n",
       "      <td>A</td>\n",
       "      <td>181</td>\n",
       "      <td>76</td>\n",
       "      <td>23.20</td>\n",
       "      <td>2021-01-01</td>\n",
       "    </tr>\n",
       "    <tr>\n",
       "      <th>1</th>\n",
       "      <td>340037</td>\n",
       "      <td>조약돌</td>\n",
       "      <td>여</td>\n",
       "      <td>25</td>\n",
       "      <td>B</td>\n",
       "      <td>185</td>\n",
       "      <td>89</td>\n",
       "      <td>26.00</td>\n",
       "      <td>2020-12-25</td>\n",
       "    </tr>\n",
       "    <tr>\n",
       "      <th>2</th>\n",
       "      <td>194563</td>\n",
       "      <td>강산애</td>\n",
       "      <td>남</td>\n",
       "      <td>27</td>\n",
       "      <td>A</td>\n",
       "      <td>177</td>\n",
       "      <td>63</td>\n",
       "      <td>20.11</td>\n",
       "      <td>NaN</td>\n",
       "    </tr>\n",
       "    <tr>\n",
       "      <th>3</th>\n",
       "      <td>503546</td>\n",
       "      <td>원미연</td>\n",
       "      <td>여</td>\n",
       "      <td>48</td>\n",
       "      <td>O</td>\n",
       "      <td>166</td>\n",
       "      <td>55</td>\n",
       "      <td>19.96</td>\n",
       "      <td>2021-03-05</td>\n",
       "    </tr>\n",
       "    <tr>\n",
       "      <th>4</th>\n",
       "      <td>330543</td>\n",
       "      <td>오대양</td>\n",
       "      <td>남</td>\n",
       "      <td>31</td>\n",
       "      <td>AB</td>\n",
       "      <td>193</td>\n",
       "      <td>95</td>\n",
       "      <td>25.50</td>\n",
       "      <td>NaN</td>\n",
       "    </tr>\n",
       "    <tr>\n",
       "      <th>5</th>\n",
       "      <td>341257</td>\n",
       "      <td>송가인</td>\n",
       "      <td>여</td>\n",
       "      <td>45</td>\n",
       "      <td>O</td>\n",
       "      <td>157</td>\n",
       "      <td>48</td>\n",
       "      <td>19.47</td>\n",
       "      <td>NaN</td>\n",
       "    </tr>\n",
       "    <tr>\n",
       "      <th>6</th>\n",
       "      <td>472358</td>\n",
       "      <td>성공찬</td>\n",
       "      <td>여</td>\n",
       "      <td>53</td>\n",
       "      <td>B</td>\n",
       "      <td>159</td>\n",
       "      <td>50</td>\n",
       "      <td>19.78</td>\n",
       "      <td>1997-10-24</td>\n",
       "    </tr>\n",
       "    <tr>\n",
       "      <th>7</th>\n",
       "      <td>185823</td>\n",
       "      <td>황산성</td>\n",
       "      <td>남</td>\n",
       "      <td>52</td>\n",
       "      <td>B</td>\n",
       "      <td>178</td>\n",
       "      <td>87</td>\n",
       "      <td>27.46</td>\n",
       "      <td>NaN</td>\n",
       "    </tr>\n",
       "    <tr>\n",
       "      <th>8</th>\n",
       "      <td>232305</td>\n",
       "      <td>신영웅</td>\n",
       "      <td>남</td>\n",
       "      <td>19</td>\n",
       "      <td>AB</td>\n",
       "      <td>163</td>\n",
       "      <td>53</td>\n",
       "      <td>19.95</td>\n",
       "      <td>2021-05-08</td>\n",
       "    </tr>\n",
       "    <tr>\n",
       "      <th>9</th>\n",
       "      <td>489602</td>\n",
       "      <td>최고봉</td>\n",
       "      <td>남</td>\n",
       "      <td>64</td>\n",
       "      <td>A</td>\n",
       "      <td>168</td>\n",
       "      <td>57</td>\n",
       "      <td>20.20</td>\n",
       "      <td>1988-08-15</td>\n",
       "    </tr>\n",
       "  </tbody>\n",
       "</table>\n",
       "</div>"
      ],
      "text/plain": [
       "       코드   이름 성별  연령 혈액형    키  체중    BMI       운동시작일\n",
       "0  330531  이겨레  남  26   A  181  76  23.20  2021-01-01\n",
       "1  340037  조약돌  여  25   B  185  89  26.00  2020-12-25\n",
       "2  194563  강산애  남  27   A  177  63  20.11         NaN\n",
       "3  503546  원미연  여  48   O  166  55  19.96  2021-03-05\n",
       "4  330543  오대양  남  31  AB  193  95  25.50         NaN\n",
       "5  341257  송가인  여  45   O  157  48  19.47         NaN\n",
       "6  472358  성공찬  여  53   B  159  50  19.78  1997-10-24\n",
       "7  185823  황산성  남  52   B  178  87  27.46         NaN\n",
       "8  232305  신영웅  남  19  AB  163  53  19.95  2021-05-08\n",
       "9  489602  최고봉  남  64   A  168  57  20.20  1988-08-15"
      ]
     },
     "execution_count": 133,
     "metadata": {},
     "output_type": "execute_result"
    }
   ],
   "source": [
    "target = pd.read_csv('./data/member.csv')\n",
    "df = pd.DataFrame(target)\n",
    "df"
   ]
  },
  {
   "cell_type": "code",
   "execution_count": 142,
   "id": "1f7d1008",
   "metadata": {},
   "outputs": [
    {
     "data": {
      "text/plain": [
       "BMI\n",
       "19.47    1\n",
       "19.78    1\n",
       "19.95    1\n",
       "19.96    1\n",
       "20.11    1\n",
       "20.20    1\n",
       "23.20    1\n",
       "25.50    1\n",
       "26.00    1\n",
       "27.46    1\n",
       "dtype: int64"
      ]
     },
     "execution_count": 142,
     "metadata": {},
     "output_type": "execute_result"
    }
   ],
   "source": [
    "a = df.value_counts('BMI')\n",
    "a"
   ]
  },
  {
   "cell_type": "code",
   "execution_count": 145,
   "id": "9fc54c18",
   "metadata": {},
   "outputs": [
    {
     "data": {
      "text/plain": [
       "dtype('float64')"
      ]
     },
     "execution_count": 145,
     "metadata": {},
     "output_type": "execute_result"
    }
   ],
   "source": [
    "df.BMI.dtype"
   ]
  },
  {
   "cell_type": "code",
   "execution_count": 146,
   "id": "f0e3d49b",
   "metadata": {},
   "outputs": [
    {
     "data": {
      "text/plain": [
       "dtype('int64')"
      ]
     },
     "execution_count": 146,
     "metadata": {},
     "output_type": "execute_result"
    }
   ],
   "source": [
    "a.dtype"
   ]
  },
  {
   "cell_type": "markdown",
   "id": "fc55f7a1",
   "metadata": {},
   "source": [
    "### 값 산출"
   ]
  },
  {
   "cell_type": "code",
   "execution_count": 149,
   "id": "61fa589a",
   "metadata": {},
   "outputs": [
    {
     "data": {
      "text/plain": [
       "코드     342056.500\n",
       "연령         39.000\n",
       "키         172.700\n",
       "체중         67.300\n",
       "BMI        22.163\n",
       "dtype: float64"
      ]
     },
     "execution_count": 149,
     "metadata": {},
     "output_type": "execute_result"
    }
   ],
   "source": [
    "df.mean() # 평균값"
   ]
  },
  {
   "cell_type": "code",
   "execution_count": 150,
   "id": "9af6dcc6",
   "metadata": {},
   "outputs": [
    {
     "data": {
      "text/plain": [
       "22.163"
      ]
     },
     "execution_count": 150,
     "metadata": {},
     "output_type": "execute_result"
    }
   ],
   "source": [
    "df['BMI'].mean()"
   ]
  },
  {
   "cell_type": "code",
   "execution_count": 151,
   "id": "74d72f0c",
   "metadata": {},
   "outputs": [
    {
     "data": {
      "text/plain": [
       "키     172.7\n",
       "체중     67.3\n",
       "dtype: float64"
      ]
     },
     "execution_count": 151,
     "metadata": {},
     "output_type": "execute_result"
    }
   ],
   "source": [
    "df[['키','체중']].mean()"
   ]
  },
  {
   "cell_type": "code",
   "execution_count": 152,
   "id": "76118685",
   "metadata": {},
   "outputs": [
    {
     "data": {
      "text/plain": [
       "20.155"
      ]
     },
     "execution_count": 152,
     "metadata": {},
     "output_type": "execute_result"
    }
   ],
   "source": [
    "# 중간값 산출하기\n",
    "df['BMI'].median()"
   ]
  },
  {
   "cell_type": "code",
   "execution_count": 153,
   "id": "71efa661",
   "metadata": {},
   "outputs": [
    {
     "data": {
      "text/plain": [
       "키     172.5\n",
       "체중     60.0\n",
       "dtype: float64"
      ]
     },
     "execution_count": 153,
     "metadata": {},
     "output_type": "execute_result"
    }
   ],
   "source": [
    "df[['키','체중']].median()"
   ]
  },
  {
   "cell_type": "code",
   "execution_count": 154,
   "id": "7f16dbc4",
   "metadata": {},
   "outputs": [
    {
     "data": {
      "text/plain": [
       "코드     335290.000\n",
       "연령         38.000\n",
       "키         172.500\n",
       "체중         60.000\n",
       "BMI        20.155\n",
       "dtype: float64"
      ]
     },
     "execution_count": 154,
     "metadata": {},
     "output_type": "execute_result"
    }
   ],
   "source": [
    "df.median()"
   ]
  },
  {
   "cell_type": "markdown",
   "id": "aa065c07",
   "metadata": {},
   "source": [
    "### 미니 프로젝트3"
   ]
  },
  {
   "cell_type": "code",
   "execution_count": 156,
   "id": "a7b2dc05",
   "metadata": {},
   "outputs": [
    {
     "data": {
      "text/plain": [
       "172.7"
      ]
     },
     "execution_count": 156,
     "metadata": {},
     "output_type": "execute_result"
    }
   ],
   "source": [
    "height = df['키'].mean()\n",
    "height"
   ]
  },
  {
   "cell_type": "code",
   "execution_count": 157,
   "id": "3090f543",
   "metadata": {},
   "outputs": [
    {
     "data": {
      "text/plain": [
       "60.0"
      ]
     },
     "execution_count": 157,
     "metadata": {},
     "output_type": "execute_result"
    }
   ],
   "source": [
    "weight = df['체중'].median()\n",
    "weight"
   ]
  },
  {
   "cell_type": "code",
   "execution_count": 158,
   "id": "8afaceb0",
   "metadata": {},
   "outputs": [
    {
     "data": {
      "text/plain": [
       "코드     503546\n",
       "이름        황산성\n",
       "성별          여\n",
       "연령         64\n",
       "혈액형         O\n",
       "키         193\n",
       "체중         95\n",
       "BMI     27.46\n",
       "dtype: object"
      ]
     },
     "execution_count": 158,
     "metadata": {},
     "output_type": "execute_result"
    }
   ],
   "source": [
    "df.max()"
   ]
  },
  {
   "cell_type": "code",
   "execution_count": 159,
   "id": "b81e926f",
   "metadata": {},
   "outputs": [
    {
     "data": {
      "text/plain": [
       "64"
      ]
     },
     "execution_count": 159,
     "metadata": {},
     "output_type": "execute_result"
    }
   ],
   "source": [
    "df['연령'].max()"
   ]
  },
  {
   "cell_type": "code",
   "execution_count": 160,
   "id": "ea09332b",
   "metadata": {},
   "outputs": [
    {
     "data": {
      "text/plain": [
       "키     193\n",
       "체중     95\n",
       "dtype: int64"
      ]
     },
     "execution_count": 160,
     "metadata": {},
     "output_type": "execute_result"
    }
   ],
   "source": [
    "df[['키','체중']].max()"
   ]
  },
  {
   "cell_type": "code",
   "execution_count": 161,
   "id": "ba92620d",
   "metadata": {},
   "outputs": [
    {
     "data": {
      "text/plain": [
       "코드     117049.733168\n",
       "연령         15.202339\n",
       "키          11.898179\n",
       "체중         17.807926\n",
       "BMI         3.086555\n",
       "dtype: float64"
      ]
     },
     "execution_count": 161,
     "metadata": {},
     "output_type": "execute_result"
    }
   ],
   "source": [
    "df.std() # 표쥰편차"
   ]
  },
  {
   "cell_type": "code",
   "execution_count": 163,
   "id": "e9ea5d8b",
   "metadata": {},
   "outputs": [
    {
     "data": {
      "text/plain": [
       "키      11.898179\n",
       "BMI     3.086555\n",
       "dtype: float64"
      ]
     },
     "execution_count": 163,
     "metadata": {},
     "output_type": "execute_result"
    }
   ],
   "source": [
    "df[['키','BMI']].std()"
   ]
  },
  {
   "cell_type": "code",
   "execution_count": 164,
   "id": "feeb11b7",
   "metadata": {},
   "outputs": [
    {
     "data": {
      "text/html": [
       "<div>\n",
       "<style scoped>\n",
       "    .dataframe tbody tr th:only-of-type {\n",
       "        vertical-align: middle;\n",
       "    }\n",
       "\n",
       "    .dataframe tbody tr th {\n",
       "        vertical-align: top;\n",
       "    }\n",
       "\n",
       "    .dataframe thead th {\n",
       "        text-align: right;\n",
       "    }\n",
       "</style>\n",
       "<table border=\"1\" class=\"dataframe\">\n",
       "  <thead>\n",
       "    <tr style=\"text-align: right;\">\n",
       "      <th></th>\n",
       "      <th>코드</th>\n",
       "      <th>연령</th>\n",
       "      <th>키</th>\n",
       "      <th>체중</th>\n",
       "      <th>BMI</th>\n",
       "    </tr>\n",
       "  </thead>\n",
       "  <tbody>\n",
       "    <tr>\n",
       "      <th>코드</th>\n",
       "      <td>1.000000</td>\n",
       "      <td>0.572318</td>\n",
       "      <td>-0.343057</td>\n",
       "      <td>-0.377510</td>\n",
       "      <td>-0.397892</td>\n",
       "    </tr>\n",
       "    <tr>\n",
       "      <th>연령</th>\n",
       "      <td>0.572318</td>\n",
       "      <td>1.000000</td>\n",
       "      <td>-0.426925</td>\n",
       "      <td>-0.316438</td>\n",
       "      <td>-0.176555</td>\n",
       "    </tr>\n",
       "    <tr>\n",
       "      <th>키</th>\n",
       "      <td>-0.343057</td>\n",
       "      <td>-0.426925</td>\n",
       "      <td>1.000000</td>\n",
       "      <td>0.942296</td>\n",
       "      <td>0.796228</td>\n",
       "    </tr>\n",
       "    <tr>\n",
       "      <th>체중</th>\n",
       "      <td>-0.377510</td>\n",
       "      <td>-0.316438</td>\n",
       "      <td>0.942296</td>\n",
       "      <td>1.000000</td>\n",
       "      <td>0.950220</td>\n",
       "    </tr>\n",
       "    <tr>\n",
       "      <th>BMI</th>\n",
       "      <td>-0.397892</td>\n",
       "      <td>-0.176555</td>\n",
       "      <td>0.796228</td>\n",
       "      <td>0.950220</td>\n",
       "      <td>1.000000</td>\n",
       "    </tr>\n",
       "  </tbody>\n",
       "</table>\n",
       "</div>"
      ],
      "text/plain": [
       "           코드        연령         키        체중       BMI\n",
       "코드   1.000000  0.572318 -0.343057 -0.377510 -0.397892\n",
       "연령   0.572318  1.000000 -0.426925 -0.316438 -0.176555\n",
       "키   -0.343057 -0.426925  1.000000  0.942296  0.796228\n",
       "체중  -0.377510 -0.316438  0.942296  1.000000  0.950220\n",
       "BMI -0.397892 -0.176555  0.796228  0.950220  1.000000"
      ]
     },
     "execution_count": 164,
     "metadata": {},
     "output_type": "execute_result"
    }
   ],
   "source": [
    "df.corr() # 상관 계수"
   ]
  },
  {
   "cell_type": "code",
   "execution_count": 167,
   "id": "42eb5990",
   "metadata": {},
   "outputs": [
    {
     "data": {
      "text/html": [
       "<div>\n",
       "<style scoped>\n",
       "    .dataframe tbody tr th:only-of-type {\n",
       "        vertical-align: middle;\n",
       "    }\n",
       "\n",
       "    .dataframe tbody tr th {\n",
       "        vertical-align: top;\n",
       "    }\n",
       "\n",
       "    .dataframe thead th {\n",
       "        text-align: right;\n",
       "    }\n",
       "</style>\n",
       "<table border=\"1\" class=\"dataframe\">\n",
       "  <thead>\n",
       "    <tr style=\"text-align: right;\">\n",
       "      <th></th>\n",
       "      <th>키</th>\n",
       "      <th>체중</th>\n",
       "    </tr>\n",
       "  </thead>\n",
       "  <tbody>\n",
       "    <tr>\n",
       "      <th>키</th>\n",
       "      <td>1.000000</td>\n",
       "      <td>0.942296</td>\n",
       "    </tr>\n",
       "    <tr>\n",
       "      <th>체중</th>\n",
       "      <td>0.942296</td>\n",
       "      <td>1.000000</td>\n",
       "    </tr>\n",
       "  </tbody>\n",
       "</table>\n",
       "</div>"
      ],
      "text/plain": [
       "           키        체중\n",
       "키   1.000000  0.942296\n",
       "체중  0.942296  1.000000"
      ]
     },
     "execution_count": 167,
     "metadata": {},
     "output_type": "execute_result"
    }
   ],
   "source": [
    "df[['키','체중']].corr()"
   ]
  },
  {
   "cell_type": "markdown",
   "id": "6092918f",
   "metadata": {},
   "source": [
    "### 미니 프로젝트3"
   ]
  },
  {
   "cell_type": "code",
   "execution_count": 168,
   "id": "cae29590",
   "metadata": {},
   "outputs": [
    {
     "data": {
      "text/plain": [
       "3.0865552535688283"
      ]
     },
     "execution_count": 168,
     "metadata": {},
     "output_type": "execute_result"
    }
   ],
   "source": [
    "df['BMI'].std()"
   ]
  },
  {
   "cell_type": "code",
   "execution_count": 169,
   "id": "1b985fe9",
   "metadata": {},
   "outputs": [
    {
     "data": {
      "text/html": [
       "<div>\n",
       "<style scoped>\n",
       "    .dataframe tbody tr th:only-of-type {\n",
       "        vertical-align: middle;\n",
       "    }\n",
       "\n",
       "    .dataframe tbody tr th {\n",
       "        vertical-align: top;\n",
       "    }\n",
       "\n",
       "    .dataframe thead th {\n",
       "        text-align: right;\n",
       "    }\n",
       "</style>\n",
       "<table border=\"1\" class=\"dataframe\">\n",
       "  <thead>\n",
       "    <tr style=\"text-align: right;\">\n",
       "      <th></th>\n",
       "      <th>연령</th>\n",
       "      <th>체중</th>\n",
       "    </tr>\n",
       "  </thead>\n",
       "  <tbody>\n",
       "    <tr>\n",
       "      <th>연령</th>\n",
       "      <td>1.000000</td>\n",
       "      <td>-0.316438</td>\n",
       "    </tr>\n",
       "    <tr>\n",
       "      <th>체중</th>\n",
       "      <td>-0.316438</td>\n",
       "      <td>1.000000</td>\n",
       "    </tr>\n",
       "  </tbody>\n",
       "</table>\n",
       "</div>"
      ],
      "text/plain": [
       "          연령        체중\n",
       "연령  1.000000 -0.316438\n",
       "체중 -0.316438  1.000000"
      ]
     },
     "execution_count": 169,
     "metadata": {},
     "output_type": "execute_result"
    }
   ],
   "source": [
    "df[['연령','체중']].corr()"
   ]
  },
  {
   "cell_type": "code",
   "execution_count": null,
   "id": "0f5b2d6d",
   "metadata": {},
   "outputs": [],
   "source": []
  }
 ],
 "metadata": {
  "kernelspec": {
   "display_name": "Python 3",
   "language": "python",
   "name": "python3"
  },
  "language_info": {
   "codemirror_mode": {
    "name": "ipython",
    "version": 3
   },
   "file_extension": ".py",
   "mimetype": "text/x-python",
   "name": "python",
   "nbconvert_exporter": "python",
   "pygments_lexer": "ipython3",
   "version": "3.8.8"
  },
  "toc": {
   "base_numbering": 1,
   "nav_menu": {},
   "number_sections": true,
   "sideBar": true,
   "skip_h1_title": false,
   "title_cell": "Table of Contents",
   "title_sidebar": "Contents",
   "toc_cell": false,
   "toc_position": {},
   "toc_section_display": true,
   "toc_window_display": true
  }
 },
 "nbformat": 4,
 "nbformat_minor": 5
}

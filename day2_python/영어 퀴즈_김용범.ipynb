{
 "cells": [
  {
   "cell_type": "code",
   "execution_count": 1,
   "id": "e9562fd8",
   "metadata": {},
   "outputs": [
    {
     "name": "stdout",
     "output_type": "stream",
     "text": [
      "Write the following sentence in English.\n",
      "\n",
      "그들은 교실에 있다. \n",
      "\n",
      "your answer : d\n",
      "========================================\n",
      "result: Not correct!\n",
      "right answer: They are in the classroom.\n"
     ]
    }
   ],
   "source": [
    "f = open(\"/Users/gim-yongbeom/jupyter(practice)/day2/ko_en.txt\",\"r\")\n",
    "import random\n",
    "print(\"Write the following sentence in English.\\n\")\n",
    "quiz = f.readlines()[1:]\n",
    "ko=[]\n",
    "en=[]\n",
    "for i in quiz:\n",
    "    i = i.split(\"\\t\")    # \\t : 수평 탭\n",
    "    ko.append(i[0])\n",
    "    en.append(i[1][:-1])\n",
    "num = random.randint(0,len(ko))\n",
    "print(ko[num],\"\\n\")\n",
    "answer = input(\"your answer : \")\n",
    "print(\"=\"*40)\n",
    "if answer == en[num]:\n",
    "    print(\"result : Correct!\")\n",
    "else:\n",
    "    print(\"result: Not correct!\")\n",
    "    print(\"right answer:\", en[num])"
   ]
  },
  {
   "cell_type": "code",
   "execution_count": null,
   "id": "8ce610c4",
   "metadata": {},
   "outputs": [
    {
     "name": "stdout",
     "output_type": "stream",
     "text": [
      "Write the following sentence in English.\n",
      "그들은 뉴욕에 있지 않다.\n",
      "\n",
      "your answer: asd\n",
      "\n",
      "result: Not correct!\n",
      "right answer:They are not in New York.\n",
      "\n",
      "--------------------------------------------------------------------------------\n",
      "Write the following sentence in English.\n",
      "그들은 친절하지 않다.\n"
     ]
    }
   ],
   "source": [
    "import random\n",
    "\n",
    "d = dict()\n",
    "\n",
    "with open('ko_en.txt') as f:\n",
    "    for line in f.readlines()[1:]:\n",
    "        k, v = tuple(line.split('\\t'))\n",
    "        d[k] = v\n",
    "\n",
    "quiz = list(d.keys())\n",
    "random.shuffle(quiz)\n",
    "\n",
    "while True:\n",
    "    if len(quiz) == 0:\n",
    "        break\n",
    "    \n",
    "    q = quiz.pop()\n",
    "    print(\"Write the following sentence in English.\")\n",
    "    print(q)\n",
    "    a = input(\"\\nyour answer: \")\n",
    "\n",
    "    if a == d[q].rstrip():\n",
    "        print('\\nresult: Correct!')\n",
    "        break\n",
    "    else:\n",
    "        print(\"\\nresult: Not correct!\")\n",
    "        print(\"right answer:\" + d[q].rstrip() + '\\n')\n",
    "\n",
    "    print('-' * 80)"
   ]
  },
  {
   "cell_type": "code",
   "execution_count": null,
   "id": "ea6a80d6",
   "metadata": {},
   "outputs": [],
   "source": []
  }
 ],
 "metadata": {
  "kernelspec": {
   "display_name": "Python 3",
   "language": "python",
   "name": "python3"
  },
  "language_info": {
   "codemirror_mode": {
    "name": "ipython",
    "version": 3
   },
   "file_extension": ".py",
   "mimetype": "text/x-python",
   "name": "python",
   "nbconvert_exporter": "python",
   "pygments_lexer": "ipython3",
   "version": "3.8.8"
  }
 },
 "nbformat": 4,
 "nbformat_minor": 5
}

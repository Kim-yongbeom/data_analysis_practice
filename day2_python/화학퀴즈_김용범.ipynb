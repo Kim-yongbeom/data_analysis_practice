{
 "cells": [
  {
   "cell_type": "code",
   "execution_count": 2,
   "id": "31b7b74e",
   "metadata": {},
   "outputs": [
    {
     "name": "stdout",
     "output_type": "stream",
     "text": [
      "10 70 \n",
      "22\n",
      "999\n",
      "Nothing to report\n",
      "22\n",
      "999\n",
      "Nothing to report\n",
      "9\n",
      "999\n",
      "ALERT!\n"
     ]
    }
   ],
   "source": [
    "n = list(map(int, input().split()))\n",
    "# input()을 받고 공백을 기준으로 split()해줌\n",
    "# 위처럼 받으면 str형이니까 map함수를 이용해서 int형으로 바꿔줌\n",
    "# 그걸 list()를 써서 배열로 만듬\n",
    "\n",
    "n.sort() # 최대, 최소중에 뭐가 먼저 입력될지 모르니까 정렬해줌\n",
    "\n",
    "while True: # 15초마다 값이 계속 들어올 예정이니까 while True로 무한반복\n",
    "    temp = int(input())\n",
    "    print(\"999\")\n",
    "    if(n[0]<= temp <= n[1]): \n",
    "        # 원래 변수가 왼쪽에 있어서 temp >= n[0] and temp <= n[1] 으로 해야되는데\n",
    "        # 파이썬은 이렇게해도됨\n",
    "        print(\"Nothing to report\")\n",
    "    else:\n",
    "        print(\"ALERT!\")\n",
    "        break"
   ]
  },
  {
   "cell_type": "code",
   "execution_count": 17,
   "id": "5f597a61",
   "metadata": {},
   "outputs": [
    {
     "name": "stdout",
     "output_type": "stream",
     "text": [
      "10 80\n",
      "Nothing to report (41`C)\n",
      "Nothing to report (50`C)\n",
      "Nothing to report (41`C)\n",
      "Nothing to report (11`C)\n",
      "Nothing to report (30`C)\n",
      "Alert! (6`C)\n"
     ]
    }
   ],
   "source": [
    "# 내 코드\n",
    "import random\n",
    "from time import sleep\n",
    "n = list(map(int,input().split()))\n",
    "n.sort()\n",
    "\n",
    "while True:\n",
    "    ondo = random.randint(0, 100)\n",
    "    \n",
    "    if ondo>=n[0] and ondo<=n[1]:\n",
    "        print(\"Nothing to report (%d`C)\" %ondo)\n",
    "        sleep(1.5)\n",
    "    else:\n",
    "        print(\"Alert! (%d`C)\" %ondo)\n",
    "        break\n",
    "    \n",
    "        "
   ]
  },
  {
   "cell_type": "code",
   "execution_count": null,
   "id": "d5bf9b82",
   "metadata": {},
   "outputs": [],
   "source": []
  }
 ],
 "metadata": {
  "kernelspec": {
   "display_name": "Python 3",
   "language": "python",
   "name": "python3"
  },
  "language_info": {
   "codemirror_mode": {
    "name": "ipython",
    "version": 3
   },
   "file_extension": ".py",
   "mimetype": "text/x-python",
   "name": "python",
   "nbconvert_exporter": "python",
   "pygments_lexer": "ipython3",
   "version": "3.8.8"
  }
 },
 "nbformat": 4,
 "nbformat_minor": 5
}

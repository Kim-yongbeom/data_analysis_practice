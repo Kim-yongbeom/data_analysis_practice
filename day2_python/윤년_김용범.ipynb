{
 "cells": [
  {
   "cell_type": "code",
   "execution_count": 13,
   "id": "61616c9b",
   "metadata": {},
   "outputs": [
    {
     "name": "stdout",
     "output_type": "stream",
     "text": [
      "123123\n",
      "평년 입니다\n"
     ]
    }
   ],
   "source": [
    "# 윤년 계산\n",
    "while True:\n",
    "    year = int(input())\n",
    "    if (year%4)==0:               # 4년만 이면 윤년\n",
    "        if(year%100)==0:          # 4년 and 100년 평년\n",
    "            print(\"평년 입니다\")\n",
    "            break\n",
    "            if(year%400)==0:      # 4 and 100 and 400 이면 윤년\n",
    "                print(\"윤년 입니다\")\n",
    "                break\n",
    "        print(\"윤년 입니다\")\n",
    "        break\n",
    "    else:                         # 아무 조건 아니면 평년\n",
    "        print(\"평년 입니다\")\n",
    "        break"
   ]
  },
  {
   "cell_type": "code",
   "execution_count": null,
   "id": "606f4ede",
   "metadata": {},
   "outputs": [],
   "source": []
  }
 ],
 "metadata": {
  "kernelspec": {
   "display_name": "Python 3",
   "language": "python",
   "name": "python3"
  },
  "language_info": {
   "codemirror_mode": {
    "name": "ipython",
    "version": 3
   },
   "file_extension": ".py",
   "mimetype": "text/x-python",
   "name": "python",
   "nbconvert_exporter": "python",
   "pygments_lexer": "ipython3",
   "version": "3.8.8"
  }
 },
 "nbformat": 4,
 "nbformat_minor": 5
}
